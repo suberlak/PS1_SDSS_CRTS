{
 "cells": [
  {
   "cell_type": "markdown",
   "metadata": {},
   "source": [
    "* first need to actually  get CRTS, PS1, PTF, ZTF light curves for SDSS S82 QSOs get CRTS, PS1, PTF, ZTF photometry for S82 standard stars,  find offsets , combine quasar light curves with / without offsets:\n",
    " * `/code2/Get_ZTF_quasar_data.ipynb` \n",
    " * `/code2/Get_PS1_DR2_Quasar_data.ipynb`\n",
    " * `/code2/SDSS_PS1_DR2_stellar_offsets,ipynb`\n",
    " \n",
    "* then illustrate the extent of quasar  light curves from each survey with  `/code2/Survey_simulation.ipynb`"
   ]
  },
  {
   "cell_type": "markdown",
   "metadata": {},
   "source": [
    "# Fig.2 : Survey baseline "
   ]
  },
  {
   "cell_type": "markdown",
   "metadata": {},
   "source": [
    "<img src='figs/fig02.pdf'></img>"
   ]
  },
  {
   "cell_type": "markdown",
   "metadata": {},
   "source": [
    "We explore the light curve baseline coverage, using the simulated light curves, since they reflect the r-band combined light curves. The same would be achieved from real combined LCs. "
   ]
  },
  {
   "cell_type": "code",
   "execution_count": 1,
   "metadata": {
    "collapsed": true
   },
   "outputs": [],
   "source": [
    "import numpy as np\n",
    "import matplotlib.pyplot as plt \n",
    "import matplotlib.dates as mdates\n",
    "import matplotlib.patches as patches\n",
    "import seaborn as sns \n",
    "import os\n",
    "import pandas as pd \n",
    "from astropy.table import Table\n",
    "from astropy.coordinates import SkyCoord\n",
    "from astropy import units as u\n",
    "from astropy.table import  hstack\n",
    "from astropy.table import  vstack\n",
    "from astropy.table import unique\n",
    "from astropy.table import Column\n",
    "from astropy.table import join\n",
    "from astropy.time import Time\n",
    "from matplotlib import rcParams \n",
    "rcParams['ytick.labelsize'] = 15\n",
    "rcParams['xtick.labelsize'] = 15\n",
    "rcParams['axes.labelsize'] = 20\n",
    "rcParams['axes.linewidth'] = 2\n",
    "rcParams['font.size'] = 15\n",
    "rcParams['axes.titlesize'] = 18\n",
    "\n",
    "realDir = '../data_products/Combined_LC/'\n",
    "realLcs =  os.listdir(realDir)"
   ]
  },
  {
   "cell_type": "markdown",
   "metadata": {},
   "source": [
    "Find out the extent of each light curve...."
   ]
  },
  {
   "cell_type": "code",
   "execution_count": null,
   "metadata": {
    "collapsed": true
   },
   "outputs": [],
   "source": [
    "stats = {'lcname':[] }\n",
    "segs = ['lsst', 'ps1',  'sdss', 'ztf', 'ptf', 'crts']\n",
    "for s in segs: \n",
    "    for i in '12':\n",
    "        stats['t'+i+s] = np.zeros(len(realLcs), dtype=int)\n",
    "    \n",
    "for i in range(len(realLcs)) : \n",
    "    if i % 1000 == 0 : print(i)\n",
    "    lcname = realLcs[i]\n",
    "    lc_obs = Table.read(obsDir+lcname, format='ascii',)\n",
    "    stats['lcname'].append(lcname)\n",
    "    for s in segs : \n",
    "        m = lc_obs['originSurvey'] == s\n",
    "        if np.sum(m) > 0 : \n",
    "            stats['t1'+ s ][i] = min(lc_obs[m]['mjd'])\n",
    "            stats['t2'+ s ][i] = max(lc_obs[m]['mjd'])\n",
    "fname = 'sim_subsampled2_baselines'\n",
    "np.save(fname, stats)"
   ]
  }
 ],
 "metadata": {
  "kernelspec": {
   "display_name": "Python 3",
   "language": "python",
   "name": "python3"
  },
  "language_info": {
   "codemirror_mode": {
    "name": "ipython",
    "version": 3
   },
   "file_extension": ".py",
   "mimetype": "text/x-python",
   "name": "python",
   "nbconvert_exporter": "python",
   "pygments_lexer": "ipython3",
   "version": "3.6.2"
  }
 },
 "nbformat": 4,
 "nbformat_minor": 2
}
