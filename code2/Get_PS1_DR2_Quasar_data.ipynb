{
 "cells": [
  {
   "cell_type": "markdown",
   "metadata": {},
   "source": [
    "# Get PS1 DR2 Quasar data "
   ]
  },
  {
   "cell_type": "markdown",
   "metadata": {},
   "source": [
    "Taking the 9258  S82 QSO from SDSS (DBQSO). Seek to find the PS1, PTF, CRTS, data.   Copied only what was necessary to get PS1 light curves from `Crossmatch_SDSS_to_all.ipynb` ... "
   ]
  },
  {
   "cell_type": "code",
   "execution_count": 1,
   "metadata": {
    "collapsed": true
   },
   "outputs": [],
   "source": [
    "import numpy as np\n",
    "import matplotlib.pyplot as plt \n",
    "import os\n",
    "import pandas as pd \n",
    "from astropy.table import Table\n",
    "from astropy.coordinates import SkyCoord\n",
    "from astropy import units as u\n",
    "from astropy.table import  hstack\n",
    "from astropy.table import  vstack\n",
    "from astropy.table import Column\n",
    "from astropy.table import join\n",
    "from matplotlib import rcParams \n",
    "rcParams['ytick.labelsize'] = 15\n",
    "rcParams['xtick.labelsize'] = 15\n",
    "rcParams['axes.labelsize'] = 20\n",
    "rcParams['axes.linewidth'] = 2\n",
    "rcParams['font.size'] = 15\n",
    "rcParams['axes.titlesize'] = 18"
   ]
  },
  {
   "cell_type": "markdown",
   "metadata": {},
   "source": [
    "Get the DR7 list of SDSS S82 quasars :\n",
    "    \n",
    "    "
   ]
  },
  {
   "cell_type": "code",
   "execution_count": null,
   "metadata": {
    "collapsed": true
   },
   "outputs": [],
   "source": [
    "# Upload to CasJobs a table with SDSS_DR7 qso  ra,dec \n",
    "File = '../../CRTS_PROJECT/catalogs_SDSS/DB_QSO_S82.dat'\n",
    "colnames = ['dbID', 'ra', 'dec', 'SDR5ID', 'M_i', 'M_i_corr', 'redshift',\n",
    "                   'mass_BH', 'Lbol', 'u', 'g', 'r', 'i', 'z', 'Au']\n",
    "\n",
    "# 9258 QSO ....\n",
    "SDSS_DB_QSO= Table.read(File, format='ascii', names = colnames)\n",
    "\n",
    "dbqso_radec = SDSS_DB_QSO[['dbID', 'ra', 'dec']].copy()\n",
    "dbqso_radec.write('sdss_s82_dr7_qso.txt', format='ascii')"
   ]
  },
  {
   "cell_type": "markdown",
   "metadata": {},
   "source": [
    "PS1 DR2 links \n",
    "\n",
    "- an overview of everything: https://outerspace.stsci.edu/display/PANSTARRS/How+to+retrieve+and+use+PS1+data \n",
    "- there is forced photometry  https://outerspace.stsci.edu/display/PANSTARRS/PS1+Forced+photometry+of+sources  \n",
    "- as well as single epoch detections  https://outerspace.stsci.edu/display/PANSTARRS/PS1+Detection+properties\n",
    "- can also use a high-level GUI  Catalog search https://catalogs.mast.stsci.edu/panstarrs/ \n",
    "- many useful sample queries here https://outerspace.stsci.edu/display/PANSTARRS/PS1+Sample+queries#PS1Samplequeries-Obtainlightcurvesforagivensetofobjects  - that's perfect, because it walks me step by step (literally!!!  )  \n",
    "\n",
    "-this shows transmisson curves and different filter characteristics ... http://svo2.cab.inta-csic.es/svo/theory/fps3/index.php?id=PAN-STARRS/PS1.g&&mode=browse&gname=PAN-STARRS&gname2=PS1  \n",
    "- and the data used to make the transmission curves for the PS1 filters http://ipp.ifa.hawaii.edu/ps1.filters/apj425122t3_mrt.txt \n",
    "\n",
    "\n",
    "\n",
    "**Querying CAS Jobs  : **\n",
    "\n",
    "* manually remove the comment section\n",
    "* log on to  http://mastweb.stsci.edu/ps1casjobs/SubmitJob.aspx  \n",
    "* upload that table to CasJobs, calling it `S82_DR7_QSO`\n",
    "* in query, set context to `PanStarrs1`\n",
    "\n",
    "* execute the following query (based on https://outerspace.stsci.edu/display/PANSTARRS/PS1+Sample+queries#PS1Samplequeries-Obtainlightcurvesforagivensetofobjects )  to get objIDs  within 2 arcsec from each object  ( setting context to PS1 DR2... ) \n",
    "\n",
    " \n",
    "   \n",
    "    SELECT d.dbID, d.ra, d.dec,\n",
    "    o.objID, \n",
    "    o.raMean, o.decMean, o.raMeanErr, o.decMeanErr,\n",
    "    o.qualityFlag,\n",
    "    o.nDetections, o.ng, o.nr, o.ni, o.nz,o.ny,\n",
    "    o.gFlags, o.gQfPerfect,\n",
    "    o.rFlags, o.rQfPerfect,\n",
    "    o.iFlags, o.iQfPerfect,\n",
    "    o.zFlags, o.zQfPerfect,\n",
    "    o.yFlags, o.yQfPerfect,\n",
    "    soa.primaryDetection, soa.bestDetection\n",
    "     INTO mydb.[S82_DR7_QSO_PS1_objID]\n",
    "     FROM mydb.[S82_DR7_QSO] d\n",
    "    CROSS APPLY dbo.fGetNearbyObjEq(d.ra, d.dec, 2.0/60.0) as x\n",
    "    JOIN MeanObjectView o on o.ObjID=x.ObjId\n",
    "    LEFT JOIN StackObjectAttributes AS soa ON soa.objID = x.objID\n",
    "    WHERE o.nDetections>5\n",
    "    AND soa.primaryDetection>0\n",
    "    AND o.gQfPerfect>0.85 and o.rQfPerfect>0.85 and o.iQfPerfect>0.85 and o.zQfPerfect>0.85\n",
    "    AND (o.rmeanpsfmag - o.rmeankronmag < 0.05)\n",
    "\n",
    "\n",
    "  \n",
    "* and then run the query to get all the detection data for these objIDs .... \n",
    "\n",
    "\n",
    "    SELECT o.objID, o.raMean, o.decMean,\n",
    "    d.ra, d.dec, d.raErr, d.decErr,\n",
    "    d.detectID, d.obstime, d.exptime, d.airmass, d.psfflux, d.psffluxErr, d.psfQf, d.psfQfPerfect, d.psfLikelihood, d.psfChiSq, d.extNSigma, d.zp, d.apFlux, d.apFluxErr,\n",
    "    d.imageID, d.filterID,\n",
    "    d.sky, d.skyerr, d.infoflag, d.infoflag2, d.infoflag3,\n",
    "    o.qualityFlag,\n",
    "    o.nDetections, o.primaryDetection, o.bestDetection\n",
    "     INTO mydb.[S82_DR7_QSO_PS1_det]\n",
    "     FROM mydb.[S82_DR7_QSO_PS1_objID] o\n",
    "    JOIN Detection d on d.ObjID = o.ObjID\n",
    "    \n",
    "    \n",
    "* finally run this query to get also all forced photometry for these detections : \n",
    "\n",
    "    \n",
    "    SELECT\n",
    "    o.objID, o.raMean, o.decMean,\n",
    "    fwm.detectID, fwm.obstime, fwm.exptime, fwm.airmass, fwm.Fpsfflux, fwm.FpsffluxErr, fwm.FpsfQf, fwm.FpsfQfPerfect, fwm.FpsfChiSq, fwm.zp, fwm.FapFlux, fwm.FapFluxErr,\n",
    "    fwm.forcedWarpID, fwm.filterID,\n",
    "    fwm.Fsky, fwm.Fskyerr, fwm.Finfoflag, fwm.Finfoflag2, fwm.Finfoflag3\n",
    "     INTO mydb.[S82_DR7_QSO_PS1_fp]\n",
    "     FROM mydb.[S82_DR7_QSO_PS1_objID] o\n",
    "    JOIN ForcedWarpMeasurement fwm on fwm.ObjID = o.ObjID\n",
    "    \n",
    "    \n",
    "    \n",
    "* all results can be easily previewed, and downloaded as csv  "
   ]
  }
 ],
 "metadata": {
  "kernelspec": {
   "display_name": "Python 3",
   "language": "python",
   "name": "python3"
  },
  "language_info": {
   "codemirror_mode": {
    "name": "ipython",
    "version": 3
   },
   "file_extension": ".py",
   "mimetype": "text/x-python",
   "name": "python",
   "nbconvert_exporter": "python",
   "pygments_lexer": "ipython3",
   "version": "3.6.2"
  }
 },
 "nbformat": 4,
 "nbformat_minor": 2
}
