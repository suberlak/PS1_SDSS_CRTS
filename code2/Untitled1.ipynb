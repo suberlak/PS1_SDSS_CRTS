{
 "cells": [
  {
   "cell_type": "markdown",
   "metadata": {},
   "source": [
    "# Trends_AC_AstroML"
   ]
  },
  {
   "cell_type": "code",
   "execution_count": 1,
   "metadata": {
    "collapsed": true
   },
   "outputs": [],
   "source": [
    "\n",
    "import numpy as np \n",
    "from scipy.optimize import minimize\n",
    "import matplotlib.pyplot as plt\n",
    "from matplotlib import rcParams\n",
    "from astropy.table import Table\n",
    "from astropy.table import vstack\n",
    "from astropy.table import Column\n",
    "import os\n",
    "from scipy import optimize\n",
    "from astroML.linear_model import TLS_logL\n",
    "rcParams['ytick.labelsize'] = 15\n",
    "rcParams['xtick.labelsize'] = 15\n",
    "rcParams['axes.labelsize'] = 20\n",
    "rcParams['axes.linewidth'] = 2\n",
    "rcParams['font.size'] = 15\n",
    "rcParams['axes.titlesize'] = 18\n",
    "\n",
    "\n"
   ]
  },
  {
   "cell_type": "code",
   "execution_count": 37,
   "metadata": {},
   "outputs": [
    {
     "name": "stdout",
     "output_type": "stream",
     "text": [
      "r  band \n",
      "Of  6871  quasars in that band,  6800  have M_BH\n",
      "Warning: Maximum number of function evaluations has been exceeded.\n",
      "For band  r A= -0.11577991931871134 C= 0.280523637811157\n",
      "Optimization terminated successfully.\n",
      "         Current function value: 12630214.939382\n",
      "         Iterations: 63\n",
      "         Function evaluations: 118\n",
      "For band  r A= 2.3103041768573056 C= -0.028523133989603145\n"
     ]
    }
   ],
   "source": [
    "min_func = lambda beta: -TLS_logL(beta, X, dX)\n",
    "def get_m_b(beta):\n",
    "    b = np.dot(beta, beta) / beta[1]\n",
    "    m = -beta[0] / beta[1]\n",
    "    return m, b\n",
    "\n",
    "# Read in Chelsea's data ...\n",
    "# Use the result of reading her data band by band,  \n",
    "# keeping only those where:\n",
    "# Npts  > 10 , Plike - Pnoise  > 2 , Plike - Pinf > 0.05 ,  edge == 0 \n",
    "\n",
    "# calculating lambdaRF = lambdaOBS / (1+redshift)\n",
    "# calculating SFinf  = np.power(10, log10sigmahat) * sqrt(np.power(10, log10tau / 365.)  \n",
    "# calculating tauRF = np.power(10,log10tau  / (1.+ redshift)\n",
    "# calculating 4000 A values : \n",
    "#   SFinf4000 =  SFinf  * np.power(4000 / lambdaRF , -0.479)\n",
    "#   tau4000 =  tauRF * np.power(4000 /  lambdaRF  , 0.17 )\n",
    "# cross-matching to Shen2011, with DR7 data,\n",
    "# adding to each band updated M_BH \n",
    "\n",
    "# a dictionary of five filters .... \n",
    "s82 = np.load('../code/s82drw_shen2011_dic.npy').item()\n",
    "\n",
    "    # make identical declarations of variables \n",
    "# as in Chelsea's code ..\n",
    "A = [] ;  C = [] \n",
    "#for band in 'ugriz':\n",
    "band = 'r'\n",
    "print(band, ' band ')\n",
    "var = s82[band]['SFinf'].data ** 2.0  # variance in mag^2, equal to \n",
    "                                    # sigmahat^2*tau/365 = SF_inf^2 \n",
    "redshift = s82[band]['REDSHIFT'].data\n",
    "tauOBS  = s82[band]['log10tau'].data # NOTE : log10tau is observed frame !!!! \n",
    "tau = tauOBS-np.log10(1.0+redshift) # correct to rest frame .... \n",
    "#tau = s82[band]['log10tau'].data # where tau is best-fit timescale in days\n",
    "lRF = 6250 / (1.+redshift)\n",
    "#lRF = s82[band]['lambdaRF'].data # rest-frame wavelength in Angstroms\n",
    "M_i_corr = s82[band]['MI_Z2'].data#+0.596 # Absolute Magnitude M_i, K-corrected to z=0\n",
    "mass_bh = s82[band]['LOGBH'].data #  BH mass in log solar masses\n",
    "\n",
    "#####################\n",
    "#### SFinf model ####\n",
    "#####################\n",
    "\n",
    "select = mass_bh > 0 \n",
    "print('Of ', len(select), ' quasars in that band, ',select.sum() , ' have M_BH')\n",
    "f = np.log10(np.sqrt(var))[select]  # SF_inf array\n",
    "x = np.log10(lRF/4000.)[select]     # Rest-wavelength array\n",
    "y = (M_i_corr+23.)[select]          # Absolute Magnitude M_i, K-corrected to z=0\n",
    "#z = (mass_bh-9.)[select]            # BH mass in 10^9 solar masses\n",
    "#red = np.log10(1.+redshift)[select]  #  redshift array; not neede\n",
    "#lum = y\n",
    "#mbh = z \n",
    "# First, remove wavelength trend: \n",
    "lampwrsf = - 0.479\n",
    "fo = f - lampwrsf*x \n",
    "\n",
    "# Setup errors \n",
    "sigma_lum = 1e-5 #(set arbitrarily small) ; x1\n",
    "#sigma_mbh = 0.2 # BH mass errors in dex   ; x2\n",
    "#sigma_z = 1e-5  # (set arbitrarily small) ; NOT USED \n",
    "sigma_y = 0.01  # uncertainty in SFinf   ; y1 \n",
    "\n",
    "y1 = fo  # SFinf \n",
    "x1 = y  # luminosity \n",
    "#x2 = z # BH mass \n",
    "\n",
    "# Fit x1 and y1 :  \n",
    "# stack the latent variables x1,y1  ....\n",
    "X = np.vstack((x1, y1)).T\n",
    "dX = np.zeros((len(x1), 2, 2))\n",
    "dX[:, 0, 0] = sigma_lum ** 2\n",
    "dX[:, 1, 1] = sigma_y ** 2\n",
    "dX[:, 0, 1] = dX[:, 1, 0] = 0 # no cross-covariance ... \n",
    "\n",
    "\n",
    "beta_fit = optimize.fmin(min_func, x0=[-1, 1])\n",
    "slope, offset  = get_m_b(beta_fit)\n",
    "print('For band ', band, 'A=', offset, 'C=', slope)\n",
    "\n",
    "#####################\n",
    "#### tau model ####\n",
    "#####################\n",
    "\n",
    "f = tau[select]\n",
    "lampwrsf = 0.17\n",
    "fo = f - lampwrsf*x \n",
    "\n",
    "y1 = fo  # tau\n",
    "x1 = y\n",
    "\n",
    "X = np.vstack((x1, y1)).T\n",
    "dX = np.zeros((len(x1), 2, 2))\n",
    "dX[:, 0, 0] = sigma_lum ** 2\n",
    "dX[:, 1, 1] = sigma_y ** 2\n",
    "dX[:, 0, 1] = dX[:, 1, 0] = 0 # no cross-covariance ... \n",
    "beta_fit = optimize.fmin(min_func, x0=[-1, 1])\n",
    "slope, offset  = get_m_b(beta_fit)\n",
    "print('For band ', band, 'A=', offset, 'C=', slope)"
   ]
  },
  {
   "cell_type": "code",
   "execution_count": 30,
   "metadata": {},
   "outputs": [],
   "source": [
    "s82 = Table.read('190409_Celerite_real_Jeff1_Shen2008-2011.txt',\n",
    "                 format='ascii')\n",
    "s82['lambdaRF'] = 6250 /  (1.+ s82['redshift'])"
   ]
  },
  {
   "cell_type": "code",
   "execution_count": 33,
   "metadata": {},
   "outputs": [
    {
     "name": "stdout",
     "output_type": "stream",
     "text": [
      "Of  9246  quasars in that band,  5869  have M_BH\n",
      "Optimization terminated successfully.\n",
      "         Current function value: 2836548.145027\n",
      "         Iterations: 75\n",
      "         Function evaluations: 139\n",
      "[ 0.03280381 -0.52690499]\n",
      "For band  r A= -0.5289472724550581 C= 0.06225754533067983\n"
     ]
    },
    {
     "name": "stderr",
     "output_type": "stream",
     "text": [
      "/Users/chris/anaconda3/envs/py36/lib/python3.6/site-packages/ipykernel_launcher.py:18: RuntimeWarning: divide by zero encountered in log10\n"
     ]
    }
   ],
   "source": [
    "\n",
    "var = 2 * (s82['sigmaEXP_sdss-ps1']**2.0)\n",
    "#var = s82['SFinf'].data ** 2.0  # variance in mag^2, equal to \n",
    "                                    # sigmahat^2*tau/365 = SF_inf^2 \n",
    "                           # \n",
    "redshift = s82['redshift'].data\n",
    "#tauOBS  = s82['log10tau'].data # NOTE : log10tau is observed frame !!!! \n",
    "tauOBS = np.log10(s82['tauEXP_sdss'].data)\n",
    "tau = tauOBS-np.log10(1.0+redshift) # correct to rest frame .... \n",
    "#tau = s82[band]['log10tau'].data # where tau is best-fit timescale in days\n",
    "lRF = s82['lambdaRF'].data # rest-frame wavelength in Angstroms\n",
    "M_i_corr = s82['M_i'].data#+0.596 # Absolute Magnitude M_i, K-corrected to z=0\n",
    "mass_bh = s82['mass_BH'].data #  BH mass in log solar masses\n",
    "#mass_BH\n",
    "\n",
    "select = mass_bh > 0 \n",
    "print('Of ', len(select), ' quasars in that band, ',select.sum() , ' have M_BH')\n",
    "f = np.log10(np.sqrt(var))[select]  # SF_inf array\n",
    "x = np.log10(lRF/4000.)[select]     # Rest-wavelength array\n",
    "y = (M_i_corr+23.)[select]          # Absolute Magnitude M_i, K-corrected to z=0\n",
    "#z = (mass_bh-9.)[select]            # BH mass in 10^9 solar masses\n",
    "#red = np.log10(1.+redshift)[select]  #  redshift array; not neede\n",
    "#lum = y\n",
    "#mbh = z \n",
    "# First, remove wavelength trend: \n",
    "lampwrsf = - 0.479\n",
    "fo = f - lampwrsf*x \n",
    "\n",
    "# Setup errors \n",
    "sigma_lum = 1e-5 #(set arbitrarily small) ; x1\n",
    "#sigma_mbh = 0.2 # BH mass errors in dex   ; x2\n",
    "#sigma_z = 1e-5  # (set arbitrarily small) ; NOT USED \n",
    "sigma_y = 0.01  # uncertainty in SFinf   ; y1 \n",
    "\n",
    "y1 = fo  # SFinf \n",
    "x1 = y  # luminosity \n",
    "#x2 = z # BH mass \n",
    "\n",
    "# Fit x1 and y1 :  \n",
    "# stack the latent variables x1,y1  ....\n",
    "X = np.vstack((x1, y1)).T\n",
    "dX = np.zeros((len(x1), 2, 2))\n",
    "dX[:, 0, 0] = sigma_lum ** 2\n",
    "dX[:, 1, 1] = sigma_y ** 2\n",
    "dX[:, 0, 1] = dX[:, 1, 0] = 0 # no cross-covariance ... \n",
    "\n",
    "min_func = lambda beta: -TLS_logL(beta, X, dX)\n",
    "beta_fit = optimize.fmin(min_func, x0=[-1, 1])\n",
    "print(beta_fit)\n",
    "def get_m_b(beta):\n",
    "    b = np.dot(beta, beta) / beta[1]\n",
    "    m = -beta[0] / beta[1]\n",
    "    return m, b\n",
    "\n",
    "slope, offset  = get_m_b(beta_fit)\n",
    "print('For band ', band, 'A=', offset, 'C=', slope)\n",
    "A.append(offset)\n",
    "C.append(slope) "
   ]
  },
  {
   "cell_type": "code",
   "execution_count": 20,
   "metadata": {},
   "outputs": [
    {
     "data": {
      "text/plain": [
       "(array([1.000e+00, 4.000e+01, 9.600e+01, 2.840e+02, 6.580e+02, 1.948e+03,\n",
       "        2.459e+03, 1.202e+03, 1.500e+02, 1.000e+00]),\n",
       " array([0.  , 0.45, 0.9 , 1.35, 1.8 , 2.25, 2.7 , 3.15, 3.6 , 4.05, 4.5 ]),\n",
       " <a list of 10 Patch objects>)"
      ]
     },
     "execution_count": 20,
     "metadata": {},
     "output_type": "execute_result"
    },
    {
     "data": {
      "image/png": "[encoded data removed]",
      "text/plain": [
       "<Figure size 432x288 with 1 Axes>"
      ]
     },
     "metadata": {},
     "output_type": "display_data"
    }
   ],
   "source": [
    "%matplotlib inline\n",
    "plt.hist(s82_['log10tau'], range=(0,4.5))\n",
    "plt.hist(s82['r']['log10tau'], range=(0,4.5))"
   ]
  },
  {
   "cell_type": "code",
   "execution_count": null,
   "metadata": {
    "collapsed": true
   },
   "outputs": [],
   "source": []
  }
 ],
 "metadata": {
  "kernelspec": {
   "display_name": "Python 3",
   "language": "python",
   "name": "python3"
  },
  "language_info": {
   "codemirror_mode": {
    "name": "ipython",
    "version": 3
   },
   "file_extension": ".py",
   "mimetype": "text/x-python",
   "name": "python",
   "nbconvert_exporter": "python",
   "pygments_lexer": "ipython3",
   "version": "3.6.2"
  }
 },
 "nbformat": 4,
 "nbformat_minor": 2
}
