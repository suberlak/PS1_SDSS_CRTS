{
 "cells": [
  {
   "cell_type": "markdown",
   "metadata": {},
   "source": [
    "# Simulate LSST cadence and error curve "
   ]
  },
  {
   "cell_type": "code",
   "execution_count": 2,
   "metadata": {},
   "outputs": [],
   "source": [
    "import numpy as np\n",
    "import matplotlib.pyplot as plt \n",
    "import os\n",
    "import pandas as pd \n",
    "from astropy.table import Table\n",
    "from astropy.coordinates import SkyCoord\n",
    "from astropy import units as u\n",
    "from astropy.table import  hstack\n",
    "from astropy.table import  vstack\n",
    "from astropy.table import unique\n",
    "from astropy.table import Column\n",
    "from astropy.table import join\n",
    "import celerite\n",
    "from matplotlib import rcParams \n",
    "rcParams['ytick.labelsize'] = 15\n",
    "rcParams['xtick.labelsize'] = 15\n",
    "rcParams['axes.labelsize'] = 20\n",
    "rcParams['axes.linewidth'] = 2\n",
    "rcParams['font.size'] = 15\n",
    "rcParams['axes.titlesize'] = 18"
   ]
  },
  {
   "cell_type": "markdown",
   "metadata": {},
   "source": [
    "### LSST cadence "
   ]
  },
  {
   "cell_type": "code",
   "execution_count": 5,
   "metadata": {},
   "outputs": [
    {
     "name": "stderr",
     "output_type": "stream",
     "text": [
      "WARNING: ErfaWarning: ERFA function \"dtf2d\" yielded 1 of \"dubious year (Note 6)\" [astropy._erfa.core]\n"
     ]
    }
   ],
   "source": [
    "# add LSST epochs \n",
    "# spanning 2023 - 2032 : \n",
    "# 10 years, 50 epochs per year ...\n",
    "\n",
    "# pick random 50 from 365 days without repetition,\n",
    "# then pick the decimal part of date picking eg.  \n",
    "# between 0 - 0.4 per night ...\n",
    "\n",
    "from astropy.time import Time\n",
    "start_date = Time(['2023-01-01T00:00:00.000'],format='isot')#, scale='utc')\n",
    "# haha, weird warning : here is a discussion about it \n",
    "# https://github.com/astropy/astropy/blob/ffc0a89b2c42fd440eb19bcb2f93db90cab3c98b/cextern/erfa/dat.c#L64 \n",
    "\n",
    "# apparently 2023 is too far into the future to reliably predict leap second ... \n",
    "# but the error message could be improved upon - this one is very vague! \n",
    "\n",
    "mjd_lsst  = []\n",
    "N_py = 50 # Number of points per year  \n",
    "for i in range(2033-2023): # 2023 to 2033 : ten full years .... \n",
    "    days = np.random.choice(np.arange(365), size=N_py, replace=False)\n",
    "    hours = np.random.choice(np.linspace(0,0.4,1000), size=N_py, replace=False)\n",
    "    yearly_obs = start_date.mjd[0] + days + i*365 + hours \n",
    "    mjd_lsst.append(yearly_obs)\n",
    "mjd_lsst = np.sort(np.concatenate(mjd_lsst))\n",
    "# save for reference : these are the  time stamps \n",
    "# I use for LSST \n",
    "\n",
    "# I hope that the stochasticity of the DRW process adds \n",
    "# enough randomness so that I don't neeed to separately \n",
    "# simulate 6444 different LSST cadences ,\n",
    "# but just do one list of LSST cadences \n",
    "# and use it to sample 6444 realizations \n",
    "# of DRW  \n",
    "np.savetxt('../dp2/mjd_lsst_ten_years_500_epochs.txt',mjd_lsst, )"
   ]
  },
  {
   "cell_type": "markdown",
   "metadata": {},
   "source": [
    "### LSST error"
   ]
  },
  {
   "cell_type": "code",
   "execution_count": 10,
   "metadata": {},
   "outputs": [
    {
     "data": {
      "image/png": "[encoded data removed]",
      "text/plain": [
       "<Figure size 432x288 with 1 Axes>"
      ]
     },
     "metadata": {},
     "output_type": "display_data"
    }
   ],
   "source": [
    "%matplotlib inline\n",
    "def calc_lsst_error(m):\n",
    "    # Calculate LSST error based on the magnitude of the observed light curve ...\n",
    "    # we use magnitude-dependent single-visit \n",
    "    # formula for r-band from \n",
    "    # https://www.lsst.org/sites/default/files/docs/sciencebook/SB_3.pdf\n",
    "    # https://www.lsst.org/scientists/scibook\n",
    "    # https://arxiv.org/abs/0912.0201\n",
    "    # See Chap.3, Sec. 3.5, Eq. 3.1, Table. 3.2\n",
    "     # mag \n",
    "    sigma_sys = 0.005\n",
    "    gamma = 0.039 \n",
    "    m5 = 24.7\n",
    "    x = np.power(10,0.4 * (m-m5))\n",
    "    sigma_rand = np.sqrt(  (0.04-gamma) * x + gamma * x*x ) \n",
    "    sigma = np.sqrt(sigma_sys**2.0 + sigma_rand**2.0)\n",
    "    return sigma\n",
    "\n",
    "# Illustrate \n",
    "# Plot the error curve \n",
    "m = np.linspace(14,24,1000)\n",
    "e = calc_lsst_error(m)\n",
    "plt.plot(m,e, lw=3)\n",
    "plt.xlabel('LSST single-visit r mag ')\n",
    "plt.ylabel('LSST error ')\n",
    "plt.savefig('LSST_error_curve_rband.png', bbox_inches='tight')"
   ]
  },
  {
   "cell_type": "code",
   "execution_count": null,
   "metadata": {
    "collapsed": true
   },
   "outputs": [],
   "source": []
  }
 ],
 "metadata": {
  "kernelspec": {
   "display_name": "Python 3",
   "language": "python",
   "name": "python3"
  },
  "language_info": {
   "codemirror_mode": {
    "name": "ipython",
    "version": 3
   },
   "file_extension": ".py",
   "mimetype": "text/x-python",
   "name": "python",
   "nbconvert_exporter": "python",
   "pygments_lexer": "ipython3",
   "version": "3.6.2"
  }
 },
 "nbformat": 4,
 "nbformat_minor": 2
}
