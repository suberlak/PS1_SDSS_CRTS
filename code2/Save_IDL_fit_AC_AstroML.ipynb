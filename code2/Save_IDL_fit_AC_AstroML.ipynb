{
 "cells": [
  {
   "cell_type": "markdown",
   "metadata": {},
   "source": [
    "# Table 1 : fit Celerite results with IDL\n"
   ]
  },
  {
   "cell_type": "code",
   "execution_count": 2,
   "metadata": {
    "collapsed": true
   },
   "outputs": [],
   "source": [
    "import numpy as np\n",
    "import matplotlib.pyplot as plt \n",
    "import os\n",
    "import pandas as pd \n",
    "from astropy.table import Table\n",
    "from astropy.coordinates import SkyCoord\n",
    "from astropy import units as u\n",
    "from astropy.table import  hstack\n",
    "from astropy.table import  vstack\n",
    "from astropy.table import unique\n",
    "from astropy.table import Column\n",
    "from astropy.table import join\n",
    "from matplotlib import rcParams \n",
    "rcParams['ytick.labelsize'] = 15\n",
    "rcParams['xtick.labelsize'] = 15\n",
    "rcParams['axes.labelsize'] = 20\n",
    "rcParams['axes.linewidth'] = 2\n",
    "rcParams['font.size'] = 15\n",
    "rcParams['axes.titlesize'] = 18"
   ]
  },
  {
   "cell_type": "markdown",
   "metadata": {},
   "source": [
    "First, need to merge Celerite with all ancillary catalogs for black hole mass, ansolute magnitude, redshift. "
   ]
  },
  {
   "cell_type": "code",
   "execution_count": 56,
   "metadata": {},
   "outputs": [],
   "source": [
    "# read in the results of just fitting the real LCs \n",
    "fname = '../code/190228_Celerite_real_Jeff1.npy'\n",
    "r = np.load(fname).item() # it's only SDSS, SDSS-PS1 : two segments \n",
    "\n",
    "# convert a dict to a table, choosing relevant parts... \n",
    "seg = list(r.keys())\n",
    "\n",
    "d1 = pd.DataFrame.from_dict(r[seg[0]])\n",
    "t1 = Table.from_pandas(d1)\n",
    "\n",
    "d2 = pd.DataFrame.from_dict(r[seg[1]])\n",
    "t2 = Table.from_pandas(d2)\n",
    "\n",
    "celerite =  join(t1,t2, keys='lcname', table_names=[seg[0] ,seg[1]])\n",
    "\n",
    "# add a column with int  DR7  dbID  for SDSS QSO \n",
    "dbID = np.asarray([x[:-4] for x in celerite['lcname']]).astype(int)\n",
    "celerite['dbID']  = dbID\n",
    "\n",
    "# add the info about qso from DR7 catalog to have ra, dec \n",
    "#  SDSS S82  9258  DR7 QSOs from Shen+2008\n",
    "# from http://faculty.washington.edu/ivezic/macleod/qso_dr7/Southern.html\n",
    "File = '../../CRTS_PROJECT/catalogs_SDSS/DB_QSO_S82.dat'\n",
    "colnames = ['dbID', 'ra', 'dec', 'SDR5ID', 'M_i', 'M_i_corr', 'redshift',\n",
    "                   'mass_BH', 'Lbol', 'u', 'g', 'r', 'i', 'z', 'Au']\n",
    "dr7 = Table.read(File, format='ascii', names = colnames)\n",
    "cd = join(celerite, dr7, keys='dbID')\n",
    "\n"
   ]
  },
  {
   "cell_type": "code",
   "execution_count": 58,
   "metadata": {},
   "outputs": [],
   "source": [
    "cd.write('190228_Celerite_real_Jeff1_DBQSO.txt', format='ascii')"
   ]
  },
  {
   "cell_type": "code",
   "execution_count": 7,
   "metadata": {},
   "outputs": [],
   "source": [
    "## add Shen2011\n",
    "shen2011 = Table.read(\"../code/dr7_bh_May_2011.fits\", format='fits')\n",
    "\n",
    "# select only those in S82  : select by dec, and crossmatch\n",
    "m = shen2011[abs(shen2011['DEC']) < 1.5]\n",
    "sel = m[['SDSS_NAME', 'RA', 'DEC', 'REDSHIFT', \n",
    "        'LOGLBOL', 'LOGBH', 'LOGBH_ERR', 'LOGEDD_RATIO', 'MI_Z2' ]]\n",
    "\n",
    "# cross-match \n",
    "cat1 = SkyCoord(ra=cd['ra']*u.degree,  dec=cd['dec']*u.degree)\n",
    "cat2 = SkyCoord(ra=sel['RA']*u.degree, dec=sel['DEC']*u.degree,  frame='icrs') \n",
    "\n",
    "idx, sep2d, dist3d = cat1.match_to_catalog_sky(cat2) \n",
    "cd2 = hstack([cd, sel[idx]])"
   ]
  },
  {
   "cell_type": "code",
   "execution_count": 9,
   "metadata": {},
   "outputs": [],
   "source": [
    "# add a column with band : here it's all r-band :\n",
    "cd2['band'] = 3 "
   ]
  },
  {
   "cell_type": "code",
   "execution_count": 20,
   "metadata": {},
   "outputs": [
    {
     "name": "stderr",
     "output_type": "stream",
     "text": [
      "/Users/chris/anaconda3/envs/py36/lib/python3.6/site-packages/ipykernel_launcher.py:3: RuntimeWarning: divide by zero encountered in log10\n",
      "  This is separate from the ipykernel package so we can avoid doing imports until\n",
      "/Users/chris/anaconda3/envs/py36/lib/python3.6/site-packages/ipykernel_launcher.py:3: RuntimeWarning: invalid value encountered in log10\n",
      "  This is separate from the ipykernel package so we can avoid doing imports until\n"
     ]
    },
    {
     "data": {
      "text/plain": [
       "(array([  1.,   2.,   0.,   4.,   8.,   9.,  12.,  24.,  36.,  64.,  51.,\n",
       "        104.,  76.,  46.,  20.,   2.,   0.,   0.,   0.,   0.,   0.,   0.,\n",
       "          0.,   0.,   0.,   0.,   0.,   0.,   0.,   0., 407.,   0., 289.,\n",
       "        454., 308., 310., 330., 216., 153., 108., 150.,  76.,  62.,  41.,\n",
       "          7.]),\n",
       " array([-9.71957015, -9.53333824, -9.34710633, -9.16087442, -8.97464251,\n",
       "        -8.7884106 , -8.60217869, -8.41594678, -8.22971488, -8.04348297,\n",
       "        -7.85725106, -7.67101915, -7.48478724, -7.29855533, -7.11232342,\n",
       "        -6.92609151, -6.7398596 , -6.55362769, -6.36739578, -6.18116387,\n",
       "        -5.99493196, -5.80870006, -5.62246815, -5.43623624, -5.25000433,\n",
       "        -5.06377242, -4.87754051, -4.6913086 , -4.50507669, -4.31884478,\n",
       "        -4.13261287, -3.94638096, -3.76014905, -3.57391714, -3.38768523,\n",
       "        -3.20145333, -3.01522142, -2.82898951, -2.6427576 , -2.45652569,\n",
       "        -2.27029378, -2.08406187, -1.89782996, -1.71159805, -1.52536614,\n",
       "        -1.33913423]),\n",
       " <a list of 45 Patch objects>)"
      ]
     },
     "execution_count": 20,
     "metadata": {},
     "output_type": "execute_result"
    },
    {
     "data": {
      "image/png": "[encoded data removed]",
      "text/plain": [
       "<Figure size 432x288 with 1 Axes>"
      ]
     },
     "metadata": {},
     "output_type": "display_data"
    }
   ],
   "source": [
    "%matplotlib inline\n",
    "# Is there much difference between Shen2008 and 2011 redshift ? \n",
    "plt.hist(np.log10(cd2['redshift']  - cd2['REDSHIFT']), \n",
    "         bins=45)\n",
    "# not at all .... "
   ]
  },
  {
   "cell_type": "code",
   "execution_count": 22,
   "metadata": {},
   "outputs": [],
   "source": [
    "# add a column with restframe wavelength : lambdaRF \n",
    "lambdaobs = 6250 # for r-band, in angstroms \n",
    "cd2['lambdaRF'] = lambdaobs /  (1.+ cd2['REDSHIFT'])\n",
    "    "
   ]
  },
  {
   "cell_type": "code",
   "execution_count": 28,
   "metadata": {},
   "outputs": [
    {
     "data": {
      "text/plain": [
       "(array([  10.,  100.,  327.,  944., 1801., 1909., 1001.,  256.,   43.,\n",
       "           5.]),\n",
       " array([ 6.99691162,  7.37530811,  7.7537046 ,  8.13210109,  8.51049759,\n",
       "         8.88889408,  9.26729057,  9.64568706, 10.02408355, 10.40248005,\n",
       "        10.78087654]),\n",
       " <a list of 10 Patch objects>)"
      ]
     },
     "execution_count": 28,
     "metadata": {},
     "output_type": "execute_result"
    },
    {
     "data": {
      "image/png": "[encoded data removed]",
      "text/plain": [
       "<Figure size 432x288 with 1 Axes>"
      ]
     },
     "metadata": {},
     "output_type": "display_data"
    }
   ],
   "source": [
    "plt.hist(cd2['LOGBH'][cd2['LOGBH']>0])"
   ]
  },
  {
   "cell_type": "code",
   "execution_count": 34,
   "metadata": {},
   "outputs": [
    {
     "name": "stderr",
     "output_type": "stream",
     "text": [
      "/Users/chris/anaconda3/envs/py36/lib/python3.6/site-packages/numpy/core/fromnumeric.py:734: UserWarning: Warning: 'partition' will ignore the 'mask' of the MaskedColumn.\n",
      "  a.partition(kth, axis=axis, kind=kind, order=order)\n"
     ]
    },
    {
     "data": {
      "text/plain": [
       "0.1370741152764824"
      ]
     },
     "execution_count": 34,
     "metadata": {},
     "output_type": "execute_result"
    },
    {
     "data": {
      "image/png": "[encoded data removed]",
      "text/plain": [
       "<Figure size 432x288 with 1 Axes>"
      ]
     },
     "metadata": {},
     "output_type": "display_data"
    }
   ],
   "source": [
    "%matplotlib inline\n",
    "plt.hist(cd2['LOGBH_ERR'][cd2['LOGBH']>0], histtype='step', bins=40)\n",
    "plt.axvline(0.1)\n",
    "np.median(cd2['LOGBH_ERR'][cd2['LOGBH']>0])"
   ]
  },
  {
   "cell_type": "code",
   "execution_count": null,
   "metadata": {
    "collapsed": true
   },
   "outputs": [],
   "source": [
    "cols = ['lcname', 'ra','dec', 'sigmaEXP_sdss', 'sigmaEXP_sdss-ps1',\n",
    "        'tauEXP_sdss', 'tauEXP_sdss-ps1', 'lambdaRF', 'M_i', 'M_i_corr', 'mass_BH',\n",
    "        'redshift', 'MI_Z2', 'LOGBH','LOGBH_ERR', 'REDSHIFT', 'band']\n",
    "m = cd2['tauEXP_sdss-ps1'] > 5\n",
    "print(np.sum(m))\n",
    "cd2[cols][m].write('190228_celerite_J1_shen2007-2011.txt',\n",
    "                format='ascii',overwrite='True',\n",
    "                comment=False)"
   ]
  },
  {
   "cell_type": "markdown",
   "metadata": {},
   "source": [
    "# Celerite : Fit for A,C (AstroML)"
   ]
  },
  {
   "cell_type": "markdown",
   "metadata": {},
   "source": [
    "Note: AstroML code yields here the same results as linmix_err(), since it is the Total Least Squares problem"
   ]
  },
  {
   "cell_type": "code",
   "execution_count": 54,
   "metadata": {},
   "outputs": [
    {
     "name": "stdout",
     "output_type": "stream",
     "text": [
      "Of  6444  quasars in that band,  3248  have M_BH\n",
      "Optimization terminated successfully.\n",
      "         Current function value: 633640.024261\n",
      "         Iterations: 102\n",
      "         Function evaluations: 196\n",
      "[ 0.05028082 -0.61785802]\n",
      "For band  r A= -0.6219498358861202 C= 0.08137924141747081\n"
     ]
    },
    {
     "name": "stderr",
     "output_type": "stream",
     "text": [
      "/Users/chris/anaconda3/envs/py36/lib/python3.6/site-packages/astropy/table/column.py:965: RuntimeWarning: invalid value encountered in greater\n",
      "  return getattr(self.data, op)(other)\n"
     ]
    }
   ],
   "source": [
    "# Fit for A,C (line 4) using AstroML code .... \n",
    "\n",
    "# We're using only the r-band... \n",
    "\n",
    "# make identical declarations of variables \n",
    "# as in Chelsea's code ..\n",
    "from scipy import optimize\n",
    "from astroML.linear_model import TLS_logL\n",
    "A = [] ;  C = [] \n",
    "band = 'r'\n",
    "fit = 'EXP'\n",
    "seg = 'sdss'\n",
    "var = 2*cd2['sigma'+fit+'_'+seg].data ** 2.0  \n",
    "# variance in mag^2, equal to sigmahat^2*tau/365 = SF_inf^2  \n",
    "# SFinf = sqrt(2) * sigma,  so SFinf^2 = 2 * sigma^2 \n",
    "\n",
    "# start with Shen2007 data : redshift, M_i_corr,  mass_BH \n",
    "redshift = cd2['redshift'].data\n",
    "log10tauOBS  = np.log10(cd2['tau'+fit+'_'+seg]) # NOTE : need to shift tau to rest frame \n",
    "log10tauRF = log10tauOBS-np.log10(1.0+redshift) \n",
    "tau = log10tauRF \n",
    "lRF = cd2['lambdaRF'].data # rest-frame wavelength in Angstroms\n",
    "M_i_corr = cd2['MI_Z2'].data#+0.596 # Absolute Magnitude M_i, K-corrected to z=0\n",
    "\n",
    "select = (mass_bh > 0 ) & (cd2['tauEXP_sdss-ps1'] > 5)\n",
    "print('Of ', len(select), ' quasars in that band, ',select.sum() , ' have M_BH')\n",
    "\n",
    "x = np.log10(lRF/4000.)[select]     # Rest-wavelength array\n",
    "y = (M_i_corr+23.)[select]          # Absolute Magnitude M_i, K-corrected to z=0\n",
    "red = np.log10(1.+redshift)[select]  #  redshift array; not neede\n",
    "\n",
    "\n",
    "# First , fit SF_inf  \n",
    "f = np.log10(np.sqrt(var))[select]  \n",
    "\n",
    "# First, remove wavelength trend: \n",
    "lampwrsf = - 0.479\n",
    "fo = f - lampwrsf*x \n",
    "\n",
    "# Setup errors \n",
    "sigma_lum = 1e-5 #(set arbitrarily small) ; x1\n",
    "sigma_y = 0.01  # uncertainty in SFinf   ; y1 \n",
    "\n",
    "x1 = y  # luminosity \n",
    "y1 = fo # SFinf \n",
    "\n",
    "# Fit x1 and y1 :  \n",
    "# stack the latent variables \n",
    "X = np.vstack((x1,y1)).T\n",
    "dX = np.zeros((len(x1), 2, 2))\n",
    "dX[:, 0, 0] = sigma_lum ** 2\n",
    "dX[:, 1, 1] = sigma_y ** 2\n",
    "dX[:, 0, 1] = dX[:, 1, 0] = 0 # no cross-covariance ... \n",
    "\n",
    "min_func = lambda beta: -TLS_logL(beta, X, dX)\n",
    "beta_fit = optimize.fmin(min_func, x0=[-1, 1])\n",
    "print(beta_fit)\n",
    "def get_m_b(beta):\n",
    "    b = np.dot(beta, beta) / beta[1]\n",
    "    m = -beta[0] / beta[1]\n",
    "    return m, b\n",
    "\n",
    "slope, offset  = get_m_b(beta_fit)\n",
    "print('For band ', band, 'A=', offset, 'C=', slope)\n"
   ]
  },
  {
   "cell_type": "code",
   "execution_count": 55,
   "metadata": {},
   "outputs": [
    {
     "name": "stdout",
     "output_type": "stream",
     "text": [
      "Optimization terminated successfully.\n",
      "         Current function value: 2674867.396936\n",
      "         Iterations: 53\n",
      "         Function evaluations: 103\n",
      "[0.05997642 2.4831299 ]\n",
      "For band  r A= 2.484578548046822 C= -0.024153556686998118\n"
     ]
    }
   ],
   "source": [
    "\n",
    "#; ---------------------------\n",
    "#; tau model, object-by-object:\n",
    "#; ---------------------------\n",
    "\n",
    "f = tau[select]\n",
    "x = np.log10(lRF/4000.)[select]     # Rest-wavelength array\n",
    "y = (M_i_corr+23.)[select]          # Absolute Magnitude M_i, K-corrected to z=0\n",
    "red = np.log10(1.+redshift)[select]  #  redshift array; not needed\n",
    "\n",
    "#; First, remove wavelength trend:\n",
    "lampwrtau = 0.17\n",
    "fo = f - lampwrtau*x\n",
    "\n",
    "x1 = y # luminosity \n",
    "y1 = fo # tau \n",
    "\n",
    "sigma_y = 0.01  # uncertainty in tau   ; y1 \n",
    "\n",
    "X = np.vstack((x1, y1)).T\n",
    "dX = np.zeros((len(x1), 2, 2))\n",
    "dX[:, 0, 0] = sigma_lum ** 2\n",
    "dX[:, 1, 1] = sigma_y ** 2\n",
    "dX[:, 0, 1] = dX[:, 1, 0] = 0 # no cross-covariance ... \n",
    "\n",
    "min_func = lambda beta: -TLS_logL(beta, X, dX)\n",
    "beta_fit = optimize.fmin(min_func, x0=[-1, 1])\n",
    "print(beta_fit)\n",
    "def get_m_b(beta):\n",
    "    b = np.dot(beta, beta) / beta[1]\n",
    "    m = -beta[0] / beta[1]\n",
    "    return m, b\n",
    "\n",
    "slope, offset  = get_m_b(beta_fit)\n",
    "print('For band ', band, 'A=', offset, 'C=', slope)\n",
    "A.append(offset)\n",
    "C.append(slope) \n"
   ]
  },
  {
   "cell_type": "code",
   "execution_count": null,
   "metadata": {
    "collapsed": true
   },
   "outputs": [],
   "source": []
  }
 ],
 "metadata": {
  "kernelspec": {
   "display_name": "Python 3",
   "language": "python",
   "name": "python3"
  },
  "language_info": {
   "codemirror_mode": {
    "name": "ipython",
    "version": 3
   },
   "file_extension": ".py",
   "mimetype": "text/x-python",
   "name": "python",
   "nbconvert_exporter": "python",
   "pygments_lexer": "ipython3",
   "version": "3.6.2"
  }
 },
 "nbformat": 4,
 "nbformat_minor": 2
}
