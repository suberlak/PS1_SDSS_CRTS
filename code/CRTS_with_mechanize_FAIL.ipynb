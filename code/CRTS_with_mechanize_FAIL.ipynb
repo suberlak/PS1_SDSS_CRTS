{
 "cells": [
  {
   "cell_type": "code",
   "execution_count": 1,
   "metadata": {
    "collapsed": true
   },
   "outputs": [],
   "source": [
    "# NOTE : this works only in py27, \n",
    "# because mechanize does not work \n",
    "# in py34 ...\n",
    "# do"
   ]
  },
  {
   "cell_type": "markdown",
   "metadata": {},
   "source": [
    "Aim to query CRTS DR2 with 100 objects at a time, try to see if I can quickly "
   ]
  },
  {
   "cell_type": "code",
   "execution_count": 110,
   "metadata": {
    "collapsed": true
   },
   "outputs": [],
   "source": [
    "# Necessary imports ... \n",
    "import matplotlib.pyplot as plt\n",
    "from astropy.table import Table\n",
    "import os\n",
    "import numpy as np\n",
    "from astropy.io import fits\n",
    "import re\n",
    "import time\n",
    "from mechanize import Browser\n",
    "from mechanize import HTMLForm"
   ]
  },
  {
   "cell_type": "markdown",
   "metadata": {},
   "source": [
    "Address : http://nesssi.cacr.caltech.edu/cgi-bin/getmulticonedb_release2.cgi"
   ]
  },
  {
   "cell_type": "markdown",
   "metadata": {},
   "source": [
    "Code : \n",
    "      \n",
    "    <form method=\"post\" action=\"/cgi-bin/getmulticonedb_release2.cgi\" enctype=\"multipart/form-data\">\n",
    "    \n",
    "        <input type=\"file\" name=\"upload_file\"  size=\"30\" maxlength=\"80\" />\n",
    "        <input type=\"text\" name=\"Rad\"  size=\"6\" maxlength=\"10\" 0.002 /> (deg < 0.02, default=0.002)\n",
    "        <input type=\"checkbox\" name=\"DB\" value=\"photcat\" checked=\"checked\" />photcat\n",
    "        <input type=\"checkbox\" name=\"DB\" value=\"orphancat\" />orphancat\n",
    "        <input type=\"submit\" name=\".submit\" value=\"Submit\" onclick=\"returnValidateAllFields(this.form);\" />"
   ]
  },
  {
   "cell_type": "code",
   "execution_count": 111,
   "metadata": {},
   "outputs": [
    {
     "name": "stdout",
     "output_type": "stream",
     "text": [
      "Form name: None\n",
      "<SubmitControl(submit_form=Submit) (readonly)>\n",
      "type=submit, name=submit_form \n",
      "<SubmitControl(reset_form=Reset) (readonly)>\n",
      "type=submit, name=reset_form \n",
      "<HiddenControl(trilegal_version=1.6) (readonly)>\n",
      "type=hidden, name=trilegal_version \n",
      "<RadioControl(gal_coord=[*1, 2])>\n",
      "type=radio, name=gal_coord \n",
      "<TextControl(gc_l=0)>\n",
      "type=text, name=gc_l \n",
      "<TextControl(gc_b=90)>\n",
      "type=text, name=gc_b \n",
      "<TextControl(eq_alpha=0)>\n",
      "type=text, name=eq_alpha \n",
      "<TextControl(eq_delta=0)>\n",
      "type=text, name=eq_delta \n",
      "<TextControl(field=1)>\n",
      "type=text, name=field \n",
      "<SelectControl(photsys_file=[tab_mag_odfnew/tab_mag_.dat, tab_mag_odfnew/tab_mag_2mass_spitzer_wise.dat, tab_mag_odfnew/tab_mag_2mass.dat, tab_mag_odfnew/tab_mag_ogle_2mass_spitzer.dat, tab_mag_odfnew/tab_mag_2mass_spitzer_wise_washington_ddo51.dat, *tab_mag_odfnew/tab_mag_ubvrijhk.dat, tab_mag_odfnew/tab_mag_bessell.dat, tab_mag_odfnew/tab_mag_akari.dat, tab_mag_odfnew/tab_mag_batc.dat, tab_mag_odfnew/tab_mag_megacam_wircam.dat, tab_mag_odfnew/tab_mag_wircam.dat, tab_mag_odfnew/tab_mag_megacam.dat, tab_mag_odfnew/tab_mag_ciber.dat, tab_mag_odfnew/tab_mag_dcmc.dat, tab_mag_odfnew/tab_mag_decam.dat, tab_mag_odfnew/tab_mag_decam_vista.dat, tab_mag_odfnew/tab_mag_denis.dat, tab_mag_odfnew/tab_mag_dmc14.dat, tab_mag_odfnew/tab_mag_dmc15.dat, tab_mag_odfnew/tab_mag_eis.dat, tab_mag_odfnew/tab_mag_wfi.dat, tab_mag_odfnew/tab_mag_wfi_sofi.dat, tab_mag_odfnew/tab_mag_wfi2.dat, tab_mag_odfnew/tab_mag_galex.dat, tab_mag_odfnew/tab_mag_galex_sloan.dat, tab_mag_odfnew/tab_mag_gaia.dat, tab_mag_odfnew/tab_mag_UVbright.dat, tab_mag_odfnew/tab_mag_acs_hrc.dat, tab_mag_odfnew/tab_mag_acs_wfc.dat, tab_mag_odfnew/tab_mag_nicmosab.dat, tab_mag_odfnew/tab_mag_nicmosst.dat, tab_mag_odfnew/tab_mag_nicmosvega.dat, tab_mag_odfnew/tab_mag_stis.dat, tab_mag_odfnew/tab_mag_wfc3ir.dat, tab_mag_odfnew/tab_mag_wfc3uvis1.dat, tab_mag_odfnew/tab_mag_wfc3uvis2.dat, tab_mag_odfnew/tab_mag_wfc3_wideverywide.dat, tab_mag_odfnew/tab_mag_wfc3_verywide.dat, tab_mag_odfnew/tab_mag_wfc3_medium.dat, tab_mag_odfnew/tab_mag_wfc3_wide.dat, tab_mag_odfnew/tab_mag_wfpc2.dat, tab_mag_odfnew/tab_mag_int_wfc.dat, tab_mag_odfnew/tab_mag_iphas.dat, tab_mag_odfnew/tab_mag_kepler.dat, tab_mag_odfnew/tab_mag_kepler_2mass.dat, tab_mag_odfnew/tab_mag_lbt_lbc.dat, tab_mag_odfnew/tab_mag_lsst.dat, tab_mag_odfnew/tab_mag_noao_ctio_mosaic2.dat, tab_mag_odfnew/tab_mag_ogle.dat, tab_mag_odfnew/tab_mag_panstarrs1.dat, tab_mag_odfnew/tab_mag_sloan.dat, tab_mag_odfnew/tab_mag_sloan_2mass.dat, tab_mag_odfnew/tab_mag_sloan_ukidss.dat, tab_mag_odfnew/tab_mag_swift_uvot.dat, tab_mag_odfnew/tab_mag_spitzer.dat, tab_mag_odfnew/tab_mag_stroemgren.dat, tab_mag_odfnew/tab_mag_suprimecam.dat, tab_mag_odfnew/tab_mag_TESS_2mass_kepler.dat, tab_mag_odfnew/tab_mag_tycho2.dat, tab_mag_odfnew/tab_mag_ukidss.dat, tab_mag_odfnew/tab_mag_visir.dat, tab_mag_odfnew/tab_mag_vista.dat, tab_mag_odfnew/tab_mag_vphas.dat, tab_mag_odfnew/tab_mag_vst_omegacam.dat, tab_mag_odfnew/tab_mag_vilnius.dat, tab_mag_odfnew/tab_mag_washington.dat, tab_mag_odfnew/tab_mag_washington_ddo51.dat, tab_mag_odfnew/tab_mag_jwst_wide.dat])>\n",
      "type=select, name=photsys_file \n",
      "<TextControl(icm_lim=4)>\n",
      "type=text, name=icm_lim \n",
      "<TextControl(mag_lim=26)>\n",
      "type=text, name=mag_lim \n",
      "<TextControl(mag_res=0.1)>\n",
      "type=text, name=mag_res \n",
      "<SelectControl(imf_file=[tab_imf/imf_salpeter.dat, tab_imf/imf_chabrier_exponential.dat, *tab_imf/imf_chabrier_lognormal.dat, tab_imf/imf_chabrier_lognormal_salpeter.dat, tab_imf/imf_kroupa.dat, tab_imf/imf_kroupa_orig.dat])>\n",
      "type=select, name=imf_file \n",
      "<RadioControl(binary_kind=[*1, 0])>\n",
      "type=radio, name=binary_kind \n",
      "<TextControl(binary_frac=0.3)>\n",
      "type=text, name=binary_frac \n",
      "<TextControl(binary_mrinf=0.7)>\n",
      "type=text, name=binary_mrinf \n",
      "<TextControl(binary_mrsup=1)>\n",
      "type=text, name=binary_mrsup \n",
      "<RadioControl(output_printbinaries=[*0, 1])>\n",
      "type=radio, name=output_printbinaries \n",
      "<RadioControl(extinction_kind=[0, 1, *2])>\n",
      "type=radio, name=extinction_kind \n",
      "<TextControl(extinction_h_z=110)>\n",
      "type=text, name=extinction_h_z \n",
      "<TextControl(extinction_h_r=100000)>\n",
      "type=text, name=extinction_h_r \n",
      "<TextControl(extinction_rho_sun=0.00015)>\n",
      "type=text, name=extinction_rho_sun \n",
      "<TextControl(extinction_infty=0.0378)>\n",
      "type=text, name=extinction_infty \n",
      "<TextControl(extinction_sigma=0)>\n",
      "type=text, name=extinction_sigma \n",
      "<TextControl(r_sun=8700)>\n",
      "type=text, name=r_sun \n",
      "<TextControl(z_sun=24.2)>\n",
      "type=text, name=z_sun \n",
      "<RadioControl(thindisk_kind=[0, 1, *3])>\n",
      "type=radio, name=thindisk_kind \n",
      "<TextControl(thindisk_h_z0=94.6902)>\n",
      "type=text, name=thindisk_h_z0 \n",
      "<TextControl(thindisk_hz_tau0=5.55079e9)>\n",
      "type=text, name=thindisk_hz_tau0 \n",
      "<TextControl(thindisk_hz_alpha=1.6666)>\n",
      "type=text, name=thindisk_hz_alpha \n",
      "<TextControl(thindisk_h_r=2913.36)>\n",
      "type=text, name=thindisk_h_r \n",
      "<TextControl(thindisk_r_min=0)>\n",
      "type=text, name=thindisk_r_min \n",
      "<TextControl(thindisk_r_max=15000)>\n",
      "type=text, name=thindisk_r_max \n",
      "<TextControl(thindisk_rho_sun=55.4082)>\n",
      "type=text, name=thindisk_rho_sun \n",
      "<SelectControl(thindisk_file=[tab_sfr/file_sfr_thindisk.dat, *tab_sfr/file_sfr_thindisk_mod.dat])>\n",
      "type=select, name=thindisk_file \n",
      "<TextControl(thindisk_a=0.735097)>\n",
      "type=text, name=thindisk_a \n",
      "<TextControl(thindisk_b=0)>\n",
      "type=text, name=thindisk_b \n",
      "<RadioControl(thickdisk_kind=[0, 1, *3])>\n",
      "type=radio, name=thickdisk_kind \n",
      "<TextControl(thickdisk_h_z=800)>\n",
      "type=text, name=thickdisk_h_z \n",
      "<TextControl(thickdisk_h_r=2394.07)>\n",
      "type=text, name=thickdisk_h_r \n",
      "<TextControl(thickdisk_r_min=0)>\n",
      "type=text, name=thickdisk_r_min \n",
      "<TextControl(thickdisk_r_max=15000)>\n",
      "type=text, name=thickdisk_r_max \n",
      "<TextControl(thickdisk_rho_sun=0.0010)>\n",
      "type=text, name=thickdisk_rho_sun \n",
      "<SelectControl(thickdisk_file=[*tab_sfr/file_sfr_thickdisk.dat])>\n",
      "type=select, name=thickdisk_file \n",
      "<TextControl(thickdisk_a=1)>\n",
      "type=text, name=thickdisk_a \n",
      "<TextControl(thickdisk_b=0)>\n",
      "type=text, name=thickdisk_b \n",
      "<RadioControl(halo_kind=[0, 1, *2])>\n",
      "type=radio, name=halo_kind \n",
      "<TextControl(halo_r_eff=2698.93)>\n",
      "type=text, name=halo_r_eff \n",
      "<TextControl(halo_q=0.583063)>\n",
      "type=text, name=halo_q \n",
      "<TextControl(halo_rho_sun=0.000100397)>\n",
      "type=text, name=halo_rho_sun \n",
      "<SelectControl(halo_file=[*tab_sfr/file_sfr_halo.dat, tab_sfr/file_sfr_halo_orig.dat])>\n",
      "type=select, name=halo_file \n",
      "<TextControl(halo_a=1)>\n",
      "type=text, name=halo_a \n",
      "<TextControl(halo_b=0)>\n",
      "type=text, name=halo_b \n",
      "<RadioControl(bulge_kind=[0, *2])>\n",
      "type=radio, name=bulge_kind \n",
      "<TextControl(bulge_am=2500)>\n",
      "type=text, name=bulge_am \n",
      "<TextControl(bulge_a0=95)>\n",
      "type=text, name=bulge_a0 \n",
      "<TextControl(bulge_eta=0.68)>\n",
      "type=text, name=bulge_eta \n",
      "<TextControl(bulge_csi=0.31)>\n",
      "type=text, name=bulge_csi \n",
      "<TextControl(bulge_phi0=15)>\n",
      "type=text, name=bulge_phi0 \n",
      "<TextControl(bulge_rho_central=406.0)>\n",
      "type=text, name=bulge_rho_central \n",
      "<SelectControl(bulge_file=[tab_sfr/file_sfr_bulge_zoccali.dat, *tab_sfr/file_sfr_bulge_zoccali_p03.dat])>\n",
      "type=select, name=bulge_file \n",
      "<TextControl(bulge_a=1)>\n",
      "type=text, name=bulge_a \n",
      "<TextControl(bulge_b=-2.0e9)>\n",
      "type=text, name=bulge_b \n",
      "<HiddenControl(object_kind=0) (readonly)>\n",
      "type=hidden, name=object_kind \n",
      "<HiddenControl(object_mass=1280) (readonly)>\n",
      "type=hidden, name=object_mass \n",
      "<HiddenControl(object_dist=1658) (readonly)>\n",
      "type=hidden, name=object_dist \n",
      "<HiddenControl(object_av=1.504) (readonly)>\n",
      "type=hidden, name=object_av \n",
      "<HiddenControl(object_avkind=1) (readonly)>\n",
      "type=hidden, name=object_avkind \n",
      "<HiddenControl(object_file=tab_sfr/file_sfr_m4.dat) (readonly)>\n",
      "type=hidden, name=object_file \n",
      "<HiddenControl(object_a=1) (readonly)>\n",
      "type=hidden, name=object_a \n",
      "<HiddenControl(object_b=0) (readonly)>\n",
      "type=hidden, name=object_b \n",
      "<HiddenControl(output_kind=1) (readonly)>\n",
      "type=hidden, name=output_kind \n",
      "<HiddenControl(object_kind=0) (readonly)>\n",
      "type=hidden, name=object_kind \n",
      "<HiddenControl(bulge_cutoffmass=0.01) (readonly)>\n",
      "type=hidden, name=bulge_cutoffmass \n",
      "<HiddenControl(object_cutoffmass=0.8) (readonly)>\n",
      "type=hidden, name=object_cutoffmass \n",
      "<SubmitControl(submit_form=Submit) (readonly)>\n",
      "type=submit, name=submit_form \n",
      "<SubmitControl(reset_form=Reset) (readonly)>\n",
      "type=submit, name=reset_form \n",
      "<HiddenControl(.cgifields=extinction_kind) (readonly)>\n",
      "type=hidden, name=.cgifields \n",
      "<HiddenControl(.cgifields=bulge_kind) (readonly)>\n",
      "type=hidden, name=.cgifields \n",
      "<HiddenControl(.cgifields=binary_kind) (readonly)>\n",
      "type=hidden, name=.cgifields \n",
      "<HiddenControl(.cgifields=thickdisk_kind) (readonly)>\n",
      "type=hidden, name=.cgifields \n",
      "<HiddenControl(.cgifields=halo_kind) (readonly)>\n",
      "type=hidden, name=.cgifields \n",
      "<HiddenControl(.cgifields=thindisk_kind) (readonly)>\n",
      "type=hidden, name=.cgifields \n",
      "<HiddenControl(.cgifields=output_printbinaries) (readonly)>\n",
      "type=hidden, name=.cgifields \n",
      "<HiddenControl(.cgifields=gal_coord) (readonly)>\n",
      "type=hidden, name=.cgifields \n"
     ]
    }
   ],
   "source": [
    "# Works for TRILEGAL form ! \n",
    "\n",
    "br = Browser()\n",
    "br.open(\"http://stev.oapd.inaf.it/cgi-bin/trilegal\")\n",
    "for form in br.forms():\n",
    "    print \"Form name:\", form.name\n",
    "    #print form\n",
    "br.select_form(nr=0)\n",
    "for control in br.form.controls:\n",
    "    print control\n",
    "    print \"type=%s, name=%s \" % (control.type, control.name)   "
   ]
  },
  {
   "cell_type": "code",
   "execution_count": 109,
   "metadata": {},
   "outputs": [
    {
     "name": "stdout",
     "output_type": "stream",
     "text": [
      "<SubmitControl(submit_form=Submit) (readonly)>\n",
      "type=submit, name=submit_form \n",
      "<SubmitControl(reset_form=Reset) (readonly)>\n",
      "type=submit, name=reset_form \n",
      "<HiddenControl(trilegal_version=1.6) (readonly)>\n",
      "type=hidden, name=trilegal_version \n",
      "<RadioControl(gal_coord=[*1, 2])>\n",
      "type=radio, name=gal_coord \n",
      "<TextControl(gc_l=0)>\n",
      "type=text, name=gc_l \n",
      "<TextControl(gc_b=90)>\n",
      "type=text, name=gc_b \n",
      "<TextControl(eq_alpha=0)>\n",
      "type=text, name=eq_alpha \n",
      "<TextControl(eq_delta=0)>\n",
      "type=text, name=eq_delta \n",
      "<TextControl(field=1)>\n",
      "type=text, name=field \n",
      "<SelectControl(photsys_file=[tab_mag_odfnew/tab_mag_.dat, tab_mag_odfnew/tab_mag_2mass_spitzer_wise.dat, tab_mag_odfnew/tab_mag_2mass.dat, tab_mag_odfnew/tab_mag_ogle_2mass_spitzer.dat, tab_mag_odfnew/tab_mag_2mass_spitzer_wise_washington_ddo51.dat, *tab_mag_odfnew/tab_mag_ubvrijhk.dat, tab_mag_odfnew/tab_mag_bessell.dat, tab_mag_odfnew/tab_mag_akari.dat, tab_mag_odfnew/tab_mag_batc.dat, tab_mag_odfnew/tab_mag_megacam_wircam.dat, tab_mag_odfnew/tab_mag_wircam.dat, tab_mag_odfnew/tab_mag_megacam.dat, tab_mag_odfnew/tab_mag_ciber.dat, tab_mag_odfnew/tab_mag_dcmc.dat, tab_mag_odfnew/tab_mag_decam.dat, tab_mag_odfnew/tab_mag_decam_vista.dat, tab_mag_odfnew/tab_mag_denis.dat, tab_mag_odfnew/tab_mag_dmc14.dat, tab_mag_odfnew/tab_mag_dmc15.dat, tab_mag_odfnew/tab_mag_eis.dat, tab_mag_odfnew/tab_mag_wfi.dat, tab_mag_odfnew/tab_mag_wfi_sofi.dat, tab_mag_odfnew/tab_mag_wfi2.dat, tab_mag_odfnew/tab_mag_galex.dat, tab_mag_odfnew/tab_mag_galex_sloan.dat, tab_mag_odfnew/tab_mag_gaia.dat, tab_mag_odfnew/tab_mag_UVbright.dat, tab_mag_odfnew/tab_mag_acs_hrc.dat, tab_mag_odfnew/tab_mag_acs_wfc.dat, tab_mag_odfnew/tab_mag_nicmosab.dat, tab_mag_odfnew/tab_mag_nicmosst.dat, tab_mag_odfnew/tab_mag_nicmosvega.dat, tab_mag_odfnew/tab_mag_stis.dat, tab_mag_odfnew/tab_mag_wfc3ir.dat, tab_mag_odfnew/tab_mag_wfc3uvis1.dat, tab_mag_odfnew/tab_mag_wfc3uvis2.dat, tab_mag_odfnew/tab_mag_wfc3_wideverywide.dat, tab_mag_odfnew/tab_mag_wfc3_verywide.dat, tab_mag_odfnew/tab_mag_wfc3_medium.dat, tab_mag_odfnew/tab_mag_wfc3_wide.dat, tab_mag_odfnew/tab_mag_wfpc2.dat, tab_mag_odfnew/tab_mag_int_wfc.dat, tab_mag_odfnew/tab_mag_iphas.dat, tab_mag_odfnew/tab_mag_kepler.dat, tab_mag_odfnew/tab_mag_kepler_2mass.dat, tab_mag_odfnew/tab_mag_lbt_lbc.dat, tab_mag_odfnew/tab_mag_lsst.dat, tab_mag_odfnew/tab_mag_noao_ctio_mosaic2.dat, tab_mag_odfnew/tab_mag_ogle.dat, tab_mag_odfnew/tab_mag_panstarrs1.dat, tab_mag_odfnew/tab_mag_sloan.dat, tab_mag_odfnew/tab_mag_sloan_2mass.dat, tab_mag_odfnew/tab_mag_sloan_ukidss.dat, tab_mag_odfnew/tab_mag_swift_uvot.dat, tab_mag_odfnew/tab_mag_spitzer.dat, tab_mag_odfnew/tab_mag_stroemgren.dat, tab_mag_odfnew/tab_mag_suprimecam.dat, tab_mag_odfnew/tab_mag_TESS_2mass_kepler.dat, tab_mag_odfnew/tab_mag_tycho2.dat, tab_mag_odfnew/tab_mag_ukidss.dat, tab_mag_odfnew/tab_mag_visir.dat, tab_mag_odfnew/tab_mag_vista.dat, tab_mag_odfnew/tab_mag_vphas.dat, tab_mag_odfnew/tab_mag_vst_omegacam.dat, tab_mag_odfnew/tab_mag_vilnius.dat, tab_mag_odfnew/tab_mag_washington.dat, tab_mag_odfnew/tab_mag_washington_ddo51.dat, tab_mag_odfnew/tab_mag_jwst_wide.dat])>\n",
      "type=select, name=photsys_file \n",
      "<TextControl(icm_lim=4)>\n",
      "type=text, name=icm_lim \n",
      "<TextControl(mag_lim=26)>\n",
      "type=text, name=mag_lim \n",
      "<TextControl(mag_res=0.1)>\n",
      "type=text, name=mag_res \n",
      "<SelectControl(imf_file=[tab_imf/imf_salpeter.dat, tab_imf/imf_chabrier_exponential.dat, *tab_imf/imf_chabrier_lognormal.dat, tab_imf/imf_chabrier_lognormal_salpeter.dat, tab_imf/imf_kroupa.dat, tab_imf/imf_kroupa_orig.dat])>\n",
      "type=select, name=imf_file \n",
      "<RadioControl(binary_kind=[*1, 0])>\n",
      "type=radio, name=binary_kind \n",
      "<TextControl(binary_frac=0.3)>\n",
      "type=text, name=binary_frac \n",
      "<TextControl(binary_mrinf=0.7)>\n",
      "type=text, name=binary_mrinf \n",
      "<TextControl(binary_mrsup=1)>\n",
      "type=text, name=binary_mrsup \n",
      "<RadioControl(output_printbinaries=[*0, 1])>\n",
      "type=radio, name=output_printbinaries \n",
      "<RadioControl(extinction_kind=[0, 1, *2])>\n",
      "type=radio, name=extinction_kind \n",
      "<TextControl(extinction_h_z=110)>\n",
      "type=text, name=extinction_h_z \n",
      "<TextControl(extinction_h_r=100000)>\n",
      "type=text, name=extinction_h_r \n",
      "<TextControl(extinction_rho_sun=0.00015)>\n",
      "type=text, name=extinction_rho_sun \n",
      "<TextControl(extinction_infty=0.0378)>\n",
      "type=text, name=extinction_infty \n",
      "<TextControl(extinction_sigma=0)>\n",
      "type=text, name=extinction_sigma \n",
      "<TextControl(r_sun=8700)>\n",
      "type=text, name=r_sun \n",
      "<TextControl(z_sun=24.2)>\n",
      "type=text, name=z_sun \n",
      "<RadioControl(thindisk_kind=[0, 1, *3])>\n",
      "type=radio, name=thindisk_kind \n",
      "<TextControl(thindisk_h_z0=94.6902)>\n",
      "type=text, name=thindisk_h_z0 \n",
      "<TextControl(thindisk_hz_tau0=5.55079e9)>\n",
      "type=text, name=thindisk_hz_tau0 \n",
      "<TextControl(thindisk_hz_alpha=1.6666)>\n",
      "type=text, name=thindisk_hz_alpha \n",
      "<TextControl(thindisk_h_r=2913.36)>\n",
      "type=text, name=thindisk_h_r \n",
      "<TextControl(thindisk_r_min=0)>\n",
      "type=text, name=thindisk_r_min \n",
      "<TextControl(thindisk_r_max=15000)>\n",
      "type=text, name=thindisk_r_max \n",
      "<TextControl(thindisk_rho_sun=55.4082)>\n",
      "type=text, name=thindisk_rho_sun \n",
      "<SelectControl(thindisk_file=[tab_sfr/file_sfr_thindisk.dat, *tab_sfr/file_sfr_thindisk_mod.dat])>\n",
      "type=select, name=thindisk_file \n",
      "<TextControl(thindisk_a=0.735097)>\n",
      "type=text, name=thindisk_a \n",
      "<TextControl(thindisk_b=0)>\n",
      "type=text, name=thindisk_b \n",
      "<RadioControl(thickdisk_kind=[0, 1, *3])>\n",
      "type=radio, name=thickdisk_kind \n",
      "<TextControl(thickdisk_h_z=800)>\n",
      "type=text, name=thickdisk_h_z \n",
      "<TextControl(thickdisk_h_r=2394.07)>\n",
      "type=text, name=thickdisk_h_r \n",
      "<TextControl(thickdisk_r_min=0)>\n",
      "type=text, name=thickdisk_r_min \n",
      "<TextControl(thickdisk_r_max=15000)>\n",
      "type=text, name=thickdisk_r_max \n",
      "<TextControl(thickdisk_rho_sun=0.0010)>\n",
      "type=text, name=thickdisk_rho_sun \n",
      "<SelectControl(thickdisk_file=[*tab_sfr/file_sfr_thickdisk.dat])>\n",
      "type=select, name=thickdisk_file \n",
      "<TextControl(thickdisk_a=1)>\n",
      "type=text, name=thickdisk_a \n",
      "<TextControl(thickdisk_b=0)>\n",
      "type=text, name=thickdisk_b \n",
      "<RadioControl(halo_kind=[0, 1, *2])>\n",
      "type=radio, name=halo_kind \n",
      "<TextControl(halo_r_eff=2698.93)>\n",
      "type=text, name=halo_r_eff \n",
      "<TextControl(halo_q=0.583063)>\n",
      "type=text, name=halo_q \n",
      "<TextControl(halo_rho_sun=0.000100397)>\n",
      "type=text, name=halo_rho_sun \n",
      "<SelectControl(halo_file=[*tab_sfr/file_sfr_halo.dat, tab_sfr/file_sfr_halo_orig.dat])>\n",
      "type=select, name=halo_file \n",
      "<TextControl(halo_a=1)>\n",
      "type=text, name=halo_a \n",
      "<TextControl(halo_b=0)>\n",
      "type=text, name=halo_b \n",
      "<RadioControl(bulge_kind=[0, *2])>\n",
      "type=radio, name=bulge_kind \n",
      "<TextControl(bulge_am=2500)>\n",
      "type=text, name=bulge_am \n",
      "<TextControl(bulge_a0=95)>\n",
      "type=text, name=bulge_a0 \n",
      "<TextControl(bulge_eta=0.68)>\n",
      "type=text, name=bulge_eta \n",
      "<TextControl(bulge_csi=0.31)>\n",
      "type=text, name=bulge_csi \n",
      "<TextControl(bulge_phi0=15)>\n",
      "type=text, name=bulge_phi0 \n",
      "<TextControl(bulge_rho_central=406.0)>\n",
      "type=text, name=bulge_rho_central \n",
      "<SelectControl(bulge_file=[tab_sfr/file_sfr_bulge_zoccali.dat, *tab_sfr/file_sfr_bulge_zoccali_p03.dat])>\n",
      "type=select, name=bulge_file \n",
      "<TextControl(bulge_a=1)>\n",
      "type=text, name=bulge_a \n",
      "<TextControl(bulge_b=-2.0e9)>\n",
      "type=text, name=bulge_b \n",
      "<HiddenControl(object_kind=0) (readonly)>\n",
      "type=hidden, name=object_kind \n",
      "<HiddenControl(object_mass=1280) (readonly)>\n",
      "type=hidden, name=object_mass \n",
      "<HiddenControl(object_dist=1658) (readonly)>\n",
      "type=hidden, name=object_dist \n",
      "<HiddenControl(object_av=1.504) (readonly)>\n",
      "type=hidden, name=object_av \n",
      "<HiddenControl(object_avkind=1) (readonly)>\n",
      "type=hidden, name=object_avkind \n",
      "<HiddenControl(object_file=tab_sfr/file_sfr_m4.dat) (readonly)>\n",
      "type=hidden, name=object_file \n",
      "<HiddenControl(object_a=1) (readonly)>\n",
      "type=hidden, name=object_a \n",
      "<HiddenControl(object_b=0) (readonly)>\n",
      "type=hidden, name=object_b \n",
      "<HiddenControl(output_kind=1) (readonly)>\n",
      "type=hidden, name=output_kind \n",
      "<HiddenControl(object_kind=0) (readonly)>\n",
      "type=hidden, name=object_kind \n",
      "<HiddenControl(bulge_cutoffmass=0.01) (readonly)>\n",
      "type=hidden, name=bulge_cutoffmass \n",
      "<HiddenControl(object_cutoffmass=0.8) (readonly)>\n",
      "type=hidden, name=object_cutoffmass \n",
      "<SubmitControl(submit_form=Submit) (readonly)>\n",
      "type=submit, name=submit_form \n",
      "<SubmitControl(reset_form=Reset) (readonly)>\n",
      "type=submit, name=reset_form \n",
      "<HiddenControl(.cgifields=binary_kind) (readonly)>\n",
      "type=hidden, name=.cgifields \n",
      "<HiddenControl(.cgifields=output_printbinaries) (readonly)>\n",
      "type=hidden, name=.cgifields \n",
      "<HiddenControl(.cgifields=gal_coord) (readonly)>\n",
      "type=hidden, name=.cgifields \n",
      "<HiddenControl(.cgifields=halo_kind) (readonly)>\n",
      "type=hidden, name=.cgifields \n",
      "<HiddenControl(.cgifields=thickdisk_kind) (readonly)>\n",
      "type=hidden, name=.cgifields \n",
      "<HiddenControl(.cgifields=extinction_kind) (readonly)>\n",
      "type=hidden, name=.cgifields \n",
      "<HiddenControl(.cgifields=bulge_kind) (readonly)>\n",
      "type=hidden, name=.cgifields \n",
      "<HiddenControl(.cgifields=thindisk_kind) (readonly)>\n",
      "type=hidden, name=.cgifields \n"
     ]
    }
   ],
   "source": [
    "# But doesn't work with CRTS ...\n",
    "br = Browser()\n",
    "br.set_handle_robots(False)\n",
    "url = \"http://nesssi.cacr.caltech.edu/cgi-bin/getmulticonedb_release2.cgi\"\n",
    "br.open(url)\n",
    "br.select_form(nr=0)"
   ]
  },
  {
   "cell_type": "code",
   "execution_count": 116,
   "metadata": {},
   "outputs": [
    {
     "name": "stdout",
     "output_type": "stream",
     "text": [
      "Form name: None\n"
     ]
    },
    {
     "ename": "ControlNotFoundError",
     "evalue": "no control matching name 'Rad'",
     "output_type": "error",
     "traceback": [
      "\u001b[0;31m---------------------------------------------------------------------------\u001b[0m",
      "\u001b[0;31mControlNotFoundError\u001b[0m                      Traceback (most recent call last)",
      "\u001b[0;32m<ipython-input-116-b8eff1f74c8f>\u001b[0m in \u001b[0;36m<module>\u001b[0;34m()\u001b[0m\n\u001b[1;32m     12\u001b[0m     \u001b[0;32mprint\u001b[0m \u001b[0;34m\"type=%s, name=%s \"\u001b[0m \u001b[0;34m%\u001b[0m \u001b[0;34m(\u001b[0m\u001b[0mcontrol\u001b[0m\u001b[0;34m.\u001b[0m\u001b[0mtype\u001b[0m\u001b[0;34m,\u001b[0m \u001b[0mcontrol\u001b[0m\u001b[0;34m.\u001b[0m\u001b[0mname\u001b[0m\u001b[0;34m)\u001b[0m\u001b[0;34m\u001b[0m\u001b[0m\n\u001b[1;32m     13\u001b[0m \u001b[0;34m\u001b[0m\u001b[0m\n\u001b[0;32m---> 14\u001b[0;31m \u001b[0mbr\u001b[0m\u001b[0;34m[\u001b[0m\u001b[0;34m\"Rad\"\u001b[0m\u001b[0;34m]\u001b[0m \u001b[0;34m=\u001b[0m \u001b[0;36m0.002\u001b[0m\u001b[0;34m\u001b[0m\u001b[0m\n\u001b[0m",
      "\u001b[0;32m/Users/chris/anaconda3/envs/py27/lib/python2.7/site-packages/mechanize/_form_controls.pyc\u001b[0m in \u001b[0;36m__setitem__\u001b[0;34m(self, name, value)\u001b[0m\n\u001b[1;32m   1943\u001b[0m \u001b[0;34m\u001b[0m\u001b[0m\n\u001b[1;32m   1944\u001b[0m     \u001b[0;32mdef\u001b[0m \u001b[0m__setitem__\u001b[0m\u001b[0;34m(\u001b[0m\u001b[0mself\u001b[0m\u001b[0;34m,\u001b[0m \u001b[0mname\u001b[0m\u001b[0;34m,\u001b[0m \u001b[0mvalue\u001b[0m\u001b[0;34m)\u001b[0m\u001b[0;34m:\u001b[0m\u001b[0;34m\u001b[0m\u001b[0m\n\u001b[0;32m-> 1945\u001b[0;31m         \u001b[0mcontrol\u001b[0m \u001b[0;34m=\u001b[0m \u001b[0mself\u001b[0m\u001b[0;34m.\u001b[0m\u001b[0mfind_control\u001b[0m\u001b[0;34m(\u001b[0m\u001b[0mname\u001b[0m\u001b[0;34m)\u001b[0m\u001b[0;34m\u001b[0m\u001b[0m\n\u001b[0m\u001b[1;32m   1946\u001b[0m         \u001b[0;32mtry\u001b[0m\u001b[0;34m:\u001b[0m\u001b[0;34m\u001b[0m\u001b[0m\n\u001b[1;32m   1947\u001b[0m             \u001b[0mcontrol\u001b[0m\u001b[0;34m.\u001b[0m\u001b[0mvalue\u001b[0m \u001b[0;34m=\u001b[0m \u001b[0mvalue\u001b[0m\u001b[0;34m\u001b[0m\u001b[0m\n",
      "\u001b[0;32m/Users/chris/anaconda3/envs/py27/lib/python2.7/site-packages/mechanize/_form_controls.pyc\u001b[0m in \u001b[0;36mfind_control\u001b[0;34m(self, name, type, kind, id, predicate, nr, label)\u001b[0m\n\u001b[1;32m   2329\u001b[0m             raise ValueError(\n\u001b[1;32m   2330\u001b[0m                 \"at least one argument must be supplied to specify control\")\n\u001b[0;32m-> 2331\u001b[0;31m         \u001b[0;32mreturn\u001b[0m \u001b[0mself\u001b[0m\u001b[0;34m.\u001b[0m\u001b[0m_find_control\u001b[0m\u001b[0;34m(\u001b[0m\u001b[0mname\u001b[0m\u001b[0;34m,\u001b[0m \u001b[0mtype\u001b[0m\u001b[0;34m,\u001b[0m \u001b[0mkind\u001b[0m\u001b[0;34m,\u001b[0m \u001b[0mid\u001b[0m\u001b[0;34m,\u001b[0m \u001b[0mlabel\u001b[0m\u001b[0;34m,\u001b[0m \u001b[0mpredicate\u001b[0m\u001b[0;34m,\u001b[0m \u001b[0mnr\u001b[0m\u001b[0;34m)\u001b[0m\u001b[0;34m\u001b[0m\u001b[0m\n\u001b[0m\u001b[1;32m   2332\u001b[0m \u001b[0;34m\u001b[0m\u001b[0m\n\u001b[1;32m   2333\u001b[0m \u001b[0;31m# ---------------------------------------------------\u001b[0m\u001b[0;34m\u001b[0m\u001b[0;34m\u001b[0m\u001b[0m\n",
      "\u001b[0;32m/Users/chris/anaconda3/envs/py27/lib/python2.7/site-packages/mechanize/_form_controls.pyc\u001b[0m in \u001b[0;36m_find_control\u001b[0;34m(self, name, type, kind, id, label, predicate, nr)\u001b[0m\n\u001b[1;32m   2422\u001b[0m                                  description)\n\u001b[1;32m   2423\u001b[0m         \u001b[0;32melif\u001b[0m \u001b[0;32mnot\u001b[0m \u001b[0mfound\u001b[0m\u001b[0;34m:\u001b[0m\u001b[0;34m\u001b[0m\u001b[0m\n\u001b[0;32m-> 2424\u001b[0;31m             \u001b[0;32mraise\u001b[0m \u001b[0mControlNotFoundError\u001b[0m\u001b[0;34m(\u001b[0m\u001b[0;34m\"no control matching \"\u001b[0m \u001b[0;34m+\u001b[0m \u001b[0mdescription\u001b[0m\u001b[0;34m)\u001b[0m\u001b[0;34m\u001b[0m\u001b[0m\n\u001b[0m\u001b[1;32m   2425\u001b[0m         \u001b[0;32massert\u001b[0m \u001b[0mFalse\u001b[0m\u001b[0;34m\u001b[0m\u001b[0m\n\u001b[1;32m   2426\u001b[0m \u001b[0;34m\u001b[0m\u001b[0m\n",
      "\u001b[0;31mControlNotFoundError\u001b[0m: no control matching name 'Rad'"
     ]
    }
   ],
   "source": [
    "\n",
    "br = Browser()\n",
    "br.set_handle_robots(False)\n",
    "url = \"http://nesssi.cacr.caltech.edu/cgi-bin/getmulticonedb_release2.cgi\"\n",
    "br.open(url)\n",
    "for form in br.forms():\n",
    "    print \"Form name:\", form.name\n",
    "    #print form\n",
    "br.select_form(nr=0)\n",
    "for control in br.form.controls:\n",
    "    print control\n",
    "    print \"type=%s, name=%s \" % (control.type, control.name)   \n",
    "    \n",
    "br[\"Rad\"] = 0.002"
   ]
  },
  {
   "cell_type": "code",
   "execution_count": 113,
   "metadata": {},
   "outputs": [
    {
     "data": {
      "text/plain": [
       "'<!DOCTYPE html\\n\\tPUBLIC \"-//W3C//DTD XHTML 1.0 Transitional//EN\"\\n\\t \"http://www.w3.org/TR/xhtml1/DTD/xhtml1-transitional.dtd\">\\n<html xmlns=\"http://www.w3.org/1999/xhtml\" lang=\"en-US\" xml:lang=\"en-US\">\\n<head>\\n<title>Positional MulitCone Search</title>\\n<META HTTP-EQUIV=\"CACHE-CONTROL\" CONTENT=\"NO-CACHE\">\\n<link rel=\"stylesheet\" type=\"text/css\" href=\"/DataRelease/main-v3.css\" />\\n<meta http-equiv=\"Content-Type\" content=\"text/html; charset=iso-8859-1\" />\\n</head>\\n<body link=\"#E1E10\" alink=\"#ffff00\" vlink=\"#00ffff\" bgcolor=\"#00004f\" text=\"#000000\" charset=\"utf-7\">\\n<div class=\"wrapper\">\\n<table width=\"100%\" border=0 bgcolor=\"#00007f\"><tr><td valign=\"center\">\\n<div align=left><a href=\"http://www.lpl.arizona.edu/css/\"><img src=/DataRelease/csslogo2_ss.jpg></a></div>\\n<td><font size=6 color=white> The Catalina Surveys</font><td valign=\"top\">\\n<div align=right><a href=\"http://crts.caltech.edu\"><img src=/DataRelease/CRTS_top.s.gif></a></div></tr></table>\\n<center><p>\\n<H3>Multi-Object Search Service</H3><table border=0 width=500 bgcolor=\"#c0c0c0\" cellpadding=5 cellspacing=0>\\n<form method=\"post\" action=\"/cgi-bin/getmulticonedb_release2.cgi\" enctype=\"multipart/form-data\">\\n\\n<tr>\\n<td align=\"right\">\\nUpload file:\\n</td>\\n<td>\\n<input type=\"file\" name=\"upload_file\"  size=\"30\" maxlength=\"80\" /></td>\\n</tr>\\n<tr><td></td><td><a href=http://catalinadata.org/multicone.html>file format:</a> ID RA Dec (decimal degrees) [limit 100 locations]<td></tr>\\n<tr>\\n<td align=\"right\">\\nRadius:\\n</td>\\n<td>\\n<input type=\"text\" name=\"Rad\"  size=\"6\" maxlength=\"10\" 0.002 /> (deg < 0.02, default=0.002)</td>\\n</tr>\\n<tr>\\n<td align=\"right\">\\nDatabase:\\n</td>\\n<td>\\n<label><input type=\"checkbox\" name=\"DB\" value=\"photcat\" checked=\"checked\" />photcat</label><label><input type=\"checkbox\" name=\"DB\" value=\"orphancat\" />orphancat</label></td>\\n</tr>\\n</table><table width=500 border=0 bgcolor=\"#c0c0c0\" cellpadding=5 cellspacing=0><tr><td><tr>\\n<td colspan=2 align=\"center\">\\n<hr noshade size=1>\\n<input type=\"submit\" name=\".submit\" value=\"Submit\" onclick=\"return ValidateAllFields(this.form);\" />\\n</td>\\n</tr>\\n</table>\\n<a onclick=\"document.getElementById(\\'div_name\\').style.display=\\'\\';return false;\"href=\"\" style=\"text-decoration:none;border-bottom:1px dotted blue;\">Advanced parameters</a><br>\\n<div id=\"div_name\" style=\"display:none;margin:5px 15px 0px 15px;padding:5px;border:0px solid #aaa;\"><table width=500 border=0 bgcolor=\"#c0c0c0\" cellpadding=5 cellspacing=0><tr><td><tr>\\n<td align=\"right\">\\nOutput:\\n</td>\\n<td>\\n<label><input type=\"radio\" name=\"OUT\" value=\"web\" />HTML</label><br /><label><input type=\"radio\" name=\"OUT\" value=\"csv\" checked=\"checked\" />ASCII</label><br /></td>\\n<td align=\"right\">\\nFormat:\\n</td>\\n<td align=\"left\">\\n<label><input type=\"radio\" name=\"SHORT\" value=\"short\" checked=\"checked\" />short</label><br /><label><input type=\"radio\" name=\"SHORT\" value=\"long\" />long</label><br /></td></tr><tr>\\n<td align=\"right\">\\nProcessing:\\n</td>\\n<td align=\"left\">\\n<label><input type=\"checkbox\" name=\"VERB\" value=\"verbose\" checked=\"checked\" />verbose</label></td>\\n</tr>\\n</table>\\n<div><input type=\"hidden\" name=\".cgifields\" value=\"DB\"  /></div></form>\\n<a onclick=\"document.getElementById(\\'div_name\\').style.display=\\'none\\';return false;\" href=\"\"\\nstyle=\"text-decoration:none;border-bottom:1px dotted blue;\">hide</a>\\n</div>\\n<p><font color=white>Details of the data and service <a href=\"http://nesssi.cacr.caltech.edu/DataRelease/usage_multicone.html\">usage</a>.<br></font></center>\\n<div class=\"push\"></div>\\n</div>\\n<div class=\"footer\">\\n<img src=/DataRelease/lpl_logo.gif width=70 height=80><img src=../DataRelease/nsf1.gif width=80 height=80><img src=/DataRelease/tinycitlogo.gif width=80 height=80>\\n</div>'"
      ]
     },
     "execution_count": 113,
     "metadata": {},
     "output_type": "execute_result"
    }
   ],
   "source": [
    "Hi!\n",
    "\n",
    "I'm trying to submit a file to a form with mechanize. I tried following all advice I found on SO for similar questions, but it doesn't work in that  case and I'm trying to understand why. \n",
    "\n",
    "I tried : \n",
    "    \n",
    "from mechanize import Browser\n",
    "br = Browser()\n",
    "br.set_handle_robots(False)\n",
    "url = \"http://nesssi.cacr.caltech.edu/cgi-bin/getmulticonedb_release2.cgi\"\n",
    "br.open(url)\n",
    "for form in br.forms():\n",
    "    print \"Form name:\", form.name\n",
    "\n",
    "br.select_form(nr=0)\n",
    "\n",
    "but trying to eg. set the value of \"Rad\" : \n",
    "    \n",
    "br[\"Rad\"] = 0.1\n",
    "\n",
    "I get an error \n",
    "\n",
    "ControlNotFoundError: no control matching name 'Rad'\n",
    "    \n",
    "    \n",
    "As I check with  \n",
    "\n",
    "resp = br.open(url)\n",
    "resp.read()\n",
    "\n",
    "There is a form with method=\"post\" action=\"/cgi-bin/getmulticonedb_release2.cgi\" enctype=\"multipart/form-data',\n",
    "and five inputs : file upload, text input, two checkboxes, and submit button. \n",
    "\n",
    "How can  I set the value of these controls?  \n",
    "\n",
    "        <input type=\"file\" name=\"upload_file\"  size=\"30\" maxlength=\"80\" />\n",
    "        <input type=\"text\" name=\"Rad\"  size=\"6\" maxlength=\"10\" 0.002 /> (deg < 0.02, default=0.002)\n",
    "        <input type=\"checkbox\" name=\"DB\" value=\"photcat\" checked=\"checked\" />photcat\n",
    "        <input type=\"checkbox\" name=\"DB\" value=\"orphancat\" />orphancat\n",
    "        <input type=\"submit\" name=\".submit\" value=\"Submit\" onclick=\"returnValidateAllFields(this.form);\" />"
   ]
  },
  {
   "cell_type": "code",
   "execution_count": 114,
   "metadata": {},
   "outputs": [
    {
     "ename": "AttributeError",
     "evalue": "mechanize._mechanize.Browser instance has no attribute __setitem__ (perhaps you forgot to .select_form()?)",
     "output_type": "error",
     "traceback": [
      "\u001b[0;31m---------------------------------------------------------------------------\u001b[0m",
      "\u001b[0;31mAttributeError\u001b[0m                            Traceback (most recent call last)",
      "\u001b[0;32m<ipython-input-114-27ddd2b69a00>\u001b[0m in \u001b[0;36m<module>\u001b[0;34m()\u001b[0m\n\u001b[0;32m----> 1\u001b[0;31m \u001b[0mbrowser\u001b[0m\u001b[0;34m[\u001b[0m\u001b[0;34m'Rad'\u001b[0m\u001b[0;34m]\u001b[0m \u001b[0;34m=\u001b[0m \u001b[0;36m0.002\u001b[0m\u001b[0;34m\u001b[0m\u001b[0m\n\u001b[0m\u001b[1;32m      2\u001b[0m \u001b[0;31m#print response.read()      # the text of the page\u001b[0m\u001b[0;34m\u001b[0m\u001b[0;34m\u001b[0m\u001b[0m\n\u001b[1;32m      3\u001b[0m \u001b[0;31m#response1 = br.response()  # get the response again\u001b[0m\u001b[0;34m\u001b[0m\u001b[0;34m\u001b[0m\u001b[0m\n\u001b[1;32m      4\u001b[0m \u001b[0;31m#print response1.read()\u001b[0m\u001b[0;34m\u001b[0m\u001b[0;34m\u001b[0m\u001b[0m\n",
      "\u001b[0;32m/Users/chris/anaconda3/envs/py27/lib/python2.7/site-packages/mechanize/_mechanize.pyc\u001b[0m in \u001b[0;36m__getattr__\u001b[0;34m(self, name)\u001b[0m\n\u001b[1;32m    781\u001b[0m             raise AttributeError(\n\u001b[1;32m    782\u001b[0m                 \u001b[0;34m\"%s instance has no attribute %s (perhaps you forgot to \"\u001b[0m\u001b[0;34m\u001b[0m\u001b[0m\n\u001b[0;32m--> 783\u001b[0;31m                 \".select_form()?)\" % (self.__class__, name))\n\u001b[0m\u001b[1;32m    784\u001b[0m         \u001b[0;32mreturn\u001b[0m \u001b[0mgetattr\u001b[0m\u001b[0;34m(\u001b[0m\u001b[0mform\u001b[0m\u001b[0;34m,\u001b[0m \u001b[0mname\u001b[0m\u001b[0;34m)\u001b[0m\u001b[0;34m\u001b[0m\u001b[0m\n\u001b[1;32m    785\u001b[0m \u001b[0;34m\u001b[0m\u001b[0m\n",
      "\u001b[0;31mAttributeError\u001b[0m: mechanize._mechanize.Browser instance has no attribute __setitem__ (perhaps you forgot to .select_form()?)"
     ]
    }
   ],
   "source": [
    "browser['Rad'] = 0.002\n",
    "#print response.read()      # the text of the page\n",
    "#response1 = br.response()  # get the response again\n",
    "#print response1.read()  \n"
   ]
  },
  {
   "cell_type": "code",
   "execution_count": 115,
   "metadata": {},
   "outputs": [],
   "source": [
    "form = br.select_form(nr=0)"
   ]
  },
  {
   "cell_type": "code",
   "execution_count": null,
   "metadata": {
    "collapsed": true
   },
   "outputs": [],
   "source": [
    "form.set_value()"
   ]
  },
  {
   "cell_type": "code",
   "execution_count": 95,
   "metadata": {},
   "outputs": [
    {
     "name": "stdout",
     "output_type": "stream",
     "text": [
      "Form name: None\n",
      "<post http://nesssi.cacr.caltech.edu/cgi-bin/getmulticonedb_release2.cgi multipart/form-data>\n"
     ]
    }
   ],
   "source": [
    "for form in br.forms():\n",
    "    print \"Form name:\", form.name\n",
    "    print form"
   ]
  },
  {
   "cell_type": "code",
   "execution_count": 97,
   "metadata": {
    "collapsed": true
   },
   "outputs": [],
   "source": [
    "br.form = list(br.forms())[0] "
   ]
  },
  {
   "cell_type": "code",
   "execution_count": 98,
   "metadata": {},
   "outputs": [],
   "source": [
    "for control in br.form.controls:\n",
    "    print control\n",
    "    print \"type=%s, name=%s value=%s\" % (control.type, control.name, br[control.name])\n"
   ]
  },
  {
   "cell_type": "markdown",
   "metadata": {},
   "source": [
    "https://www.pythonforbeginners.com/cheatsheet/python-mechanize-cheat-sheet"
   ]
  },
  {
   "cell_type": "code",
   "execution_count": 84,
   "metadata": {},
   "outputs": [],
   "source": []
  },
  {
   "cell_type": "code",
   "execution_count": 92,
   "metadata": {},
   "outputs": [
    {
     "ename": "FormNotFoundError",
     "evalue": "no form matching nr 1",
     "output_type": "error",
     "traceback": [
      "\u001b[0;31m---------------------------------------------------------------------------\u001b[0m",
      "\u001b[0;31mFormNotFoundError\u001b[0m                         Traceback (most recent call last)",
      "\u001b[0;32m<ipython-input-92-8d2231261571>\u001b[0m in \u001b[0;36m<module>\u001b[0;34m()\u001b[0m\n\u001b[1;32m      8\u001b[0m \u001b[0;31m#br.form.new_control('file', form_field_name, {'id':form_field_id})\u001b[0m\u001b[0;34m\u001b[0m\u001b[0;34m\u001b[0m\u001b[0m\n\u001b[1;32m      9\u001b[0m \u001b[0;31m#br.form.new_control('submit', 'Button', {})\u001b[0m\u001b[0;34m\u001b[0m\u001b[0;34m\u001b[0m\u001b[0m\n\u001b[0;32m---> 10\u001b[0;31m \u001b[0mform\u001b[0m \u001b[0;34m=\u001b[0m \u001b[0mbr\u001b[0m\u001b[0;34m.\u001b[0m\u001b[0mselect_form\u001b[0m\u001b[0;34m(\u001b[0m\u001b[0mnr\u001b[0m\u001b[0;34m=\u001b[0m\u001b[0;36m1\u001b[0m\u001b[0;34m)\u001b[0m\u001b[0;34m\u001b[0m\u001b[0m\n\u001b[0m",
      "\u001b[0;32m/Users/chris/anaconda3/envs/py27/lib/python2.7/site-packages/mechanize/_mechanize.pyc\u001b[0m in \u001b[0;36mselect_form\u001b[0;34m(self, name, predicate, nr, **attrs)\u001b[0m\n\u001b[1;32m    665\u001b[0m                     \u001b[0mdescription\u001b[0m\u001b[0;34m.\u001b[0m\u001b[0mappend\u001b[0m\u001b[0;34m(\u001b[0m\u001b[0;34m'%s = %r'\u001b[0m \u001b[0;34m%\u001b[0m \u001b[0;34m(\u001b[0m\u001b[0mk\u001b[0m\u001b[0;34m,\u001b[0m \u001b[0mv\u001b[0m\u001b[0;34m)\u001b[0m\u001b[0;34m)\u001b[0m\u001b[0;34m\u001b[0m\u001b[0m\n\u001b[1;32m    666\u001b[0m             \u001b[0mdescription\u001b[0m \u001b[0;34m=\u001b[0m \u001b[0;34m\", \"\u001b[0m\u001b[0;34m.\u001b[0m\u001b[0mjoin\u001b[0m\u001b[0;34m(\u001b[0m\u001b[0mdescription\u001b[0m\u001b[0;34m)\u001b[0m\u001b[0;34m\u001b[0m\u001b[0m\n\u001b[0;32m--> 667\u001b[0;31m             \u001b[0;32mraise\u001b[0m \u001b[0mFormNotFoundError\u001b[0m\u001b[0;34m(\u001b[0m\u001b[0;34m\"no form matching \"\u001b[0m \u001b[0;34m+\u001b[0m \u001b[0mdescription\u001b[0m\u001b[0;34m)\u001b[0m\u001b[0;34m\u001b[0m\u001b[0m\n\u001b[0m\u001b[1;32m    668\u001b[0m \u001b[0;34m\u001b[0m\u001b[0m\n\u001b[1;32m    669\u001b[0m     \u001b[0;32mdef\u001b[0m \u001b[0mclick\u001b[0m\u001b[0;34m(\u001b[0m\u001b[0mself\u001b[0m\u001b[0;34m,\u001b[0m \u001b[0;34m*\u001b[0m\u001b[0margs\u001b[0m\u001b[0;34m,\u001b[0m \u001b[0;34m**\u001b[0m\u001b[0mkwds\u001b[0m\u001b[0;34m)\u001b[0m\u001b[0;34m:\u001b[0m\u001b[0;34m\u001b[0m\u001b[0m\n",
      "\u001b[0;31mFormNotFoundError\u001b[0m: no form matching nr 1"
     ]
    }
   ],
   "source": [
    "br = Browser()\n",
    "br.set_handle_robots(False)\n",
    "url = \"http://nesssi.cacr.caltech.edu/cgi-bin/getmulticonedb_release2.cgi\"\n",
    "br.open(url)\n",
    "#br.form = HTMLForm(url, method='post', enctype='multipart/form-data')\n",
    "\n",
    "# what is the form_field_name?  \n",
    "#br.form.new_control('file', form_field_name, {'id':form_field_id})\n",
    "#br.form.new_control('submit', 'Button', {})\n",
    "form = br.select_form(nr=1)\n"
   ]
  },
  {
   "cell_type": "code",
   "execution_count": 91,
   "metadata": {},
   "outputs": [
    {
     "ename": "ControlNotFoundError",
     "evalue": "no control matching type 'file'",
     "output_type": "error",
     "traceback": [
      "\u001b[0;31m---------------------------------------------------------------------------\u001b[0m",
      "\u001b[0;31mControlNotFoundError\u001b[0m                      Traceback (most recent call last)",
      "\u001b[0;32m<ipython-input-91-bcec55983c2e>\u001b[0m in \u001b[0;36m<module>\u001b[0;34m()\u001b[0m\n\u001b[0;32m----> 1\u001b[0;31m \u001b[0mbr\u001b[0m\u001b[0;34m.\u001b[0m\u001b[0mform\u001b[0m\u001b[0;34m.\u001b[0m\u001b[0madd_file\u001b[0m\u001b[0;34m(\u001b[0m\u001b[0mopen\u001b[0m\u001b[0;34m(\u001b[0m\u001b[0mfilename\u001b[0m\u001b[0;34m)\u001b[0m\u001b[0;34m,\u001b[0m \u001b[0;34m'text/plain'\u001b[0m\u001b[0;34m,\u001b[0m \u001b[0mfilename\u001b[0m\u001b[0;34m)\u001b[0m\u001b[0;34m\u001b[0m\u001b[0m\n\u001b[0m",
      "\u001b[0;32m/Users/chris/anaconda3/envs/py27/lib/python2.7/site-packages/mechanize/_form_controls.pyc\u001b[0m in \u001b[0;36madd_file\u001b[0;34m(self, file_object, content_type, filename, name, id, nr, label)\u001b[0m\n\u001b[1;32m   2201\u001b[0m         self.find_control(\n\u001b[1;32m   2202\u001b[0m             \u001b[0mname\u001b[0m\u001b[0;34m,\u001b[0m \u001b[0;34m\"file\"\u001b[0m\u001b[0;34m,\u001b[0m \u001b[0mid\u001b[0m\u001b[0;34m=\u001b[0m\u001b[0mid\u001b[0m\u001b[0;34m,\u001b[0m \u001b[0mlabel\u001b[0m\u001b[0;34m=\u001b[0m\u001b[0mlabel\u001b[0m\u001b[0;34m,\u001b[0m\u001b[0;34m\u001b[0m\u001b[0m\n\u001b[0;32m-> 2203\u001b[0;31m             nr=nr).add_file(file_object, content_type, filename)\n\u001b[0m\u001b[1;32m   2204\u001b[0m \u001b[0;34m\u001b[0m\u001b[0m\n\u001b[1;32m   2205\u001b[0m \u001b[0;31m# ---------------------------------------------------\u001b[0m\u001b[0;34m\u001b[0m\u001b[0;34m\u001b[0m\u001b[0m\n",
      "\u001b[0;32m/Users/chris/anaconda3/envs/py27/lib/python2.7/site-packages/mechanize/_form_controls.pyc\u001b[0m in \u001b[0;36mfind_control\u001b[0;34m(self, name, type, kind, id, predicate, nr, label)\u001b[0m\n\u001b[1;32m   2329\u001b[0m             raise ValueError(\n\u001b[1;32m   2330\u001b[0m                 \"at least one argument must be supplied to specify control\")\n\u001b[0;32m-> 2331\u001b[0;31m         \u001b[0;32mreturn\u001b[0m \u001b[0mself\u001b[0m\u001b[0;34m.\u001b[0m\u001b[0m_find_control\u001b[0m\u001b[0;34m(\u001b[0m\u001b[0mname\u001b[0m\u001b[0;34m,\u001b[0m \u001b[0mtype\u001b[0m\u001b[0;34m,\u001b[0m \u001b[0mkind\u001b[0m\u001b[0;34m,\u001b[0m \u001b[0mid\u001b[0m\u001b[0;34m,\u001b[0m \u001b[0mlabel\u001b[0m\u001b[0;34m,\u001b[0m \u001b[0mpredicate\u001b[0m\u001b[0;34m,\u001b[0m \u001b[0mnr\u001b[0m\u001b[0;34m)\u001b[0m\u001b[0;34m\u001b[0m\u001b[0m\n\u001b[0m\u001b[1;32m   2332\u001b[0m \u001b[0;34m\u001b[0m\u001b[0m\n\u001b[1;32m   2333\u001b[0m \u001b[0;31m# ---------------------------------------------------\u001b[0m\u001b[0;34m\u001b[0m\u001b[0;34m\u001b[0m\u001b[0m\n",
      "\u001b[0;32m/Users/chris/anaconda3/envs/py27/lib/python2.7/site-packages/mechanize/_form_controls.pyc\u001b[0m in \u001b[0;36m_find_control\u001b[0;34m(self, name, type, kind, id, label, predicate, nr)\u001b[0m\n\u001b[1;32m   2422\u001b[0m                                  description)\n\u001b[1;32m   2423\u001b[0m         \u001b[0;32melif\u001b[0m \u001b[0;32mnot\u001b[0m \u001b[0mfound\u001b[0m\u001b[0;34m:\u001b[0m\u001b[0;34m\u001b[0m\u001b[0m\n\u001b[0;32m-> 2424\u001b[0;31m             \u001b[0;32mraise\u001b[0m \u001b[0mControlNotFoundError\u001b[0m\u001b[0;34m(\u001b[0m\u001b[0;34m\"no control matching \"\u001b[0m \u001b[0;34m+\u001b[0m \u001b[0mdescription\u001b[0m\u001b[0;34m)\u001b[0m\u001b[0;34m\u001b[0m\u001b[0m\n\u001b[0m\u001b[1;32m   2425\u001b[0m         \u001b[0;32massert\u001b[0m \u001b[0mFalse\u001b[0m\u001b[0;34m\u001b[0m\u001b[0m\n\u001b[1;32m   2426\u001b[0m \u001b[0;34m\u001b[0m\u001b[0m\n",
      "\u001b[0;31mControlNotFoundError\u001b[0m: no control matching type 'file'"
     ]
    }
   ],
   "source": [
    "br.form.add_file(open(filename), 'text/plain', filename)"
   ]
  },
  {
   "cell_type": "code",
   "execution_count": null,
   "metadata": {
    "collapsed": true
   },
   "outputs": [],
   "source": [
    "filename = 's82_100_stars_test.txt' \n",
    "br.form.add_file(open(filename), 'text/plain', filename)\n",
    "br.form.set_all_readonly(False)\n",
    "br.form.fixup()\n",
    "\n",
    "# Submit it!\n",
    "response = br.submit()\n",
    "html = response.read()                           "
   ]
  },
  {
   "cell_type": "code",
   "execution_count": 70,
   "metadata": {},
   "outputs": [
    {
     "ename": "ControlNotFoundError",
     "evalue": "no control matching type 'file'",
     "output_type": "error",
     "traceback": [
      "\u001b[0;31m---------------------------------------------------------------------------\u001b[0m",
      "\u001b[0;31mControlNotFoundError\u001b[0m                      Traceback (most recent call last)",
      "\u001b[0;32m<ipython-input-70-2c0fcfaa5511>\u001b[0m in \u001b[0;36m<module>\u001b[0;34m()\u001b[0m\n\u001b[1;32m      3\u001b[0m \u001b[0mbr\u001b[0m\u001b[0;34m.\u001b[0m\u001b[0mselect_form\u001b[0m\u001b[0;34m(\u001b[0m\u001b[0mnr\u001b[0m\u001b[0;34m=\u001b[0m\u001b[0;36m0\u001b[0m\u001b[0;34m)\u001b[0m \u001b[0;31m# , method='POST', enctype='multipart/form-data')\u001b[0m\u001b[0;34m\u001b[0m\u001b[0m\n\u001b[1;32m      4\u001b[0m \u001b[0mfilename\u001b[0m \u001b[0;34m=\u001b[0m \u001b[0;34m's82_100_stars_test.txt'\u001b[0m\u001b[0;34m\u001b[0m\u001b[0m\n\u001b[0;32m----> 5\u001b[0;31m \u001b[0mbr\u001b[0m\u001b[0;34m.\u001b[0m\u001b[0mform\u001b[0m\u001b[0;34m.\u001b[0m\u001b[0madd_file\u001b[0m\u001b[0;34m(\u001b[0m\u001b[0mopen\u001b[0m\u001b[0;34m(\u001b[0m\u001b[0mfilename\u001b[0m\u001b[0;34m)\u001b[0m\u001b[0;34m,\u001b[0m \u001b[0;34m'text/plain'\u001b[0m\u001b[0;34m,\u001b[0m\u001b[0mfilename\u001b[0m\u001b[0;34m)\u001b[0m\u001b[0;34m\u001b[0m\u001b[0m\n\u001b[0m",
      "\u001b[0;32m/Users/chris/anaconda3/envs/py27/lib/python2.7/site-packages/mechanize/_form_controls.pyc\u001b[0m in \u001b[0;36madd_file\u001b[0;34m(self, file_object, content_type, filename, name, id, nr, label)\u001b[0m\n\u001b[1;32m   2201\u001b[0m         self.find_control(\n\u001b[1;32m   2202\u001b[0m             \u001b[0mname\u001b[0m\u001b[0;34m,\u001b[0m \u001b[0;34m\"file\"\u001b[0m\u001b[0;34m,\u001b[0m \u001b[0mid\u001b[0m\u001b[0;34m=\u001b[0m\u001b[0mid\u001b[0m\u001b[0;34m,\u001b[0m \u001b[0mlabel\u001b[0m\u001b[0;34m=\u001b[0m\u001b[0mlabel\u001b[0m\u001b[0;34m,\u001b[0m\u001b[0;34m\u001b[0m\u001b[0m\n\u001b[0;32m-> 2203\u001b[0;31m             nr=nr).add_file(file_object, content_type, filename)\n\u001b[0m\u001b[1;32m   2204\u001b[0m \u001b[0;34m\u001b[0m\u001b[0m\n\u001b[1;32m   2205\u001b[0m \u001b[0;31m# ---------------------------------------------------\u001b[0m\u001b[0;34m\u001b[0m\u001b[0;34m\u001b[0m\u001b[0m\n",
      "\u001b[0;32m/Users/chris/anaconda3/envs/py27/lib/python2.7/site-packages/mechanize/_form_controls.pyc\u001b[0m in \u001b[0;36mfind_control\u001b[0;34m(self, name, type, kind, id, predicate, nr, label)\u001b[0m\n\u001b[1;32m   2329\u001b[0m             raise ValueError(\n\u001b[1;32m   2330\u001b[0m                 \"at least one argument must be supplied to specify control\")\n\u001b[0;32m-> 2331\u001b[0;31m         \u001b[0;32mreturn\u001b[0m \u001b[0mself\u001b[0m\u001b[0;34m.\u001b[0m\u001b[0m_find_control\u001b[0m\u001b[0;34m(\u001b[0m\u001b[0mname\u001b[0m\u001b[0;34m,\u001b[0m \u001b[0mtype\u001b[0m\u001b[0;34m,\u001b[0m \u001b[0mkind\u001b[0m\u001b[0;34m,\u001b[0m \u001b[0mid\u001b[0m\u001b[0;34m,\u001b[0m \u001b[0mlabel\u001b[0m\u001b[0;34m,\u001b[0m \u001b[0mpredicate\u001b[0m\u001b[0;34m,\u001b[0m \u001b[0mnr\u001b[0m\u001b[0;34m)\u001b[0m\u001b[0;34m\u001b[0m\u001b[0m\n\u001b[0m\u001b[1;32m   2332\u001b[0m \u001b[0;34m\u001b[0m\u001b[0m\n\u001b[1;32m   2333\u001b[0m \u001b[0;31m# ---------------------------------------------------\u001b[0m\u001b[0;34m\u001b[0m\u001b[0;34m\u001b[0m\u001b[0m\n",
      "\u001b[0;32m/Users/chris/anaconda3/envs/py27/lib/python2.7/site-packages/mechanize/_form_controls.pyc\u001b[0m in \u001b[0;36m_find_control\u001b[0;34m(self, name, type, kind, id, label, predicate, nr)\u001b[0m\n\u001b[1;32m   2422\u001b[0m                                  description)\n\u001b[1;32m   2423\u001b[0m         \u001b[0;32melif\u001b[0m \u001b[0;32mnot\u001b[0m \u001b[0mfound\u001b[0m\u001b[0;34m:\u001b[0m\u001b[0;34m\u001b[0m\u001b[0m\n\u001b[0;32m-> 2424\u001b[0;31m             \u001b[0;32mraise\u001b[0m \u001b[0mControlNotFoundError\u001b[0m\u001b[0;34m(\u001b[0m\u001b[0;34m\"no control matching \"\u001b[0m \u001b[0;34m+\u001b[0m \u001b[0mdescription\u001b[0m\u001b[0;34m)\u001b[0m\u001b[0;34m\u001b[0m\u001b[0m\n\u001b[0m\u001b[1;32m   2425\u001b[0m         \u001b[0;32massert\u001b[0m \u001b[0mFalse\u001b[0m\u001b[0;34m\u001b[0m\u001b[0m\n\u001b[1;32m   2426\u001b[0m \u001b[0;34m\u001b[0m\u001b[0m\n",
      "\u001b[0;31mControlNotFoundError\u001b[0m: no control matching type 'file'"
     ]
    }
   ],
   "source": [
    "#on the site none of the forms have names, \n",
    "# so I have been using the index of the form to choose them\n",
    "br.select_form(nr=0) # , method='POST', enctype='multipart/form-data')\n",
    "filename = 's82_100_stars_test.txt' \n",
    "br.form.add_file(open(filename), 'text/plain',filename)"
   ]
  },
  {
   "cell_type": "code",
   "execution_count": 76,
   "metadata": {},
   "outputs": [
    {
     "name": "stdout",
     "output_type": "stream",
     "text": [
      "<response_seek_wrapper at 0x11fcf9908 whose wrapped object = <closeable_response at 0x11fcbe830 whose fp = <socket._fileobject object at 0x11fcac1d0>>>\n"
     ]
    }
   ],
   "source": [
    "browser.form.new_control('file', form_field_name, {'id':form_field_id})\n",
    "browser.form.new_control('submit', 'Button', {})\n",
    "browser.form.add_file(open(image_filename), 'image/jpeg', image_filename,\n",
    "id=form_field_id)\n",
    "browser.form.set_all_readonly(False)\n",
    "browser.form.fixup()\n",
    "\n",
    "# Submit it!\n",
    "response = browser.submit()\n",
    "html = response.read()"
   ]
  },
  {
   "cell_type": "code",
   "execution_count": 21,
   "metadata": {},
   "outputs": [],
   "source": [
    "time.sleep(1)"
   ]
  },
  {
   "cell_type": "code",
   "execution_count": 23,
   "metadata": {},
   "outputs": [
    {
     "name": "stdout",
     "output_type": "stream",
     "text": [
      "Date: Mon, 29 Oct 2018 23:14:03 GMT\r\n",
      "Server: Apache/2.2.3 (Red Hat)\r\n",
      "Connection: close\r\n",
      "Transfer-Encoding: chunked\r\n",
      "Content-Type: text/html; charset=ISO-8859-1\r\n",
      "cache-control: no-cache\n",
      "content-type: text/html; charset=iso-8859-1\n",
      "\n",
      "<!DOCTYPE html\n",
      "\tPUBLIC \"-//W3C//DTD XHTML 1.0 Transitional//EN\"\n",
      "\t \"http://www.w3.org/TR/xhtml1/DTD/xhtml1-transitional.dtd\">\n",
      "<html xmlns=\"http://www.w3.org/1999/xhtml\" lang=\"en-US\" xml:lang=\"en-US\">\n",
      "<head>\n",
      "<title>Positional MulitCone Search</title>\n",
      "<META HTTP-EQUIV=\"CACHE-CONTROL\" CONTENT=\"NO-CACHE\">\n",
      "<link rel=\"stylesheet\" type=\"text/css\" href=\"/DataRelease/main-v3.css\" />\n",
      "<meta http-equiv=\"Content-Type\" content=\"text/html; charset=iso-8859-1\" />\n",
      "</head>\n",
      "<body link=\"#E1E10\" alink=\"#ffff00\" vlink=\"#00ffff\" bgcolor=\"#00004f\" text=\"#000000\" charset=\"utf-7\">\n",
      "<div class=\"wrapper\">\n",
      "<table width=\"100%\" border=0 bgcolor=\"#00007f\"><tr><td valign=\"center\">\n",
      "<div align=left><a href=\"http://www.lpl.arizona.edu/css/\"><img src=/DataRelease/csslogo2_ss.jpg></a></div>\n",
      "<td><font size=6 color=white> The Catalina Surveys</font><td valign=\"top\">\n",
      "<div align=right><a href=\"http://crts.caltech.edu\"><img src=/DataRelease/CRTS_top.s.gif></a></div></tr></table>\n",
      "<center><p>\n",
      "<H3>Multi-Object Search Service</H3><table border=0 width=500 bgcolor=\"#c0c0c0\" cellpadding=5 cellspacing=0>\n",
      "<form method=\"post\" action=\"/cgi-bin/getmulticonedb_release2.cgi\" enctype=\"multipart/form-data\">\n",
      "\n",
      "<tr>\n",
      "<td align=\"right\">\n",
      "Upload file:\n",
      "</td>\n",
      "<td>\n",
      "<input type=\"file\" name=\"upload_file\"  size=\"30\" maxlength=\"80\" /></td>\n",
      "</tr>\n",
      "<tr><td></td><td><a href=http://catalinadata.org/multicone.html>file format:</a> ID RA Dec (decimal degrees) [limit 100 locations]<td></tr>\n",
      "<tr>\n",
      "<td align=\"right\">\n",
      "Radius:\n",
      "</td>\n",
      "<td>\n",
      "<input type=\"text\" name=\"Rad\"  size=\"6\" maxlength=\"10\" 0.002 /> (deg < 0.02, default=0.002)</td>\n",
      "</tr>\n",
      "<tr>\n",
      "<td align=\"right\">\n",
      "Database:\n",
      "</td>\n",
      "<td>\n",
      "<label><input type=\"checkbox\" name=\"DB\" value=\"photcat\" checked=\"checked\" />photcat</label><label><input type=\"checkbox\" name=\"DB\" value=\"orphancat\" />orphancat</label></td>\n",
      "</tr>\n",
      "</table><table width=500 border=0 bgcolor=\"#c0c0c0\" cellpadding=5 cellspacing=0><tr><td><tr>\n",
      "<td colspan=2 align=\"center\">\n",
      "<hr noshade size=1>\n",
      "<input type=\"submit\" name=\".submit\" value=\"Submit\" onclick=\"return ValidateAllFields(this.form);\" />\n",
      "</td>\n",
      "</tr>\n",
      "</table>\n",
      "<a onclick=\"document.getElementById('div_name').style.display='';return false;\"href=\"\" style=\"text-decoration:none;border-bottom:1px dotted blue;\">Advanced parameters</a><br>\n",
      "<div id=\"div_name\" style=\"display:none;margin:5px 15px 0px 15px;padding:5px;border:0px solid #aaa;\"><table width=500 border=0 bgcolor=\"#c0c0c0\" cellpadding=5 cellspacing=0><tr><td><tr>\n",
      "<td align=\"right\">\n",
      "Output:\n",
      "</td>\n",
      "<td>\n",
      "<label><input type=\"radio\" name=\"OUT\" value=\"web\" />HTML</label><br /><label><input type=\"radio\" name=\"OUT\" value=\"csv\" checked=\"checked\" />ASCII</label><br /></td>\n",
      "<td align=\"right\">\n",
      "Format:\n",
      "</td>\n",
      "<td align=\"left\">\n",
      "<label><input type=\"radio\" name=\"SHORT\" value=\"short\" checked=\"checked\" />short</label><br /><label><input type=\"radio\" name=\"SHORT\" value=\"long\" />long</label><br /></td></tr><tr>\n",
      "<td align=\"right\">\n",
      "Processing:\n",
      "</td>\n",
      "<td align=\"left\">\n",
      "<label><input type=\"checkbox\" name=\"VERB\" value=\"verbose\" checked=\"checked\" />verbose</label></td>\n",
      "</tr>\n",
      "</table>\n",
      "<div><input type=\"hidden\" name=\".cgifields\" value=\"DB\"  /></div></form>\n",
      "<a onclick=\"document.getElementById('div_name').style.display='none';return false;\" href=\"\"\n",
      "style=\"text-decoration:none;border-bottom:1px dotted blue;\">hide</a>\n",
      "</div>\n",
      "<p><font color=white>Details of the data and service <a href=\"http://nesssi.cacr.caltech.edu/DataRelease/usage_multicone.html\">usage</a>.<br></font></center>\n",
      "<div class=\"push\"></div>\n",
      "</div>\n",
      "<div class=\"footer\">\n",
      "<img src=/DataRelease/lpl_logo.gif width=70 height=80><img src=../DataRelease/nsf1.gif width=80 height=80><img src=/DataRelease/tinycitlogo.gif width=80 height=80>\n",
      "</div>\n"
     ]
    }
   ],
   "source": [
    "print resp.info()  # headers\n",
    "print resp.read()  # contents "
   ]
  },
  {
   "cell_type": "code",
   "execution_count": 3,
   "metadata": {},
   "outputs": [],
   "source": [
    "# Read in the S82 catalog...\n",
    "a1 = '../../CRTS_PROJECT/catalogs_SDSS/stripe82calibStars_v2.6.dat'\n",
    "colnames = ['col1', 'RA','Dec','RArms','Decrms','Ntot','Ar', \n",
    "'uNobs','umed', 'ummu', 'umsig', 'umrms', 'umchi2',\n",
    "'gNobs','gmed', 'gmmu', 'gmsig', 'gmrms', 'gmchi2',\n",
    "'rNobs','rmed', 'rmmu', 'rmsig', 'rmrms', 'rmchi2',\n",
    "'iNobs','imed', 'immu', 'imsig', 'imrms', 'imchi2',\n",
    "'zNobs','zmed', 'zmmu', 'zmsig', 'zmrms', 'zmchi2']\n",
    "\n",
    "s82 = Table.read(a1, format='ascii', names=colnames)"
   ]
  },
  {
   "cell_type": "code",
   "execution_count": 6,
   "metadata": {},
   "outputs": [],
   "source": [
    "s82['id'] = np.arange(len(s82))"
   ]
  },
  {
   "cell_type": "code",
   "execution_count": 13,
   "metadata": {},
   "outputs": [],
   "source": [
    "# choose at random a subset of 100 000 stars ...\n",
    "idx = np.random.choice(s82['id'].data, size=100000, replace = False)\n",
    "# without replacement, so that len(np.unique(idx)) == 100 000 \n",
    "subset = s82[idx]\n"
   ]
  },
  {
   "cell_type": "code",
   "execution_count": 17,
   "metadata": {
    "collapsed": true
   },
   "outputs": [],
   "source": [
    "plt.hexbin?"
   ]
  },
  {
   "cell_type": "code",
   "execution_count": 21,
   "metadata": {},
   "outputs": [
    {
     "data": {
      "text/plain": [
       "<matplotlib.text.Text at 0x11ec82f50>"
      ]
     },
     "execution_count": 21,
     "metadata": {},
     "output_type": "execute_result"
    },
    {
     "data": {
      "image/png": "[encoded data removed]",
      "text/plain": [
       "<matplotlib.figure.Figure at 0x11e9d5cd0>"
      ]
     },
     "metadata": {},
     "output_type": "display_data"
    }
   ],
   "source": [
    "%matplotlib inline\n",
    "plt.hexbin(subset['gmed'] - subset['rmed'] , \n",
    "           subset['rmed'] - subset['imed'],\n",
    "          extent = (0.0, 1.7, -0.5, 2.0),\n",
    "          bins = 'log')\n",
    "plt.xlabel('g-r')\n",
    "plt.ylabel('r-i')"
   ]
  },
  {
   "cell_type": "markdown",
   "metadata": {},
   "source": [
    "Looks good! Shows I'm not selecting anything special... "
   ]
  },
  {
   "cell_type": "code",
   "execution_count": null,
   "metadata": {
    "collapsed": true
   },
   "outputs": [],
   "source": [
    "# Make a short list of stars ...\n",
    "address = '../../CRTS_PROJECT/data_products/CRTS_SDSS_combined_stars_catalog.dat'\n",
    "s82_stars = Table.read(address, format='ascii')"
   ]
  },
  {
   "cell_type": "code",
   "execution_count": 34,
   "metadata": {},
   "outputs": [],
   "source": [
    "subset.meta.clear()"
   ]
  },
  {
   "cell_type": "code",
   "execution_count": 38,
   "metadata": {},
   "outputs": [],
   "source": [
    "Table.write?"
   ]
  },
  {
   "cell_type": "code",
   "execution_count": 39,
   "metadata": {},
   "outputs": [],
   "source": [
    "subset['id', 'RA', 'Dec'][:100].write('s82_100_stars_test.txt', format='ascii.no_header',\n",
    "                                     overwrite=True)"
   ]
  },
  {
   "cell_type": "code",
   "execution_count": 44,
   "metadata": {},
   "outputs": [
    {
     "ename": "ControlNotFoundError",
     "evalue": "no control matching name 'upload_file'",
     "output_type": "error",
     "traceback": [
      "\u001b[0;31m---------------------------------------------------------------------------\u001b[0m",
      "\u001b[0;31mControlNotFoundError\u001b[0m                      Traceback (most recent call last)",
      "\u001b[0;32m<ipython-input-44-9d903308a667>\u001b[0m in \u001b[0;36m<module>\u001b[0;34m()\u001b[0m\n\u001b[0;32m----> 1\u001b[0;31m \u001b[0mbr\u001b[0m\u001b[0;34m[\u001b[0m\u001b[0;34m'upload_file'\u001b[0m\u001b[0;34m]\u001b[0m \u001b[0;34m=\u001b[0m \u001b[0;34m's82_100_stars_test.txt'\u001b[0m\u001b[0;34m\u001b[0m\u001b[0m\n\u001b[0m",
      "\u001b[0;32m/Users/chris/anaconda3/envs/py27/lib/python2.7/site-packages/mechanize/_form_controls.pyc\u001b[0m in \u001b[0;36m__setitem__\u001b[0;34m(self, name, value)\u001b[0m\n\u001b[1;32m   1943\u001b[0m \u001b[0;34m\u001b[0m\u001b[0m\n\u001b[1;32m   1944\u001b[0m     \u001b[0;32mdef\u001b[0m \u001b[0m__setitem__\u001b[0m\u001b[0;34m(\u001b[0m\u001b[0mself\u001b[0m\u001b[0;34m,\u001b[0m \u001b[0mname\u001b[0m\u001b[0;34m,\u001b[0m \u001b[0mvalue\u001b[0m\u001b[0;34m)\u001b[0m\u001b[0;34m:\u001b[0m\u001b[0;34m\u001b[0m\u001b[0m\n\u001b[0;32m-> 1945\u001b[0;31m         \u001b[0mcontrol\u001b[0m \u001b[0;34m=\u001b[0m \u001b[0mself\u001b[0m\u001b[0;34m.\u001b[0m\u001b[0mfind_control\u001b[0m\u001b[0;34m(\u001b[0m\u001b[0mname\u001b[0m\u001b[0;34m)\u001b[0m\u001b[0;34m\u001b[0m\u001b[0m\n\u001b[0m\u001b[1;32m   1946\u001b[0m         \u001b[0;32mtry\u001b[0m\u001b[0;34m:\u001b[0m\u001b[0;34m\u001b[0m\u001b[0m\n\u001b[1;32m   1947\u001b[0m             \u001b[0mcontrol\u001b[0m\u001b[0;34m.\u001b[0m\u001b[0mvalue\u001b[0m \u001b[0;34m=\u001b[0m \u001b[0mvalue\u001b[0m\u001b[0;34m\u001b[0m\u001b[0m\n",
      "\u001b[0;32m/Users/chris/anaconda3/envs/py27/lib/python2.7/site-packages/mechanize/_form_controls.pyc\u001b[0m in \u001b[0;36mfind_control\u001b[0;34m(self, name, type, kind, id, predicate, nr, label)\u001b[0m\n\u001b[1;32m   2329\u001b[0m             raise ValueError(\n\u001b[1;32m   2330\u001b[0m                 \"at least one argument must be supplied to specify control\")\n\u001b[0;32m-> 2331\u001b[0;31m         \u001b[0;32mreturn\u001b[0m \u001b[0mself\u001b[0m\u001b[0;34m.\u001b[0m\u001b[0m_find_control\u001b[0m\u001b[0;34m(\u001b[0m\u001b[0mname\u001b[0m\u001b[0;34m,\u001b[0m \u001b[0mtype\u001b[0m\u001b[0;34m,\u001b[0m \u001b[0mkind\u001b[0m\u001b[0;34m,\u001b[0m \u001b[0mid\u001b[0m\u001b[0;34m,\u001b[0m \u001b[0mlabel\u001b[0m\u001b[0;34m,\u001b[0m \u001b[0mpredicate\u001b[0m\u001b[0;34m,\u001b[0m \u001b[0mnr\u001b[0m\u001b[0;34m)\u001b[0m\u001b[0;34m\u001b[0m\u001b[0m\n\u001b[0m\u001b[1;32m   2332\u001b[0m \u001b[0;34m\u001b[0m\u001b[0m\n\u001b[1;32m   2333\u001b[0m \u001b[0;31m# ---------------------------------------------------\u001b[0m\u001b[0;34m\u001b[0m\u001b[0;34m\u001b[0m\u001b[0m\n",
      "\u001b[0;32m/Users/chris/anaconda3/envs/py27/lib/python2.7/site-packages/mechanize/_form_controls.pyc\u001b[0m in \u001b[0;36m_find_control\u001b[0;34m(self, name, type, kind, id, label, predicate, nr)\u001b[0m\n\u001b[1;32m   2422\u001b[0m                                  description)\n\u001b[1;32m   2423\u001b[0m         \u001b[0;32melif\u001b[0m \u001b[0;32mnot\u001b[0m \u001b[0mfound\u001b[0m\u001b[0;34m:\u001b[0m\u001b[0;34m\u001b[0m\u001b[0m\n\u001b[0;32m-> 2424\u001b[0;31m             \u001b[0;32mraise\u001b[0m \u001b[0mControlNotFoundError\u001b[0m\u001b[0;34m(\u001b[0m\u001b[0;34m\"no control matching \"\u001b[0m \u001b[0;34m+\u001b[0m \u001b[0mdescription\u001b[0m\u001b[0;34m)\u001b[0m\u001b[0;34m\u001b[0m\u001b[0m\n\u001b[0m\u001b[1;32m   2425\u001b[0m         \u001b[0;32massert\u001b[0m \u001b[0mFalse\u001b[0m\u001b[0;34m\u001b[0m\u001b[0m\n\u001b[1;32m   2426\u001b[0m \u001b[0;34m\u001b[0m\u001b[0m\n",
      "\u001b[0;31mControlNotFoundError\u001b[0m: no control matching name 'upload_file'"
     ]
    }
   ],
   "source": [
    "br['upload_file'] = 's82_100_stars_test.txt'"
   ]
  },
  {
   "cell_type": "code",
   "execution_count": 45,
   "metadata": {},
   "outputs": [
    {
     "name": "stdout",
     "output_type": "stream",
     "text": [
      "Form name: None\n",
      "<post http://nesssi.cacr.caltech.edu/cgi-bin/getmulticonedb_release2.cgi multipart/form-data>\n"
     ]
    }
   ],
   "source": [
    "for form in br.forms():                                                   \n",
    "    print \"Form name:\", form.name                                         \n",
    "    print form"
   ]
  },
  {
   "cell_type": "code",
   "execution_count": null,
   "metadata": {
    "collapsed": true
   },
   "outputs": [],
   "source": []
  }
 ],
 "metadata": {
  "kernelspec": {
   "display_name": "Python 2",
   "language": "python",
   "name": "python2"
  },
  "language_info": {
   "codemirror_mode": {
    "name": "ipython",
    "version": 2
   },
   "file_extension": ".py",
   "mimetype": "text/x-python",
   "name": "python",
   "nbconvert_exporter": "python",
   "pygments_lexer": "ipython2",
   "version": "2.7.13"
  }
 },
 "nbformat": 4,
 "nbformat_minor": 2
}
