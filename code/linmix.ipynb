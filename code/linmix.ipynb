{
 "cells": [
  {
   "cell_type": "code",
   "execution_count": 1,
   "metadata": {
    "collapsed": true
   },
   "outputs": [],
   "source": [
    "import matplotlib.pyplot as plt\n",
    "import numpy as np\n",
    "import linmix\n",
    "np.random.seed(2)"
   ]
  },
  {
   "cell_type": "code",
   "execution_count": 2,
   "metadata": {},
   "outputs": [
    {
     "data": {
      "image/png": "[encoded data removed]",
      "text/plain": [
       "<matplotlib.figure.Figure at 0x10d35aac8>"
      ]
     },
     "metadata": {},
     "output_type": "display_data"
    }
   ],
   "source": [
    "def pxi(xi):\n",
    "    return np.exp(xi) * (1.0 + np.exp(2.75*xi))**(-1)\n",
    "fig = plt.figure()\n",
    "ax = fig.add_subplot(111)\n",
    "x = np.arange(-5,5, 0.01)\n",
    "ax.plot(x, pxi(x))\n",
    "ax.set_xlabel(r\"$\\xi$\")\n",
    "ax.set_ylabel(r\"$P(\\xi)$\")\n",
    "plt.show()"
   ]
  },
  {
   "cell_type": "markdown",
   "metadata": {},
   "source": [
    "The maximum density is a little below 0.55, so we can use that.  To draw samples from\n",
    "$\\mathrm{Pr}(\\xi)$, we first propose a value $\\xi_i$ uniformly between -10 and +10\n",
    "(it's okay if we clip the tails for this example), and then keep that proposal if\n",
    "$\\mathrm{Pr}(\\xi_i) > u$ where $u$ is drawn uniformly between 0 and 0.55.  If\n",
    "$\\mathrm{Pr}(\\xi_i) < u$, then we propose a new value for $\\xi_i$.  Here's code to\n",
    "draw 100 samples from $\\mathrm{Pr}(\\xi)$::"
   ]
  },
  {
   "cell_type": "code",
   "execution_count": 3,
   "metadata": {
    "collapsed": true
   },
   "outputs": [],
   "source": [
    "def rejection_sample(p, pmax, prop, size):\n",
    "    out=[]\n",
    "    for s in range(size):\n",
    "        x = prop()\n",
    "        px = p(x)\n",
    "        pu = np.random.uniform(low=0.0, high=pmax)\n",
    "        while px < pu:\n",
    "            x = prop()\n",
    "            px = p(x)\n",
    "            pu = np.random.uniform(low=0.0, high=pmax)\n",
    "        out.append(x)\n",
    "    return np.array(out)\n",
    "pmax = 0.55 # max p(xi) determined by eye\n",
    "prop = lambda : np.random.uniform(low=-10, high=10) # truncating range to (-10, 10)\n",
    "xi = rejection_sample(pxi, pmax, prop, size=100)\n"
   ]
  },
  {
   "cell_type": "code",
   "execution_count": null,
   "metadata": {
    "collapsed": true
   },
   "outputs": [],
   "source": []
  }
 ],
 "metadata": {
  "kernelspec": {
   "display_name": "Python 3",
   "language": "python",
   "name": "python3"
  },
  "language_info": {
   "codemirror_mode": {
    "name": "ipython",
    "version": 3
   },
   "file_extension": ".py",
   "mimetype": "text/x-python",
   "name": "python",
   "nbconvert_exporter": "python",
   "pygments_lexer": "ipython3",
   "version": "3.6.2"
  }
 },
 "nbformat": 4,
 "nbformat_minor": 2
}
