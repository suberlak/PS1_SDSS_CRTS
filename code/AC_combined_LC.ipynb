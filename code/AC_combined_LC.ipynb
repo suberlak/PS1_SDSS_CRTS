{
 "cells": [
  {
   "cell_type": "markdown",
   "metadata": {},
   "source": [
    "AC_combined_LC\n",
    "\n",
    "* combining :\n",
    "  * SDSS(r),  \n",
    "  * PTF(g,R) -- SDSS(g-i) --> SDSS(r,synth) \n",
    "  * PS1(g,r,i) -- SDSS(g-i) --> SDSS(r,synth)\n",
    "  * CRTS(V) -- SDSS(g-i) --> SDSS(r,synth)\n",
    "  \n",
    "using offsets from `AC_SDSS-PS1_offsets.ipynb`,   `AC_SDSS-PTF_offsets.ipynb`, derived with SDSS standard stars cross matched to the relevant surveys . "
   ]
  },
  {
   "cell_type": "code",
   "execution_count": 1,
   "metadata": {
    "collapsed": true
   },
   "outputs": [],
   "source": [
    "import numpy as np\n",
    "import matplotlib.pyplot as plt \n",
    "import os\n",
    "import pandas as pd \n",
    "from astropy.table import Table\n",
    "from astropy.coordinates import SkyCoord\n",
    "from astropy import units as u\n",
    "from astropy.table import  hstack\n",
    "from astropy.table import  vstack\n",
    "from astropy.table import Column\n",
    "from astropy.table import join\n",
    "import celerite\n",
    "import modules as mod\n",
    "from matplotlib import rcParams \n",
    "rcParams['ytick.labelsize'] = 15\n",
    "rcParams['xtick.labelsize'] = 15\n",
    "rcParams['axes.labelsize'] = 20\n",
    "rcParams['axes.linewidth'] = 2\n",
    "rcParams['font.size'] = 15\n",
    "rcParams['axes.titlesize'] = 18\n",
    "\n",
    "#outDir = '../data_products/SDSS-PTF-CRTS-PS1_/'\n",
    "#done_lcs = os.listdir(outDir)\n",
    "#done_lcs.remove('.DS_Store')"
   ]
  },
  {
   "cell_type": "code",
   "execution_count": 2,
   "metadata": {},
   "outputs": [
    {
     "ename": "NameError",
     "evalue": "name 'Offsets_CRTSV' is not defined",
     "output_type": "error",
     "traceback": [
      "\u001b[0;31m---------------------------------------------------------------------------\u001b[0m",
      "\u001b[0;31mNameError\u001b[0m                                 Traceback (most recent call last)",
      "\u001b[0;32m<ipython-input-2-5c0e8f607f5d>\u001b[0m in \u001b[0;36m<module>\u001b[0;34m()\u001b[0m\n\u001b[0;32m----> 1\u001b[0;31m \u001b[0mOffsets_CRTSV\u001b[0m\u001b[0;34m-\u001b[0m\u001b[0mSDSSr_SDSSgi_ext\u001b[0m\u001b[0;34m-\u001b[0m\u001b[0mNO\u001b[0m\u001b[0;34m.\u001b[0m\u001b[0mtxt\u001b[0m\u001b[0;34m\u001b[0m\u001b[0m\n\u001b[0m\u001b[1;32m      2\u001b[0m \u001b[0mOffsets_PTFR\u001b[0m\u001b[0;34m-\u001b[0m\u001b[0mSDSSr_SDSSgi_ext\u001b[0m\u001b[0;34m-\u001b[0m\u001b[0mNO\u001b[0m\u001b[0;34m.\u001b[0m\u001b[0mpng\u001b[0m\u001b[0;34m\u001b[0m\u001b[0m\n\u001b[1;32m      3\u001b[0m \u001b[0mOffsets_PTFg\u001b[0m\u001b[0;34m-\u001b[0m\u001b[0mSDSSr_SDSSgi_ext\u001b[0m\u001b[0;34m-\u001b[0m\u001b[0mNO\u001b[0m\u001b[0;34m.\u001b[0m\u001b[0mtxt\u001b[0m\u001b[0;34m\u001b[0m\u001b[0m\n\u001b[1;32m      4\u001b[0m \u001b[0mOffsets_PS1\u001b[0m\u001b[0;34m-\u001b[0m\u001b[0mSDSSr_SDSSgi_ext\u001b[0m\u001b[0;34m-\u001b[0m\u001b[0mNO\u001b[0m\u001b[0;34m.\u001b[0m\u001b[0mtxt\u001b[0m\u001b[0;34m\u001b[0m\u001b[0m\n",
      "\u001b[0;31mNameError\u001b[0m: name 'Offsets_CRTSV' is not defined"
     ]
    }
   ],
   "source": [
    "Offsets_CRTSV-SDSSr_SDSSgi_ext-NO.txt\n",
    "Offsets_PTFR-SDSSr_SDSSgi_ext-NO.png\n",
    "Offsets_PTFg-SDSSr_SDSSgi_ext-NO.txt\n",
    "Offsets_PS1-SDSSr_SDSSgi_ext-NO.txt    "
   ]
  },
  {
   "cell_type": "code",
   "execution_count": null,
   "metadata": {
    "collapsed": true
   },
   "outputs": [],
   "source": [
    "\n"
   ]
  }
 ],
 "metadata": {
  "kernelspec": {
   "display_name": "Python 3",
   "language": "python",
   "name": "python3"
  },
  "language_info": {
   "codemirror_mode": {
    "name": "ipython",
    "version": 3
   },
   "file_extension": ".py",
   "mimetype": "text/x-python",
   "name": "python",
   "nbconvert_exporter": "python",
   "pygments_lexer": "ipython3",
   "version": "3.6.2"
  }
 },
 "nbformat": 4,
 "nbformat_minor": 2
}
