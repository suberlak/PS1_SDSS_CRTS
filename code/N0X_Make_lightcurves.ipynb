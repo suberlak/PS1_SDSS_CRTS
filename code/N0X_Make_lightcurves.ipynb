{
 "cells": [
  {
   "cell_type": "markdown",
   "metadata": {},
   "source": [
    "# NOX_Make_lightcurves"
   ]
  },
  {
   "cell_type": "markdown",
   "metadata": {},
   "source": [
    "A notebook to simulate light curves used to reproduce Kozlowski's Fig.2 , taking the code from `N0_Kozlowski_Fig2_Calculate`... \n",
    "\n",
    "Some light curves were made in  `/180404_light_curves/`\n",
    "\n",
    "Another set (changing the `replace=True` to `replace=False` in \n",
    "             `np.random.choice(x, size=60, replace=False`))\n",
    "was made in `/180713_light_curves_NEW/`\n",
    "\n",
    "\n",
    "Saving to `/190208_light_curves/`\n"
   ]
  },
  {
   "cell_type": "code",
   "execution_count": 1,
   "metadata": {
    "collapsed": true
   },
   "outputs": [],
   "source": [
    "import numpy as np \n",
    "import matplotlib.pyplot as plt\n",
    "from matplotlib import rcParams \n",
    "from astropy.table import Table\n",
    "import modules as mod\n",
    "import os "
   ]
  },
  {
   "cell_type": "markdown",
   "metadata": {},
   "source": [
    "**a)** Simulate 100 light curves per $\\tau$, with 100 values of $\\tau$, given $t_{exp} = 8$ years, $SF_{\\infty}=0.2$, select either N=60 or N=445 points  ( number of points sets $\\Delta t$), sampling of SDSS QSO, or random for OGLE. Fit with the adaptative grid method, 60x60"
   ]
  },
  {
   "cell_type": "markdown",
   "metadata": {},
   "source": [
    "## Simulate cadence of SDSS (N=60 pts) and OGLE (N=445 points) over 8 years "
   ]
  },
  {
   "cell_type": "code",
   "execution_count": 2,
   "metadata": {},
   "outputs": [
    {
     "name": "stdout",
     "output_type": "stream",
     "text": [
      "60 60\n",
      "445 445\n"
     ]
    },
    {
     "data": {
      "image/png": "[encoded data removed]",
      "text/plain": [
       "<matplotlib.figure.Figure at 0x110121080>"
      ]
     },
     "metadata": {},
     "output_type": "display_data"
    },
    {
     "data": {
      "image/png": "[encoded data removed]",
      "text/plain": [
       "<matplotlib.figure.Figure at 0x110121780>"
      ]
     },
     "metadata": {},
     "output_type": "display_data"
    }
   ],
   "source": [
    "%matplotlib inline\n",
    "# this has only names of QSOs...\n",
    "#sdss_qso = fetch_dr7_quasar()\n",
    "\n",
    "# the light curves are here \n",
    "# The S82 QSO light curves \n",
    "# http://faculty.washington.edu/ivezic/macleod/qso_dr7/Southern.html\n",
    "\n",
    "# grab SDSS sampling from a random light curve ...\n",
    "sdss = Table.read('../raw_data/SDSS_QSO/1000679', format='ascii')\n",
    "sdss_times = sdss['col1'][1:]\n",
    "sdss_times = sdss_times - min(sdss_times) # start from 0 \n",
    "\n",
    "# add to the end of the light curve the same \n",
    "t = np.array(sdss_times) \n",
    "t = np.append(t, t[-1]+t[1:])\n",
    "\n",
    "# select points up to 8 years \n",
    "m = t/365 < 8.5 \n",
    "\n",
    "# select randomly 60 points\n",
    "\n",
    "# np.random.randint(low=0, high=len(t[m]), size=60)\n",
    "# NOTE:  can't use that -->  it has repetitions!!! \n",
    "# I had no idea ... better use np.random.choice(replace=False) \n",
    "# \n",
    "x  = np.arange(0, len(t[m]))\n",
    "random_indices= np.sort(np.random.choice(x, size=60, replace=False))\n",
    "t60 = np.sort(t[m][random_indices])\n",
    "print(len(np.unique(t60)), len(t60))\n",
    "\n",
    "\n",
    "# illustrate original points\n",
    "fig,ax = plt.subplots(2,1,figsize=(8,8))\n",
    "for l in t[m]:\n",
    "    ax[0].axvline(l/365)\n",
    "ax[0].set_title('SDSS Original, N='+ str(len(t[m])))\n",
    "# choose 60 random points from that light curve\n",
    "# selecting 60 indices \n",
    "\n",
    "# sort by time \n",
    "for l in t60:\n",
    "    ax[1].axvline(l/365)\n",
    "ax[1].set_title('SDSS Downsampled, N='+ str(len(t60)))\n",
    "ax[1].set_xlabel('years')\n",
    "\n",
    "# try to reproduce OGLE sampling by simply taking \n",
    "# random samples without repetition\n",
    "# from a uniform distribution\n",
    "\n",
    "#t445 = np.sort(np.random.randint(low=0, high=8*365, size=445))\n",
    "# can't use random.randint - it contains repeated times! \n",
    "\n",
    "# instead make a super well-sampled true, \n",
    "# and sample at random places \n",
    "# to return array of desired length\n",
    "length = 8*365 # 8 years in days \n",
    "a = np.linspace(0,length, 10000)\n",
    "t445 = np.sort(np.random.choice(a, size=445, replace=False))\n",
    "print(len(t445), len(np.unique(t445)))\n",
    "\n",
    "fig,ax = plt.subplots(1,1,figsize=(8,4))\n",
    "for l in t445 : \n",
    "    ax.axvline(l/365.)\n",
    "ax.set_title('OGLE N=445, 8 years, random sampling')\n",
    "\n",
    "\n",
    "# Since I am using random indices in both cases,\n",
    "# store them given that I sample all light curves at\n",
    "# these times !!!\n",
    "np.savetxt('t_OGLE_update.txt', t445)\n",
    "np.savetxt('t_SDSS_update.txt', t60)"
   ]
  },
  {
   "cell_type": "markdown",
   "metadata": {},
   "source": [
    "## Simulate 10 000 light curves "
   ]
  },
  {
   "cell_type": "markdown",
   "metadata": {},
   "source": [
    "For SDSS, we use the sampling above:  8 years, with N=60 points. For OGLE we use 8 years, N=445, random sampling. We use the same sampling 10 000 times, with 100 light curves simulated per input $\\tau$, over 100 values of $\\tau$ between :"
   ]
  },
  {
   "cell_type": "code",
   "execution_count": 3,
   "metadata": {},
   "outputs": [
    {
     "name": "stdout",
     "output_type": "stream",
     "text": [
      " 2.92 < tau_in < 43800.00  [days]\n"
     ]
    }
   ],
   "source": [
    "t_exp = 8 * 365 # days \n",
    "rho_in = np.array([0.001, 15])\n",
    "tau_in = rho_in * t_exp\n",
    "print(' %.2f < tau_in < %.2f  [days]'% (tau_in[0], tau_in[1]))"
   ]
  },
  {
   "cell_type": "code",
   "execution_count": 4,
   "metadata": {},
   "outputs": [
    {
     "name": "stdout",
     "output_type": "stream",
     "text": [
      "Input  SF_inf: 0.2 sigma: 0.141421356237\n",
      "OGLE\n",
      "0\n",
      "10\n",
      "20\n",
      "30\n",
      "40\n",
      "50\n",
      "60\n",
      "70\n",
      "80\n",
      "90\n",
      "SDSS\n",
      "0\n",
      "10\n",
      "20\n",
      "30\n",
      "40\n",
      "50\n",
      "60\n",
      "70\n",
      "80\n",
      "90\n",
      "Done\n"
     ]
    }
   ],
   "source": [
    "\n",
    "SF_inf = 0.2 # mag \n",
    "t_exp = 8 * 365.0 # in days \n",
    "rho_min, rho_max,  n_rho = 0.001, 15, 100\n",
    "rho_grid = np.logspace(np.log10(rho_min), np.log10(rho_max), n_rho)\n",
    "sigma = SF_inf / np.sqrt(2)\n",
    "print('Input  SF_inf:', SF_inf, 'sigma:', sigma)\n",
    "\n",
    "for simulation in ['OGLE', 'SDSS'] : \n",
    "    print(simulation)\n",
    "    if simulation is 'SDSS' : \n",
    "        t = np.loadtxt('t_SDSS_update.txt')\n",
    "    if simulation is 'OGLE':\n",
    "        t = np.loadtxt('t_OGLE_update.txt')\n",
    "    outDir = '../data_products/Simulated_DRW_Kozlowski/'+simulation+\\\n",
    "    '/190208_light_curves/'\n",
    "    if not os.path.exists(outDir):\n",
    "        os.makedirs(outDir)\n",
    "        \n",
    "    for i,rho_in in enumerate(rho_grid) : \n",
    "        tau_in = rho_in * t_exp\n",
    "        if i % 10 == 0 :  print(i)\n",
    "        # for each rho, simulate 100 light curves \n",
    "        for j in range(100):\n",
    "            y = mod.sim_DRW_lightcurve(t, SF_inf, tau_in , 0)\n",
    "            name = 'DRW_rho-' + str(i).zfill(3)+'_'+str(j).zfill(3)+'.txt'\n",
    "            # store the ideal underlying light curve,\n",
    "            # no photometric uncertainty \n",
    "            np.savetxt(outDir+name,y, fmt = ' %.7f ')            \n",
    "print('Done')"
   ]
  },
  {
   "cell_type": "code",
   "execution_count": null,
   "metadata": {
    "collapsed": true
   },
   "outputs": [],
   "source": []
  }
 ],
 "metadata": {
  "kernelspec": {
   "display_name": "Python 3",
   "language": "python",
   "name": "python3"
  },
  "language_info": {
   "codemirror_mode": {
    "name": "ipython",
    "version": 3
   },
   "file_extension": ".py",
   "mimetype": "text/x-python",
   "name": "python",
   "nbconvert_exporter": "python",
   "pygments_lexer": "ipython3",
   "version": "3.6.2"
  }
 },
 "nbformat": 4,
 "nbformat_minor": 2
}
