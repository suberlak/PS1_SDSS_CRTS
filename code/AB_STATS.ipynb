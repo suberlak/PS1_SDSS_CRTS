{
 "cells": [
  {
   "cell_type": "markdown",
   "metadata": {},
   "source": [
    "# AB_STATS\n",
    "\n",
    "\n",
    "Calculate average values per lightcurve per segment for the combined r-band LCs, to find out what are their properties (mostly, Nepochs, errors, etc,..... ) . \n"
   ]
  },
  {
   "cell_type": "code",
   "execution_count": 3,
   "metadata": {
    "collapsed": true
   },
   "outputs": [],
   "source": [
    "import numpy as np\n",
    "import matplotlib.pyplot as plt \n",
    "import os\n",
    "import pandas as pd \n",
    "from astropy.table import Table\n",
    "from astropy.coordinates import SkyCoord\n",
    "from astropy import units as u\n",
    "from astropy.table import unique\n",
    "from astropy.table import  hstack\n",
    "from astropy.table import  vstack\n",
    "from astropy.table import Column\n",
    "from astropy.table import join\n",
    "import celerite\n",
    "import modules as mod\n",
    "from matplotlib import rcParams \n",
    "rcParams['ytick.labelsize'] = 15\n",
    "rcParams['xtick.labelsize'] = 15\n",
    "rcParams['axes.labelsize'] = 20\n",
    "rcParams['axes.linewidth'] = 2\n",
    "rcParams['font.size'] = 15\n",
    "rcParams['axes.titlesize'] = 18\n"
   ]
  },
  {
   "cell_type": "code",
   "execution_count": 32,
   "metadata": {},
   "outputs": [
    {
     "name": "stdout",
     "output_type": "stream",
     "text": [
      "crts\n",
      "ps1\n",
      "ptf\n",
      "sdss\n"
     ]
    }
   ],
   "source": [
    "for seg in np.unique(lc_real['survey'].data):\n",
    "    print(seg)"
   ]
  },
  {
   "cell_type": "code",
   "execution_count": 35,
   "metadata": {},
   "outputs": [
    {
     "name": "stdout",
     "output_type": "stream",
     "text": [
      "0\n"
     ]
    },
    {
     "name": "stderr",
     "output_type": "stream",
     "text": [
      "/Users/chris/anaconda3/envs/py36/lib/python3.6/site-packages/numpy/lib/function_base.py:3405: RuntimeWarning: Invalid value encountered in median\n",
      "  r = func(a, **kwargs)\n",
      "/Users/chris/anaconda3/envs/py36/lib/python3.6/site-packages/numpy/core/fromnumeric.py:734: UserWarning: Warning: 'partition' will ignore the 'mask' of the MaskedColumn.\n",
      "  a.partition(kth, axis=axis, kind=kind, order=order)\n"
     ]
    },
    {
     "name": "stdout",
     "output_type": "stream",
     "text": [
      "500\n",
      "1000\n",
      "1500\n",
      "2000\n",
      "2500\n",
      "3000\n",
      "3500\n",
      "4000\n",
      "4500\n",
      "5000\n",
      "5500\n",
      "6000\n"
     ]
    }
   ],
   "source": [
    "simDir = '../data_products/Simulated_LC_DRW_obs/'\n",
    "\n",
    "# combined real light curves \n",
    "realDir = '../data_products/Combined_LC/'\n",
    "lightcurve_list =  os.listdir(realDir)\n",
    "\n",
    "stats = {}\n",
    "segs = ['sdss', 'ps1', 'ptf', 'crts']\n",
    "for seg in segs: \n",
    "    stats[seg] = {'lcname':[], 'medErr':[], 'meanErr':[], }\n",
    "  \n",
    "for i in range(len(lightcurve_list)):\n",
    "    lcname = lightcurve_list[i]\n",
    "    lc_real = Table.read(realDir+lcname, format='ascii')\n",
    "    #lc_real.sort('mjd')\n",
    "\n",
    "    # keep only the first row if there are two that \n",
    "    # have the same MJD ...\n",
    "    #lc_real = unique(lc_real, keys='mjd', keep='first')\n",
    "    lc_real.rename_column('originSurvey', 'survey')\n",
    "\n",
    "    #lc_sim = Table.read(simDir + lcname , format='ascii')\n",
    "    segs = np.unique(lc_real['survey'].data)\n",
    "    for seg in segs:  \n",
    "        lc = lc_real[lc_real['survey'] == seg]\n",
    "        stats[seg]['lcname'].append(lcname)\n",
    "        stats[seg]['medErr'].append(np.median(lc['magerr']))\n",
    "        stats[seg]['meanErr'].append(np.mean(lc['magerr']))\n",
    "    if i % 500 == 0 : print(i)\n",
    "fname = 'real_combined-r_band_sdss_ps1_stats'\n",
    "np.save(fname, stats)"
   ]
  },
  {
   "cell_type": "code",
   "execution_count": 18,
   "metadata": {
    "collapsed": true
   },
   "outputs": [],
   "source": []
  },
  {
   "cell_type": "code",
   "execution_count": 36,
   "metadata": {
    "collapsed": true
   },
   "outputs": [],
   "source": [
    "fname = 'real_combined-r_band_sdss_ps1_stats.npy'\n",
    "r = np.load(fname).item()\n",
    "\n",
    "\n",
    "\n",
    "\n",
    " "
   ]
  },
  {
   "cell_type": "code",
   "execution_count": 39,
   "metadata": {},
   "outputs": [
    {
     "data": {
      "text/plain": [
       "['sdss', 'ps1', 'ptf', 'crts']"
      ]
     },
     "execution_count": 39,
     "metadata": {},
     "output_type": "execute_result"
    }
   ],
   "source": [
    "seg"
   ]
  },
  {
   "cell_type": "code",
   "execution_count": 43,
   "metadata": {
    "collapsed": true
   },
   "outputs": [],
   "source": [
    "# convert a dict to a table, choosing relevant parts... \n",
    "seg = list(r.keys())\n",
    "\n",
    "d1 = pd.DataFrame.from_dict(r[seg[0]])\n",
    "t1 = Table.from_pandas(d1)\n",
    "\n",
    "d2 = pd.DataFrame.from_dict(r[seg[1]])\n",
    "t2 = Table.from_pandas(d2)\n",
    "\n",
    "s12 =  join(t1,t2, keys='lcname', table_names=[seg[0] ,seg[1]])\n",
    "\n",
    "\n",
    "d3 = pd.DataFrame.from_dict(r[seg[2]])\n",
    "t3 = Table.from_pandas(d3)\n",
    "\n",
    "d4 = pd.DataFrame.from_dict(r[seg[3]])\n",
    "t4 = Table.from_pandas(d4)\n",
    "\n",
    "s34 =  join(t3,t4, keys='lcname', table_names=[seg[2] ,seg[3]])\n",
    "\n",
    "sall = join(s12,s34, keys='lcname')"
   ]
  },
  {
   "cell_type": "code",
   "execution_count": 61,
   "metadata": {},
   "outputs": [
    {
     "name": "stderr",
     "output_type": "stream",
     "text": [
      "/Users/chris/anaconda3/envs/py36/lib/python3.6/site-packages/numpy/lib/histograms.py:824: RuntimeWarning: invalid value encountered in greater_equal\n",
      "  keep = (tmp_a >= first_edge)\n",
      "/Users/chris/anaconda3/envs/py36/lib/python3.6/site-packages/numpy/lib/histograms.py:825: RuntimeWarning: invalid value encountered in less_equal\n",
      "  keep &= (tmp_a <= last_edge)\n"
     ]
    },
    {
     "data": {
      "image/png": "[encoded data removed]",
      "text/plain": [
       "<Figure size 864x432 with 1 Axes>"
      ]
     },
     "metadata": {},
     "output_type": "display_data"
    }
   ],
   "source": [
    "%matplotlib inline\n",
    "fig,ax = plt.subplots(1,1,figsize=(12,6))\n",
    "for seg in list(r.keys()):\n",
    "    ax.hist(sall['medErr_'+seg], range = (0,0.5),lw=2, label=seg, bins=45,\n",
    "           histtype='step')\n",
    "ax.legend(fontsize=18)\n",
    "ax.set_xlabel('median error [mag]')\n",
    "plt.savefig('real_combined-r_band_sdss_ps1_stats.png', bbox_inches='tight')"
   ]
  },
  {
   "cell_type": "code",
   "execution_count": null,
   "metadata": {
    "collapsed": true
   },
   "outputs": [],
   "source": []
  },
  {
   "cell_type": "code",
   "execution_count": null,
   "metadata": {
    "collapsed": true
   },
   "outputs": [],
   "source": []
  }
 ],
 "metadata": {
  "kernelspec": {
   "display_name": "Python 3",
   "language": "python",
   "name": "python3"
  },
  "language_info": {
   "codemirror_mode": {
    "name": "ipython",
    "version": 3
   },
   "file_extension": ".py",
   "mimetype": "text/x-python",
   "name": "python",
   "nbconvert_exporter": "python",
   "pygments_lexer": "ipython3",
   "version": "3.6.2"
  }
 },
 "nbformat": 4,
 "nbformat_minor": 2
}
