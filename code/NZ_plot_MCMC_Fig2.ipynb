{
 "cells": [
  {
   "cell_type": "code",
   "execution_count": null,
   "metadata": {
    "collapsed": true
   },
   "outputs": [],
   "source": []
  },
  {
   "cell_type": "code",
   "execution_count": 1,
   "metadata": {
    "collapsed": true
   },
   "outputs": [],
   "source": [
    "import numpy as np \n",
    "from scipy.optimize import minimize\n",
    "import matplotlib.pyplot as plt\n",
    "from matplotlib import rcParams \n",
    "from astroML.plotting.mcmc import convert_to_stdev\n",
    "import celerite\n",
    "from celerite import terms\n",
    "from astropy.table import Table\n",
    "from astropy.table import vstack\n",
    "from astropy.table import Column\n",
    "rcParams['ytick.labelsize'] = 15\n",
    "rcParams['xtick.labelsize'] = 15\n",
    "rcParams['axes.labelsize'] = 20\n",
    "rcParams['axes.linewidth'] = 2\n",
    "rcParams['font.size'] = 15\n",
    "rcParams['axes.titlesize'] = 18\n",
    "import os\n",
    "import scipy"
   ]
  },
  {
   "cell_type": "markdown",
   "metadata": {},
   "source": [
    "The results from running MCMC on S82 are in \n",
    "\n",
    "    '../data_products/Simulated_DRW_Kozlowski/SDSS/thursday_work/'"
   ]
  },
  {
   "cell_type": "code",
   "execution_count": 2,
   "metadata": {
    "collapsed": true
   },
   "outputs": [],
   "source": [
    "# read in the files  with logL evaluated on a grid\n",
    "# and calculate the expectation value .... \n",
    "\n",
    "simulation = 'SDSS'\n",
    "resDir  = '../data_products/Simulated_DRW_Kozlowski/'+simulation+'/thursday_work/'# \n",
    "\n",
    "\n"
   ]
  },
  {
   "cell_type": "code",
   "execution_count": 3,
   "metadata": {},
   "outputs": [
    {
     "name": "stdout",
     "output_type": "stream",
     "text": [
      "[ 18.4865092   20.37218687  22.45020915  24.74019573  27.26376761\n",
      "  30.04475115  33.10940309  36.48665844  40.20840366  44.3097777\n",
      "  48.82950381  53.81025513  59.29905756  65.34773379  72.01339257\n",
      "  79.35896793  87.45381332]\n",
      "[19 20 21 22 23 24 25 26 27 28 29 30 31 32 33 34 35]\n"
     ]
    }
   ],
   "source": [
    "# The grid is uniform in log10(rho), but not in actual rho ...\n",
    "t_exp = 8*365\n",
    "rho_min, rho_max,  n_rho = 0.001, 15, 100\n",
    "rho_grid = np.logspace(np.log10(rho_min), np.log10(rho_max), n_rho)\n",
    "taus = rho_grid  * t_exp\n",
    "\n",
    "# 'problematic timescales '\n",
    "m = (-2.2<np.log10(rho_grid)) * (np.log10(rho_grid) < -1.5)\n",
    "print(taus[m])\n",
    "print(np.arange(len(rho_grid))[m])"
   ]
  },
  {
   "cell_type": "code",
   "execution_count": 4,
   "metadata": {},
   "outputs": [
    {
     "name": "stdout",
     "output_type": "stream",
     "text": [
      "Using  5602  files\n",
      "Done\n",
      "Saved as  loglike_Jeff2_60_SDSS_MCMC.txt\n"
     ]
    }
   ],
   "source": [
    "# Check which files in the results \n",
    "# directory end with .npy \n",
    "files = os.listdir(resDir)\n",
    "m = [f.endswith('.npy') for f in files]\n",
    "resFiles =  np.asarray(files)[np.array(m)]\n",
    "N = 60 \n",
    "prior = 'Jeff2'\n",
    "Nf  = len(resFiles)\n",
    "loglike_results = {'lc_name': np.zeros_like(resFiles),\n",
    "                  'sigma_exp':np.zeros(Nf, dtype=float),\n",
    "                  'tau_exp':np.zeros(Nf, dtype=float),\n",
    "                 'sigma_MAP':np.zeros(Nf, dtype=float),\n",
    "                 'tau_MAP':np.zeros(Nf, dtype=float),\n",
    "                   'sigma_MCMC':np.zeros(Nf, dtype=float),\n",
    "                   'tau_MCMC':np.zeros(Nf, dtype=float),\n",
    "                   'rho_in':np.zeros(Nf, dtype=float),\n",
    "                   'tau_in':np.zeros(Nf, dtype=float),\n",
    "                  }\n",
    "print('Using ', len(resFiles), ' files')\n",
    "\n",
    "\n",
    "for k in range(len(resFiles)) : \n",
    "    fname = resFiles[k]\n",
    "    results = np.load(resDir+fname).item()\n",
    "    loglike_results['lc_name'][k] = fname[:-9] + '.dat'\n",
    "    \n",
    "    iCounter =  int(resFiles[k][len('DRW_rho-'):-len('_087_logP.npy')])\n",
    "                # corresponds to rho \n",
    "    jCounter =  int(resFiles[k][len('DRW_rho-000_'):-len('_logP.npy')])\n",
    "                # corresponds to N-th iteration \n",
    "        \n",
    "    loglike_results['rho_in'][k] = rho_grid[iCounter]\n",
    "    loglike_results['tau_in'][k] = results['tau_in']\n",
    "    \n",
    "    # read the MCMC results\n",
    "    loglike_results['sigma_MCMC'][k] = results['sigma_MCMC']\n",
    "    loglike_results['tau_MCMC'][k] = results['tau_MCMC']\n",
    "    \n",
    "    # read the MAP results \n",
    "    loglike_results['sigma_MAP'][k] = results['sigma_MAP']\n",
    "    loglike_results['tau_MAP'][k] = results['tau_MAP']\n",
    "\n",
    "    # we also store the actual grid....\n",
    "    sigma_grid = results['sigma_grid']\n",
    "    tau_grid   = results['tau_grid']\n",
    "\n",
    "    # find the expectation value ..\n",
    "    # we are storing log Posterior ...\n",
    "    logP = results['logP']\n",
    "    dsigma =  sigma_grid[1] - sigma_grid[0]\n",
    "    dtau = tau_grid[1] - tau_grid[0]\n",
    "\n",
    "    p_sigma = np.exp(logP).sum(1)\n",
    "    p_sigma /= p_sigma.sum() * (dsigma)\n",
    "\n",
    "    p_tau = np.exp(logP).sum(0)\n",
    "    p_tau /= p_tau.sum() * (dtau)\n",
    "\n",
    "    # find it with trapezoidal rule \n",
    "    loglike_results['sigma_exp'][k] = scipy.integrate.trapz(sigma_grid*p_sigma, \n",
    "                                                                  dx=dsigma)\n",
    "    loglike_results['tau_exp'][k] = scipy.integrate.trapz(tau_grid*p_tau, \n",
    "                                                                dx=dtau)\n",
    "print('Done')\n",
    "\n",
    "# store regardless of prior...\n",
    "loglike = Table(loglike_results)\n",
    "fname  = 'loglike_'+prior+'_'+str(int(N))+'_'+simulation+'_MCMC.txt'\n",
    "print('Saved as ', fname)\n",
    "loglike.write(fname, format='ascii',overwrite=True)\n",
    "\n",
    "    "
   ]
  },
  {
   "cell_type": "code",
   "execution_count": 54,
   "metadata": {
    "collapsed": true
   },
   "outputs": [],
   "source": [
    "#loglike"
   ]
  },
  {
   "cell_type": "code",
   "execution_count": 13,
   "metadata": {},
   "outputs": [
    {
     "name": "stderr",
     "output_type": "stream",
     "text": [
      "WARNING: OverflowError converting to FloatType in column tau_MCMC, possibly resulting in degraded precision. [astropy.io.ascii.fastbasic]\n",
      "/Users/chris/anaconda3/envs/py36/lib/python3.6/site-packages/ipykernel_launcher.py:41: RuntimeWarning: divide by zero encountered in log10\n"
     ]
    },
    {
     "name": "stdout",
     "output_type": "stream",
     "text": [
      "Saved as  SDSS_Jeff2_MAP.png\n"
     ]
    },
    {
     "data": {
      "image/png": "[encoded data removed]",
      "text/plain": [
       "<matplotlib.figure.Figure at 0x11649d8d0>"
      ]
     },
     "metadata": {},
     "output_type": "display_data"
    }
   ],
   "source": [
    "%matplotlib inline\n",
    "from scipy.stats import binned_statistic_2d\n",
    "\n",
    "prior='Jeff2'\n",
    "\n",
    "simulation='SDSS'\n",
    "N = 60 \n",
    "fname = 'loglike_'+prior+'_'+str(int(N))+'_'+simulation+'_MCMC.txt'\n",
    "loglike = Table.read(fname, format='ascii')\n",
    "\n",
    "\n",
    "t_exp = 8 * 365.0 # days \n",
    "for label in ['MAP']:#, 'expectation', 'MCMC']:\n",
    "    if label is 'MAP':\n",
    "        rho_in = loglike['rho_in']\n",
    "        rho_out  = loglike['tau_MAP'] * np.power(10,0.16)/ t_exp\n",
    "        \n",
    "    elif label is 'expectation':\n",
    "        rho_in = loglike['rho_in']\n",
    "        rho_out  = loglike['tau_exp'] / t_exp\n",
    "        \n",
    "    elif label is 'MCMC':\n",
    "        m1 = loglike['tau_MCMC'] > 1e-100\n",
    "        m2 = ~np.isinf(loglike['tau_MCMC'])\n",
    "        m = m1*m2\n",
    "        rho_in = loglike['rho_in'][m]\n",
    "        rho_out= loglike['tau_MCMC'][m] / t_exp\n",
    "\n",
    "    fig,ax = plt.subplots(1,1,figsize=(6,6))\n",
    "    x = np.log10(rho_in)\n",
    "    y = np.log10(rho_out)#+0.16\n",
    "\n",
    "    stats = binned_statistic_2d(x, y, x, statistic='count', bins=40)\n",
    "    z_sigma, x_edges, y_edges = stats[0], stats[1], stats[2]\n",
    "    z_sigma[np.isnan(z_sigma)] =0 # replace all nan's by 0 ...\n",
    "    z_reduce  =  z_sigma\n",
    "    z_min, z_max = z_reduce.min(), np.abs(z_reduce).max()\n",
    "    z_rot = np.rot90(z_reduce)  # rotate and flip to properly display... \n",
    "    z_rot_flip = np.flipud(z_rot)\n",
    "    z_masked = np.ma.masked_where(z_rot_flip == 0 , z_rot_flip)\n",
    "    image = ax.pcolormesh(x_edges,y_edges, np.log10(z_masked), \n",
    "                             cmap=plt.cm.get_cmap('RdYlBu'))\n",
    "    # labels...\n",
    "    ax.set_xlabel(r'$\\log_{10}(\\rho_{in})$')\n",
    "    ax.set_ylabel(r'$\\log_{10}(\\rho_{out})$')\n",
    "\n",
    "    # lines to guide the eye ...\n",
    "    ax.grid()\n",
    "    xlim = ax.get_xlim()\n",
    "    x_line = np.arange(xlim[0], xlim[1],0.01)\n",
    "    ax.plot(x_line,x_line, ls='-', lw=2, color='red')\n",
    "    ax.axhline(-1, ls=':', lw=2, c='blue')\n",
    "    ax.axvline(-1, ls='-', lw=2, c='blue')\n",
    "\n",
    "    # calculate the median of log(rho_out)\n",
    "    # Median of the log(y) is not the log(median(y)) .... \n",
    "    min_x, max_x , step_size = xlim[0],xlim[1], 0.1\n",
    "    mean_x = np.arange(min_x, max_x+step_size , step_size)\n",
    "    dx = 0.5 * step_size \n",
    "    median_y = np.zeros(len(mean_x))\n",
    "\n",
    "    for j in range(len(median_y)):\n",
    "        # take points that are within desired x_data limits for each bin\n",
    "        # i.e. marginalize along y ( stack vertically)\n",
    "        mask =  ((mean_x[j] - dx) < x)*(x<  (mean_x[j] + dx))\n",
    "        median_y[j] = np.median(y[mask])\n",
    "\n",
    "    ax.plot(mean_x[:-1], median_y[:-1], c = 'magenta',lw=2)#, s=50 , edgecolor='black')\n",
    "    ax.set_title(simulation+', ' +prior+', '+label)\n",
    "    ax.set_ylim(-3,1)\n",
    "    ax.set_xlim(-3,1)\n",
    "    figname = simulation+'_'+prior+'_'+label+'.png'\n",
    "    plt.savefig(figname, bbox_inches='tight')\n",
    "    print('Saved as ', figname)"
   ]
  },
  {
   "cell_type": "code",
   "execution_count": 14,
   "metadata": {},
   "outputs": [
    {
     "data": {
      "text/plain": [
       "0"
      ]
     },
     "execution_count": 14,
     "metadata": {},
     "output_type": "execute_result"
    }
   ],
   "source": [
    "np.sum(np.isnan(rho_in))"
   ]
  },
  {
   "cell_type": "code",
   "execution_count": 31,
   "metadata": {},
   "outputs": [
    {
     "data": {
      "text/plain": [
       "1"
      ]
     },
     "execution_count": 31,
     "metadata": {},
     "output_type": "execute_result"
    }
   ],
   "source": [
    "np.sum(~np.isfinite(y))"
   ]
  },
  {
   "cell_type": "code",
   "execution_count": 32,
   "metadata": {},
   "outputs": [
    {
     "data": {
      "text/html": [
       "&lt;Column name=&apos;tau_MCMC&apos; dtype=&apos;float64&apos; length=1&gt;\n",
       "<table>\n",
       "<tr><td>inf</td></tr>\n",
       "</table>"
      ],
      "text/plain": [
       "<Column name='tau_MCMC' dtype='float64' length=1>\n",
       "inf"
      ]
     },
     "execution_count": 32,
     "metadata": {},
     "output_type": "execute_result"
    }
   ],
   "source": [
    "rho_out[~np.isfinite(y)]"
   ]
  },
  {
   "cell_type": "code",
   "execution_count": null,
   "metadata": {
    "collapsed": true
   },
   "outputs": [],
   "source": []
  }
 ],
 "metadata": {
  "kernelspec": {
   "display_name": "Python 3",
   "language": "python",
   "name": "python3"
  },
  "language_info": {
   "codemirror_mode": {
    "name": "ipython",
    "version": 3
   },
   "file_extension": ".py",
   "mimetype": "text/x-python",
   "name": "python",
   "nbconvert_exporter": "python",
   "pygments_lexer": "ipython3",
   "version": "3.6.2"
  }
 },
 "nbformat": 4,
 "nbformat_minor": 2
}
