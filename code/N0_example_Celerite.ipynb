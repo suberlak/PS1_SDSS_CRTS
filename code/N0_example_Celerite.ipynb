{
 "cells": [
  {
   "cell_type": "markdown",
   "metadata": {},
   "source": [
    "A fully functional example code to fit a DRW simulated light curve with the Celerite DRW model, finding the MAP solution with Jeffreys prior, estimating the error on the MAP estimate from the Hessian matrix. "
   ]
  },
  {
   "cell_type": "markdown",
   "metadata": {},
   "source": [
    "To do : \n",
    "  * find out what's going on with logL : why doesn't it return some normal value ? \n",
    "  * plot the light curve and the prediction... "
   ]
  },
  {
   "cell_type": "code",
   "execution_count": 3,
   "metadata": {
    "collapsed": true
   },
   "outputs": [],
   "source": [
    "import numpy as np \n",
    "from scipy.optimize import minimize\n",
    "import matplotlib.pyplot as plt\n",
    "from matplotlib import rcParams \n",
    "from astroML.plotting.mcmc import convert_to_stdev\n",
    "from astroML.datasets import fetch_dr7_quasar\n",
    "import celerite\n",
    "from celerite import terms\n",
    "from astropy.table import Table\n",
    "from astropy.table import vstack\n",
    "from astropy.table import Column\n",
    "rcParams['ytick.labelsize'] = 15\n",
    "rcParams['xtick.labelsize'] = 15\n",
    "rcParams['axes.labelsize'] = 20\n",
    "rcParams['axes.linewidth'] = 2\n",
    "rcParams['font.size'] = 15\n",
    "rcParams['axes.titlesize'] = 18"
   ]
  },
  {
   "cell_type": "code",
   "execution_count": 4,
   "metadata": {
    "collapsed": true
   },
   "outputs": [],
   "source": [
    "# Simulate 10'000 light curves\n",
    "\n",
    "def sim_DRW_lightcurve(t,SFinf,tau,mean_mag):\n",
    "    '''Simulate a DRW lightcurve for a given time series t, with parameters\n",
    "       (SFinf, tau), and mean magnitude.\n",
    "       Uses equations A4 and A5 in Kelly 2009 (see also MacLeod+10 sec 2.2).\n",
    "       \n",
    "       Note:  sampling times t  must be a sorted array ! \n",
    "    '''\n",
    "    mu = mean_mag  # the input parameter : mean mag: make an alias \n",
    "    mag = np.zeros(len(t),dtype=np.float32) # initialize an array of empty values\n",
    "    mag[0] = mean_mag # start from the mean magnitude \n",
    "    dt = np.diff(t) # an array of differences  t[i+1]-t[i]\n",
    "    for i in range(1,len(t)):\n",
    "        # calculate the mean \n",
    "        loc = np.exp(-dt[i-1]/tau)*mag[i-1] + mu*(1-np.exp(-dt[i-1]/tau))\n",
    "        # calculate the variance \n",
    "        var = 0.5 * SFinf**2 * (1-np.exp(-2*dt[i-1]/tau))\n",
    "        # draw the magnitude value from a Gaussian distribution\n",
    "        # with a given mean and standard deviation ( = sqrt(variance))\n",
    "        mag[i] = np.random.normal(loc=loc,scale=np.sqrt(var))\n",
    "    return mag\n"
   ]
  },
  {
   "cell_type": "code",
   "execution_count": 6,
   "metadata": {},
   "outputs": [
    {
     "name": "stdout",
     "output_type": "stream",
     "text": [
      "Input tau is  100  sigma  0.141421356237\n"
     ]
    }
   ],
   "source": [
    "# sampling times: \n",
    "# random, in the span \n",
    "# of 8 years , 445 points ... \n",
    "# 8 years is over 20 times the \n",
    "# input timescale length\n",
    "# if tau = 100 , so it should \n",
    "# give a good estimate \n",
    "t = np.sort(np.random.randint(low=0, high=8*365, size=445))\n",
    "tau_in = 100 # days \n",
    "SF_inf = 0.2 # mag \n",
    "sigma_in = SF_inf / np.sqrt(2)\n",
    "\n",
    "y_true = sim_DRW_lightcurve(t, SF_inf, tau_in , 18) # the last number is the mean .. \n",
    "\n",
    "# Add to the ideal light curve a Gaussian Noise \n",
    "stdev = 0.001\n",
    "noise = np.random.normal(loc=0,scale=stdev,size=len(t))\n",
    "y_obs = y_true + noise  # eq.2 Kozlowski+2017\n",
    "\n",
    "# the uncertainty on each measurement : \n",
    "# homoscedastic, i.e. same errors for all points \n",
    "yerr = np.ones_like(t)* stdev \n",
    "print('Input tau is ', tau_in, ', sigma ', sigma_in)"
   ]
  },
  {
   "cell_type": "code",
   "execution_count": 17,
   "metadata": {
    "collapsed": true
   },
   "outputs": [],
   "source": [
    "#"
   ]
  },
  {
   "cell_type": "code",
   "execution_count": 18,
   "metadata": {},
   "outputs": [
    {
     "name": "stdout",
     "output_type": "stream",
     "text": [
      "MAP estimate is  tau  100.0 +/- nan\n",
      " sigma  0.2 +/- nan\n"
     ]
    },
    {
     "name": "stderr",
     "output_type": "stream",
     "text": [
      "/Users/chris/anaconda3/envs/py36/lib/python3.6/site-packages/scipy/optimize/optimize.py:628: RuntimeWarning: invalid value encountered in double_scalars\n",
      "  grad[k] = (f(*((xk + d,) + args)) - f0) / d[k]\n",
      "/Users/chris/anaconda3/envs/py36/lib/python3.6/site-packages/numdifftools/core.py:945: RuntimeWarning: invalid value encountered in double_scalars\n",
      "  hess[i, i] = (f(x + 2 * ee[i, :], *args, **kwargs) - 2 * fx +\n",
      "/Users/chris/anaconda3/envs/py36/lib/python3.6/site-packages/numdifftools/core.py:951: RuntimeWarning: invalid value encountered in double_scalars\n",
      "  f(x - ee[i, :] + ee[j, :], *args, **kwargs) +\n",
      "/Users/chris/anaconda3/envs/py36/lib/python3.6/site-packages/numdifftools/extrapolation.py:443: RuntimeWarning: invalid value encountered in less_equal\n",
      "  converged = err <= tol\n",
      "/Users/chris/anaconda3/envs/py36/lib/python3.6/site-packages/numpy/lib/function_base.py:4011: RuntimeWarning: All-NaN slice encountered\n",
      "  r = func(a, **kwargs)\n",
      "/Users/chris/anaconda3/envs/py36/lib/python3.6/site-packages/numpy/lib/nanfunctions.py:1147: RuntimeWarning: All-NaN slice encountered\n",
      "  overwrite_input, interpolation)\n",
      "/Users/chris/anaconda3/envs/py36/lib/python3.6/site-packages/numdifftools/limits.py:150: RuntimeWarning: invalid value encountered in less\n",
      "  outliers = (((abs(der) < (a_median / trim_fact)) +\n",
      "/Users/chris/anaconda3/envs/py36/lib/python3.6/site-packages/numdifftools/limits.py:151: RuntimeWarning: invalid value encountered in greater\n",
      "  (abs(der) > (a_median * trim_fact))) * (a_median > 1e-8) +\n",
      "/Users/chris/anaconda3/envs/py36/lib/python3.6/site-packages/numdifftools/limits.py:152: RuntimeWarning: invalid value encountered in less\n",
      "  ((der < p25-1.5*iqr) + (p75+1.5*iqr < der)))\n",
      "/Users/chris/anaconda3/envs/py36/lib/python3.6/site-packages/numdifftools/limits.py:126: UserWarning: All-NaN slice encountered\n",
      "  warnings.warn(str(msg))\n"
     ]
    }
   ],
   "source": [
    "import numdifftools as nd\n",
    "\n",
    "# initialize the Celerite kernel : \n",
    "# same for all light curves ... \n",
    "sigma0 = 0.2\n",
    "tau0 = 100\n",
    "kernel = terms.RealTerm(log_a = 2 * np.log(sigma0) , \n",
    "                        log_c = np.log(1.0/tau0))\n",
    "\n",
    "# define the log likelihood and log prior \n",
    "def neg_log_posterior(params, y, gp):  \n",
    "    # Jeffreys prior \n",
    "    # 1 / sigma_hat *  1 / tau \n",
    "    gp.set_parameter_vector(params)\n",
    "    log_a = params[0]\n",
    "    log_c = params[1]\n",
    "     # - log_likelihood - log(prior)\n",
    "    log_prior  = 0.5* (-np.log(2.0) - log_a + log_c  )\n",
    "    return -gp.log_likelihood(y, quiet=True)  - log_prior\n",
    "\n",
    "# call the model  with a chosen kernel instance \n",
    "gp = celerite.GP(kernel, mean=np.mean(y_obs))\n",
    "gp.compute(t, yerr)\n",
    "\n",
    "# set initial params \n",
    "initial_params = gp.get_parameter_vector()\n",
    "\n",
    "# set boundaries for Celerite \n",
    "sig_lims = [0.02, 0.7]  # mags \n",
    "tau_lims = [1,10000] # days \n",
    "\n",
    "tau_bounds, sigma_bounds = tau_lims, sig_lims\n",
    "logc_bounds= (np.log(1/max(tau_bounds)), \n",
    "              np.log(1/min(tau_bounds)) )\n",
    "loga_bounds = (2*np.log(min(sigma_bounds)), \n",
    "               2*np.log(max(sigma_bounds)))\n",
    "bounds = [loga_bounds, logc_bounds]\n",
    "\n",
    "# find the minimum of the negative log posterior ... \n",
    "r = minimize(neg_log_posterior, initial_params, \n",
    "             method=\"L-BFGS-B\", bounds=bounds, args=(y_obs, gp))\n",
    "gp.set_parameter_vector(r.x)\n",
    "\n",
    "# retrieve the best-fit parameters \n",
    "res = gp.get_parameter_dict()\n",
    "sigmaMAP = np.exp(res['kernel:log_a']/2)\n",
    "tauMAP = 1.0 / np.exp(res['kernel:log_c'])\n",
    "\n",
    "# Calculate error on the estimate of sigma, mu\n",
    "def Wrap_neg_log_like(theta) : \n",
    "    return neg_log_posterior(theta, y_obs,gp)\n",
    "\n",
    "Hfun = nd.Hessian(Wrap_neg_log_like, full_output=True)\n",
    "hessian_ndt, info = Hfun(r['x'])\n",
    "\n",
    "# standard deviation is the square of variance\n",
    "se = np.sqrt(np.diag(np.linalg.inv(hessian_ndt)))\n",
    "\n",
    "# error from hessian on log_a, log_c\n",
    "s_sigma = se[0]\n",
    "s_tau = se[1]\n",
    "\n",
    "print('MAP estimate is  tau ',tauMAP,'+/-', s_tau)\n",
    "print(' sigma ', sigmaMAP, '+/-', s_sigma)"
   ]
  },
  {
   "cell_type": "code",
   "execution_count": 31,
   "metadata": {
    "collapsed": true
   },
   "outputs": [],
   "source": [
    "# Plot the light curve, the fit, and the log likelihood ...\n",
    "\n",
    "N = 60 \n",
    "sig_lims = [0.02, 0.7] ; tau_lims = [1,1000]\n",
    "sigma_grid = np.linspace(sig_lims[0], sig_lims[1],N )\n",
    "tau_grid  = np.linspace(tau_lims[0], tau_lims[1], N)\n",
    "log_a_grid = 2 * np.log(sigma_grid)\n",
    "log_c_grid = np.log(1/tau_grid)\n",
    "\n",
    "# loop over the likelihood space .... \n",
    "logPosterior = np.zeros([N,N], dtype=float)\n",
    "for k in range(len(log_a_grid)):\n",
    "    for l in range(len(log_c_grid)):\n",
    "        params = [log_a_grid[k],log_c_grid[l]]    \n",
    "        logPosterior[k,l] = -neg_log_posterior(params,y_obs,gp)\n",
    "        \n"
   ]
  },
  {
   "cell_type": "code",
   "execution_count": 32,
   "metadata": {},
   "outputs": [
    {
     "data": {
      "text/plain": [
       "array([[-inf, -inf, -inf, ..., -inf, -inf, -inf],\n",
       "       [-inf, -inf, -inf, ..., -inf, -inf, -inf],\n",
       "       [-inf, -inf, -inf, ..., -inf, -inf, -inf],\n",
       "       ..., \n",
       "       [-inf, -inf, -inf, ..., -inf, -inf, -inf],\n",
       "       [-inf, -inf, -inf, ..., -inf, -inf, -inf],\n",
       "       [-inf, -inf, -inf, ..., -inf, -inf, -inf]])"
      ]
     },
     "execution_count": 32,
     "metadata": {},
     "output_type": "execute_result"
    }
   ],
   "source": [
    "logPosterior"
   ]
  },
  {
   "cell_type": "code",
   "execution_count": 26,
   "metadata": {},
   "outputs": [
    {
     "name": "stderr",
     "output_type": "stream",
     "text": [
      "/Users/chris/anaconda3/envs/py36/lib/python3.6/site-packages/ipykernel_launcher.py:15: RuntimeWarning: invalid value encountered in subtract\n",
      "  from ipykernel import kernelapp as app\n",
      "/Users/chris/anaconda3/envs/py36/lib/python3.6/site-packages/ipykernel_launcher.py:29: RuntimeWarning: overflow encountered in exp\n",
      "/Users/chris/anaconda3/envs/py36/lib/python3.6/site-packages/ipykernel_launcher.py:36: RuntimeWarning: overflow encountered in exp\n"
     ]
    },
    {
     "data": {
      "text/plain": [
       "<matplotlib.text.Text at 0x111d1a0b8>"
      ]
     },
     "execution_count": 26,
     "metadata": {},
     "output_type": "execute_result"
    },
    {
     "name": "stderr",
     "output_type": "stream",
     "text": [
      "/Users/chris/anaconda3/envs/py36/lib/python3.6/site-packages/matplotlib/colors.py:823: UserWarning: Warning: converting a masked element to nan.\n",
      "  dtype = np.min_scalar_type(value)\n",
      "/Users/chris/anaconda3/envs/py36/lib/python3.6/site-packages/numpy/ma/core.py:2809: UserWarning: Warning: converting a masked element to nan.\n",
      "  order=order, subok=True, ndmin=ndmin)\n"
     ]
    },
    {
     "data": {
      "image/png": "[encoded data removed]",
      "text/plain": [
       "<matplotlib.figure.Figure at 0x10c011d30>"
      ]
     },
     "metadata": {},
     "output_type": "display_data"
    }
   ],
   "source": [
    "-"
   ]
  },
  {
   "cell_type": "code",
   "execution_count": null,
   "metadata": {
    "collapsed": true
   },
   "outputs": [],
   "source": []
  }
 ],
 "metadata": {
  "kernelspec": {
   "display_name": "Python 3",
   "language": "python",
   "name": "python3"
  },
  "language_info": {
   "codemirror_mode": {
    "name": "ipython",
    "version": 3
   },
   "file_extension": ".py",
   "mimetype": "text/x-python",
   "name": "python",
   "nbconvert_exporter": "python",
   "pygments_lexer": "ipython3",
   "version": "3.6.2"
  }
 },
 "nbformat": 4,
 "nbformat_minor": 2
}
