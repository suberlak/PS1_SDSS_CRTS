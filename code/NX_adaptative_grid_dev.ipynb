{
 "cells": [
  {
   "cell_type": "markdown",
   "metadata": {},
   "source": [
    "Simply debug the adaptative gridding code : run it for a range of tau, sigma profiles ..."
   ]
  },
  {
   "cell_type": "code",
   "execution_count": 2,
   "metadata": {
    "collapsed": true
   },
   "outputs": [],
   "source": [
    "import numpy as np \n",
    "from scipy.optimize import minimize\n",
    "import matplotlib.pyplot as plt\n",
    "from matplotlib import rcParams \n",
    "from astroML.plotting.mcmc import convert_to_stdev\n",
    "from astroML.datasets import fetch_dr7_quasar\n",
    "import celerite\n",
    "from celerite import terms\n",
    "from astropy.table import Table\n",
    "from astropy.table import vstack\n",
    "from astropy.table import Column\n",
    "rcParams['ytick.labelsize'] = 15\n",
    "rcParams['xtick.labelsize'] = 15\n",
    "rcParams['axes.labelsize'] = 20\n",
    "rcParams['axes.linewidth'] = 2\n",
    "rcParams['font.size'] = 15\n",
    "rcParams['axes.titlesize'] = 18"
   ]
  },
  {
   "cell_type": "code",
   "execution_count": 6,
   "metadata": {
    "collapsed": true
   },
   "outputs": [],
   "source": [
    "import modules as mod"
   ]
  },
  {
   "cell_type": "code",
   "execution_count": 10,
   "metadata": {},
   "outputs": [],
   "source": [
    "\n",
    "SF_inf = 0.2 # mag \n",
    "t_exp = 8 * 365.0 # in days  # the length of the light curve \n",
    "\n",
    "t445 = np.sort(np.random.randint(low=0, high=t_exp, size=445))\n",
    "\n",
    "plot = False\n",
    "\n",
    "ogle_lc = {}\n",
    "t = t445\n",
    "\n",
    "# iterate over rho grid , which is the grid of \n",
    "# input values of tau \n",
    "rho_min, rho_max,  n_rho = 0.001, 15, 100\n",
    "rho_grid = np.logspace(np.log10(rho_min), np.log10(rho_max), n_rho)\n",
    "for i,rho_in in enumerate(rho_grid) : \n",
    "    tau_in = rho_in * t_exp\n",
    "    ogle_lc[i] = {'rho':rho_in,\n",
    "                  'y': mod.sim_DRW_lightcurve(t, SF_inf, tau_in , 18)}\n"
   ]
  },
  {
   "cell_type": "code",
   "execution_count": 44,
   "metadata": {},
   "outputs": [
    {
     "name": "stdout",
     "output_type": "stream",
     "text": [
      "50\n",
      "tau_in =  375.422114081\n",
      "cannot do adaptative grid, over 90 percent is infinite\n"
     ]
    }
   ],
   "source": [
    "# functions for adaptative gridding .... \n",
    "def calculate_log_posterior(prior, params,y,gp):\n",
    "    if prior is 'Jeff1' : # (1/sigma) * (1/tau) \n",
    "        def neg_log_like(params,y,gp):\n",
    "            gp.set_parameter_vector(params)\n",
    "            log_a = params[0]\n",
    "            log_c = params[1]\n",
    "            # - log_likelihood - log(prior)\n",
    "            log_prior = - (log_a / 2.0) + log_c\n",
    "            return -gp.log_likelihood(y, quiet=True) - log_prior\n",
    "    \n",
    "    if prior is 'Jeff2' : # (1/sigma_hat) * (1/tau) \n",
    "        def neg_log_like(params, y, gp):\n",
    "            gp.set_parameter_vector(params)\n",
    "            log_a = params[0]\n",
    "            log_c = params[1]\n",
    "             # - log_likelihood - log(prior)\n",
    "            log_prior  = 0.5* (-np.log(2.0) - log_a + log_c  )\n",
    "            return -gp.log_likelihood(y, quiet=True)  - log_prior\n",
    "        \n",
    "    return -neg_log_like(params, y, gp)\n",
    "\n",
    "# Gaussian noise added to each light curve\n",
    "loc=0; var = 0.0248445133097\n",
    "noise  = np.random.normal(loc=loc,scale=np.sqrt(var),size=445)\n",
    "\n",
    "# Variance for OGLE - using eq. from Kozlowski+2017\n",
    "I = 18 # mag  - mean magnitude of the assumed light curve \n",
    "variance = 0.004**2.0 + np.exp(1.63 * (I - 22.55)) \n",
    "\n",
    "# All input params to # initialize Celerite DRW kernel \n",
    "\n",
    "\n",
    "for i in range(50,51):# len(ogle_lc.keys())): \n",
    "    print(i)\n",
    "    rho_in = ogle_lc[i]['rho']\n",
    "    tau_in = rho_in * t_exp\n",
    "    yDRW = ogle_lc[i]['y']\n",
    "    \n",
    "    # make a random draw from a Gaussian distribution centered on 0,\n",
    "    # with variance set by the equation from Kozlowski+2017\n",
    "    noise = np.random.normal(loc=0,scale=np.sqrt(variance),size=len(yDRW))\n",
    "    \n",
    "    y_obs = yDRW + noise \n",
    "    # the uncertainty on each measurement : \n",
    "    # I set it to sigma_SDSS = 0.0248, or sigma_OGLE = 0.0131,\n",
    "    # homoscedastic, i.e. same errors for all points \n",
    "    yerr = np.ones_like(t)* np.sqrt(variance)\n",
    "    \n",
    "    # define which priors we would like to try ... \n",
    "    #priors = ['Jeff1','Jeff2'] \n",
    "    \n",
    "     # call the model  with a chosen kernel instance \n",
    "    gp = celerite.GP(kernel, mean=np.mean(y_obs))\n",
    "    gp.compute(t, yerr)\n",
    "\n",
    "    # set initial params \n",
    "    initial_params = gp.get_parameter_vector()\n",
    "\n",
    "    # set boundaries for Celerite \n",
    "    sig_lims = [0.02, 0.7]  ; tau_lims = [1,10000]\n",
    "    tau_bounds, sigma_bounds = tau_lims, sig_lims\n",
    "    logc_bounds= (-np.log(max(tau_bounds)), \n",
    "                  -np.log(min(tau_bounds))\n",
    "                 )\n",
    "    loga_bounds = (2*np.log(min(sigma_bounds)), \n",
    "                   2*np.log(max(sigma_bounds)))\n",
    "    bounds = [loga_bounds, logc_bounds]\n",
    "\n",
    "    print('tau_in = ', tau_in)\n",
    "    #results = {}\n",
    "    #for prior in priors: \n",
    "    #prior = 'Jeff1'\n",
    "    #results[prior] = {}\n",
    "    # starting grid : for each LC we need to start it anew...\n",
    "    N = 60 \n",
    "    sig_lims = [0.02, 0.7] ; tau_lims = [1,1000]\n",
    "    sigma_grid = np.linspace(sig_lims[0], sig_lims[1],N )\n",
    "    tau_grid  = np.linspace(tau_lims[0], tau_lims[1], N)\n",
    "    log_a_grid = 2 * np.log(sigma_grid)\n",
    "    log_c_grid = np.log(1/tau_grid)\n",
    "\n",
    "    def neg_log_like(params,y,gp):\n",
    "        gp.set_parameter_vector(params)\n",
    "        return -gp.log_likelihood(y, quiet=True) \n",
    "\n",
    "    # loop over the likelihood space .... \n",
    "    logPosterior = np.zeros([N,N], dtype=float)\n",
    "    for k in range(len(log_a_grid)):\n",
    "        for l in range(len(log_c_grid)):\n",
    "            params = [log_a_grid[k],log_c_grid[l]]    \n",
    "            logPosterior[k,l] = neg_log_like(params,y_obs,gp)\n",
    "            \n",
    "    if np.sum(np.isinf(logPosterior)) > 0.9 * len(np.ravel(logPosterior)):\n",
    "        print('cannot do adaptative grid, over 90 percent is infinite')"
   ]
  },
  {
   "cell_type": "code",
   "execution_count": 92,
   "metadata": {},
   "outputs": [
    {
     "data": {
      "text/plain": [
       "array([ 0.02484451,  0.02484451,  0.02484451,  0.02484451,  0.02484451,\n",
       "        0.02484451,  0.02484451,  0.02484451,  0.02484451,  0.02484451,\n",
       "        0.02484451,  0.02484451,  0.02484451,  0.02484451,  0.02484451,\n",
       "        0.02484451,  0.02484451,  0.02484451,  0.02484451,  0.02484451,\n",
       "        0.02484451,  0.02484451,  0.02484451,  0.02484451,  0.02484451,\n",
       "        0.02484451,  0.02484451,  0.02484451,  0.02484451,  0.02484451,\n",
       "        0.02484451,  0.02484451,  0.02484451,  0.02484451,  0.02484451,\n",
       "        0.02484451,  0.02484451,  0.02484451,  0.02484451,  0.02484451,\n",
       "        0.02484451,  0.02484451,  0.02484451,  0.02484451,  0.02484451,\n",
       "        0.02484451,  0.02484451,  0.02484451,  0.02484451,  0.02484451,\n",
       "        0.02484451,  0.02484451,  0.02484451,  0.02484451,  0.02484451,\n",
       "        0.02484451,  0.02484451,  0.02484451,  0.02484451,  0.02484451,\n",
       "        0.02484451,  0.02484451,  0.02484451,  0.02484451,  0.02484451,\n",
       "        0.02484451,  0.02484451,  0.02484451,  0.02484451,  0.02484451,\n",
       "        0.02484451,  0.02484451,  0.02484451,  0.02484451,  0.02484451,\n",
       "        0.02484451,  0.02484451,  0.02484451,  0.02484451,  0.02484451,\n",
       "        0.02484451,  0.02484451,  0.02484451,  0.02484451,  0.02484451,\n",
       "        0.02484451,  0.02484451,  0.02484451,  0.02484451,  0.02484451,\n",
       "        0.02484451,  0.02484451,  0.02484451,  0.02484451,  0.02484451,\n",
       "        0.02484451,  0.02484451,  0.02484451,  0.02484451,  0.02484451,\n",
       "        0.02484451,  0.02484451,  0.02484451,  0.02484451,  0.02484451,\n",
       "        0.02484451,  0.02484451,  0.02484451,  0.02484451,  0.02484451,\n",
       "        0.02484451,  0.02484451,  0.02484451,  0.02484451,  0.02484451,\n",
       "        0.02484451,  0.02484451,  0.02484451,  0.02484451,  0.02484451,\n",
       "        0.02484451,  0.02484451,  0.02484451,  0.02484451,  0.02484451,\n",
       "        0.02484451,  0.02484451,  0.02484451,  0.02484451,  0.02484451,\n",
       "        0.02484451,  0.02484451,  0.02484451,  0.02484451,  0.02484451,\n",
       "        0.02484451,  0.02484451,  0.02484451,  0.02484451,  0.02484451,\n",
       "        0.02484451,  0.02484451,  0.02484451,  0.02484451,  0.02484451,\n",
       "        0.02484451,  0.02484451,  0.02484451,  0.02484451,  0.02484451,\n",
       "        0.02484451,  0.02484451,  0.02484451,  0.02484451,  0.02484451,\n",
       "        0.02484451,  0.02484451,  0.02484451,  0.02484451,  0.02484451,\n",
       "        0.02484451,  0.02484451,  0.02484451,  0.02484451,  0.02484451,\n",
       "        0.02484451,  0.02484451,  0.02484451,  0.02484451,  0.02484451,\n",
       "        0.02484451,  0.02484451,  0.02484451,  0.02484451,  0.02484451,\n",
       "        0.02484451,  0.02484451,  0.02484451,  0.02484451,  0.02484451,\n",
       "        0.02484451,  0.02484451,  0.02484451,  0.02484451,  0.02484451,\n",
       "        0.02484451,  0.02484451,  0.02484451,  0.02484451,  0.02484451,\n",
       "        0.02484451,  0.02484451,  0.02484451,  0.02484451,  0.02484451,\n",
       "        0.02484451,  0.02484451,  0.02484451,  0.02484451,  0.02484451,\n",
       "        0.02484451,  0.02484451,  0.02484451,  0.02484451,  0.02484451,\n",
       "        0.02484451,  0.02484451,  0.02484451,  0.02484451,  0.02484451,\n",
       "        0.02484451,  0.02484451,  0.02484451,  0.02484451,  0.02484451,\n",
       "        0.02484451,  0.02484451,  0.02484451,  0.02484451,  0.02484451,\n",
       "        0.02484451,  0.02484451,  0.02484451,  0.02484451,  0.02484451,\n",
       "        0.02484451,  0.02484451,  0.02484451,  0.02484451,  0.02484451,\n",
       "        0.02484451,  0.02484451,  0.02484451,  0.02484451,  0.02484451,\n",
       "        0.02484451,  0.02484451,  0.02484451,  0.02484451,  0.02484451,\n",
       "        0.02484451,  0.02484451,  0.02484451,  0.02484451,  0.02484451,\n",
       "        0.02484451,  0.02484451,  0.02484451,  0.02484451,  0.02484451,\n",
       "        0.02484451,  0.02484451,  0.02484451,  0.02484451,  0.02484451,\n",
       "        0.02484451,  0.02484451,  0.02484451,  0.02484451,  0.02484451,\n",
       "        0.02484451,  0.02484451,  0.02484451,  0.02484451,  0.02484451,\n",
       "        0.02484451,  0.02484451,  0.02484451,  0.02484451,  0.02484451,\n",
       "        0.02484451,  0.02484451,  0.02484451,  0.02484451,  0.02484451,\n",
       "        0.02484451,  0.02484451,  0.02484451,  0.02484451,  0.02484451,\n",
       "        0.02484451,  0.02484451,  0.02484451,  0.02484451,  0.02484451,\n",
       "        0.02484451,  0.02484451,  0.02484451,  0.02484451,  0.02484451,\n",
       "        0.02484451,  0.02484451,  0.02484451,  0.02484451,  0.02484451,\n",
       "        0.02484451,  0.02484451,  0.02484451,  0.02484451,  0.02484451,\n",
       "        0.02484451,  0.02484451,  0.02484451,  0.02484451,  0.02484451,\n",
       "        0.02484451,  0.02484451,  0.02484451,  0.02484451,  0.02484451,\n",
       "        0.02484451,  0.02484451,  0.02484451,  0.02484451,  0.02484451,\n",
       "        0.02484451,  0.02484451,  0.02484451,  0.02484451,  0.02484451,\n",
       "        0.02484451,  0.02484451,  0.02484451,  0.02484451,  0.02484451,\n",
       "        0.02484451,  0.02484451,  0.02484451,  0.02484451,  0.02484451,\n",
       "        0.02484451,  0.02484451,  0.02484451,  0.02484451,  0.02484451,\n",
       "        0.02484451,  0.02484451,  0.02484451,  0.02484451,  0.02484451,\n",
       "        0.02484451,  0.02484451,  0.02484451,  0.02484451,  0.02484451,\n",
       "        0.02484451,  0.02484451,  0.02484451,  0.02484451,  0.02484451,\n",
       "        0.02484451,  0.02484451,  0.02484451,  0.02484451,  0.02484451,\n",
       "        0.02484451,  0.02484451,  0.02484451,  0.02484451,  0.02484451,\n",
       "        0.02484451,  0.02484451,  0.02484451,  0.02484451,  0.02484451,\n",
       "        0.02484451,  0.02484451,  0.02484451,  0.02484451,  0.02484451,\n",
       "        0.02484451,  0.02484451,  0.02484451,  0.02484451,  0.02484451,\n",
       "        0.02484451,  0.02484451,  0.02484451,  0.02484451,  0.02484451,\n",
       "        0.02484451,  0.02484451,  0.02484451,  0.02484451,  0.02484451,\n",
       "        0.02484451,  0.02484451,  0.02484451,  0.02484451,  0.02484451,\n",
       "        0.02484451,  0.02484451,  0.02484451,  0.02484451,  0.02484451,\n",
       "        0.02484451,  0.02484451,  0.02484451,  0.02484451,  0.02484451,\n",
       "        0.02484451,  0.02484451,  0.02484451,  0.02484451,  0.02484451,\n",
       "        0.02484451,  0.02484451,  0.02484451,  0.02484451,  0.02484451,\n",
       "        0.02484451,  0.02484451,  0.02484451,  0.02484451,  0.02484451,\n",
       "        0.02484451,  0.02484451,  0.02484451,  0.02484451,  0.02484451,\n",
       "        0.02484451,  0.02484451,  0.02484451,  0.02484451,  0.02484451,\n",
       "        0.02484451,  0.02484451,  0.02484451,  0.02484451,  0.02484451,\n",
       "        0.02484451,  0.02484451,  0.02484451,  0.02484451,  0.02484451,\n",
       "        0.02484451,  0.02484451,  0.02484451,  0.02484451,  0.02484451,\n",
       "        0.02484451,  0.02484451,  0.02484451,  0.02484451,  0.02484451])"
      ]
     },
     "execution_count": 92,
     "metadata": {},
     "output_type": "execute_result"
    }
   ],
   "source": [
    "yerr"
   ]
  },
  {
   "cell_type": "markdown",
   "metadata": {},
   "source": [
    "### Working example ( for tuning and checking for failure modes)"
   ]
  },
  {
   "cell_type": "code",
   "execution_count": 155,
   "metadata": {},
   "outputs": [
    {
     "name": "stdout",
     "output_type": "stream",
     "text": [
      "[-3.21887582 -4.60517019]\n",
      "[(-7.8240460108562919, -0.71334988787746489), (-5.0106352940962555, 0.0)]\n",
      "tau_fit 150.0\n",
      "sigma_fit 0.188198660469\n"
     ]
    },
    {
     "data": {
      "text/plain": [
       "<matplotlib.collections.PolyCollection at 0x1438a1438>"
      ]
     },
     "execution_count": 155,
     "metadata": {},
     "output_type": "execute_result"
    },
    {
     "data": {
      "image/png": "[encoded data removed]",
      "text/plain": [
       "<matplotlib.figure.Figure at 0x120511080>"
      ]
     },
     "metadata": {},
     "output_type": "display_data"
    }
   ],
   "source": [
    "sigma_in = 0.2\n",
    "tau_in = 100\n",
    "SF_inf =  sigma_in * np.sqrt(2)\n",
    "\n",
    "kernel = terms.RealTerm(log_a = 2 * np.log(sigma_in) , \n",
    "                        log_c = np.log(1.0/tau_in))\n",
    "\n",
    "t = np.sort(np.random.uniform(0,1000, 2000)) \n",
    "y = mod.sim_DRW_lightcurve(t, SF_inf, tau_in , 18)\n",
    "\n",
    "I = 18\n",
    "#variance = 0.004**2.0 + np.exp(1.63 * (I - 22.55))  \n",
    "yerr = 0.0248 #np.ones_like(t)* np.sqrt(variance)\n",
    "\n",
    "gp = celerite.GP(kernel, mean=np.mean(y))\n",
    "gp.compute(t, yerr)\n",
    "\n",
    "# set initial params \n",
    "initial_params = gp.get_parameter_vector()\n",
    "print(initial_params)\n",
    "#bounds = gp.get_parameter_bounds()\n",
    "\n",
    "def neg_log_like(params, y, gp):\n",
    "    gp.set_parameter_vector(params)\n",
    "    return -gp.log_likelihood(y)\n",
    "\n",
    "set_bounds = True \n",
    "if set_bounds:\n",
    "    sig_lims = [0.02, 0.7]  ; tau_lims = [1,150]\n",
    "    tau_bounds, sigma_bounds = tau_lims, sig_lims\n",
    "    loga_bounds = (2*np.log(min(sigma_bounds)), \n",
    "                   2*np.log(max(sigma_bounds)))\n",
    "\n",
    "    logc_bounds= (np.log(1/max(tau_bounds)), \n",
    "                  np.log(1/ min(tau_bounds))         )\n",
    "\n",
    "    bounds = [loga_bounds, logc_bounds]\n",
    "\n",
    "else : # - inf to + inf \n",
    "    bounds = gp.get_parameter_bounds()\n",
    "print(bounds)\n",
    "\n",
    "r = minimize(neg_log_like, initial_params, \n",
    "         method=\"L-BFGS-B\", bounds=bounds, args=(y, gp))\n",
    "gp.set_parameter_vector(r.x)\n",
    "#print(r)\n",
    "res = gp.get_parameter_dict()\n",
    "\n",
    "tau_fit = np.exp(-res['kernel:log_c'])\n",
    "sigma_fit = np.exp(res['kernel:log_a']/2)\n",
    "print('tau_fit', tau_fit)\n",
    "print('sigma_fit', sigma_fit )\n",
    "\n",
    "x = np.linspace(min(t), max(t), 5000)\n",
    "pred_mean, pred_var = gp.predict(y, x, return_var=True)\n",
    "pred_std = np.sqrt(pred_var)\n",
    "\n",
    "color = \"#ff7f0e\"\n",
    "fig,ax = plt.subplots(1,1,figsize=(8,6))\n",
    "ax.errorbar(t, y, yerr=yerr, fmt=\".k\", capsize=0)\n",
    "ax.plot(x, pred_mean, color=color)\n",
    "ax.fill_between(x, pred_mean+pred_std, pred_mean-pred_std, \n",
    "                 color=color, alpha=0.3,\n",
    "                 )"
   ]
  },
  {
   "cell_type": "code",
   "execution_count": 138,
   "metadata": {},
   "outputs": [
    {
     "data": {
      "text/plain": [
       "array([ 18.00600839,  18.00713034,  18.00870153, ...,  18.06114955,\n",
       "        18.06396778,  18.06581509])"
      ]
     },
     "execution_count": 138,
     "metadata": {},
     "output_type": "execute_result"
    }
   ],
   "source": [
    "pred_mean"
   ]
  },
  {
   "cell_type": "code",
   "execution_count": 90,
   "metadata": {},
   "outputs": [
    {
     "data": {
      "text/plain": [
       "2916"
      ]
     },
     "execution_count": 90,
     "metadata": {},
     "output_type": "execute_result"
    }
   ],
   "source": [
    "max(t)"
   ]
  },
  {
   "cell_type": "code",
   "execution_count": 89,
   "metadata": {},
   "outputs": [
    {
     "data": {
      "text/plain": [
       "<matplotlib.collections.PolyCollection at 0x1223f0cf8>"
      ]
     },
     "execution_count": 89,
     "metadata": {},
     "output_type": "execute_result"
    },
    {
     "data": {
      "image/png": "[encoded data removed]",
      "text/plain": [
       "<matplotlib.figure.Figure at 0x1235c42e8>"
      ]
     },
     "metadata": {},
     "output_type": "display_data"
    }
   ],
   "source": []
  },
  {
   "cell_type": "code",
   "execution_count": 61,
   "metadata": {},
   "outputs": [
    {
     "name": "stdout",
     "output_type": "stream",
     "text": [
      "Initial log likelihood: -6.756596382629269\n",
      "      fun: -16.56320171269553\n",
      " hess_inv: <5x5 LbfgsInvHessProduct with dtype=float64>\n",
      "      jac: array([  2.84217094e-06,   1.05160325e-04,  -4.54747351e-05,\n",
      "        -5.68434189e-06,  -5.20117283e-04])\n",
      "  message: b'CONVERGENCE: REL_REDUCTION_OF_F_<=_FACTR*EPSMCH'\n",
      "     nfev: 252\n",
      "      nit: 30\n",
      "   status: 0\n",
      "  success: True\n",
      "        x: array([ 3.277941  , -2.02450473, -4.16135883,  2.34185049,  1.13554439])\n"
     ]
    },
    {
     "data": {
      "image/png": "[encoded data removed]",
      "text/plain": [
       "<matplotlib.figure.Figure at 0x122415c88>"
      ]
     },
     "metadata": {},
     "output_type": "display_data"
    }
   ],
   "source": [
    "import numpy as np\n",
    "import matplotlib.pyplot as plt\n",
    "np.random.seed(42)\n",
    "\n",
    "t = np.sort(np.append(\n",
    "    np.random.uniform(0, 3.8, 57),\n",
    "    np.random.uniform(5.5, 10, 68),\n",
    "))  # The input coordinates must be sorted\n",
    "yerr = np.random.uniform(0.08, 0.22, len(t))\n",
    "y = 0.2 * (t-5) + np.sin(3*t + 0.1*(t-5)**2) + yerr * np.random.randn(len(t))\n",
    "\n",
    "true_t = np.linspace(0, 10, 5000)\n",
    "true_y = 0.2 * (true_t-5) + np.sin(3*true_t + 0.1*(true_t-5)**2)\n",
    "\n",
    "plt.plot(true_t, true_y, \"k\", lw=1.5, alpha=0.3)\n",
    "plt.errorbar(t, y, yerr=yerr, fmt=\".k\", capsize=0)\n",
    "plt.xlabel(\"x\")\n",
    "plt.ylabel(\"y\")\n",
    "plt.xlim(0, 10)\n",
    "plt.ylim(-2.5, 2.5);\n",
    "\n",
    "import celerite\n",
    "from celerite import terms\n",
    "\n",
    "# A non-periodic component\n",
    "Q = 1.0 / np.sqrt(2.0)\n",
    "w0 = 3.0\n",
    "S0 = np.var(y) / (w0 * Q)\n",
    "bounds = dict(log_S0=(-15, 15), log_Q=(-15, 15), log_omega0=(-15, 15))\n",
    "kernel = terms.SHOTerm(log_S0=np.log(S0), log_Q=np.log(Q), log_omega0=np.log(w0),\n",
    "                       bounds=bounds)\n",
    "kernel.freeze_parameter(\"log_Q\")  # We don't want to fit for \"Q\" in this term\n",
    "\n",
    "# A periodic component\n",
    "Q = 1.0\n",
    "w0 = 3.0\n",
    "S0 = np.var(y) / (w0 * Q)\n",
    "kernel += terms.SHOTerm(log_S0=np.log(S0), log_Q=np.log(Q), log_omega0=np.log(w0),\n",
    "                        bounds=bounds)\n",
    "\n",
    "\n",
    "gp = celerite.GP(kernel, mean=np.mean(y))\n",
    "gp.compute(t, yerr)  # You always need to call compute once.\n",
    "print(\"Initial log likelihood: {0}\".format(gp.log_likelihood(y)))\n",
    "\n",
    "from scipy.optimize import minimize\n",
    "\n",
    "def neg_log_like(params, y, gp):\n",
    "    gp.set_parameter_vector(params)\n",
    "    return -gp.log_likelihood(y)\n",
    "\n",
    "initial_params = gp.get_parameter_vector()\n",
    "bounds = gp.get_parameter_bounds()\n",
    "\n",
    "r = minimize(neg_log_like, initial_params, method=\"L-BFGS-B\", bounds=bounds, args=(y, gp))\n",
    "gp.set_parameter_vector(r.x)\n",
    "print(r)\n",
    "\n",
    "gp.get_parameter_dict()\n",
    "\n",
    "x = np.linspace(0, 10, 5000)\n",
    "pred_mean, pred_var = gp.predict(y, x, return_var=True)\n",
    "pred_std = np.sqrt(pred_var)\n",
    "\n",
    "color = \"#ff7f0e\"\n",
    "plt.plot(true_t, true_y, \"k\", lw=1.5, alpha=0.3)\n",
    "plt.errorbar(t, y, yerr=yerr, fmt=\".k\", capsize=0)\n",
    "plt.plot(x, pred_mean, color=color)\n",
    "plt.fill_between(x, pred_mean+pred_std, pred_mean-pred_std, color=color, alpha=0.3,\n",
    "                 edgecolor=\"none\")\n",
    "plt.xlabel(\"x\")\n",
    "plt.ylabel(\"y\")\n",
    "plt.xlim(0, 10)\n",
    "plt.ylim(-2.5, 2.5);"
   ]
  },
  {
   "cell_type": "code",
   "execution_count": 60,
   "metadata": {},
   "outputs": [],
   "source": [
    "gp.predict?"
   ]
  },
  {
   "cell_type": "code",
   "execution_count": 37,
   "metadata": {},
   "outputs": [
    {
     "name": "stderr",
     "output_type": "stream",
     "text": [
      "/Users/chris/anaconda3/envs/py36/lib/python3.6/site-packages/ipykernel_launcher.py:4: RuntimeWarning: invalid value encountered in true_divide\n",
      "  after removing the cwd from sys.path.\n"
     ]
    },
    {
     "data": {
      "text/plain": [
       "<matplotlib.text.Text at 0x11cfb67f0>"
      ]
     },
     "execution_count": 37,
     "metadata": {},
     "output_type": "execute_result"
    },
    {
     "data": {
      "image/png": "[encoded data removed]",
      "text/plain": [
       "<matplotlib.figure.Figure at 0x118ba37f0>"
      ]
     },
     "metadata": {},
     "output_type": "display_data"
    }
   ],
   "source": [
    "x = -logPosterior\n",
    "shift = x-min(np.ravel(x))\n",
    "norm = np.sum(shift)\n",
    "z = shift / norm\n",
    "\n",
    "fig = plt.figure(figsize=(10, 10))\n",
    "\n",
    "# first axis: likelihood contours\n",
    "ax1 = fig.add_axes((0.4, 0.4, 0.55, 0.55))\n",
    "ax1.xaxis.set_major_formatter(plt.NullFormatter())\n",
    "ax1.yaxis.set_major_formatter(plt.NullFormatter())\n",
    "\n",
    "ax1.imshow(z, extent=(tau_grid[0], tau_grid[-1], \n",
    "                      sigma_grid[0], sigma_grid[-1]),\n",
    "         cmap=plt.cm.get_cmap('RdYlBu'),vmax=1e-4,\n",
    "        aspect='auto', origin='lower')\n",
    "ax1.set_ylabel(r'$\\sigma$')\n",
    "ax1.set_xlabel(r'$\\tau$')\n",
    "\n"
   ]
  },
  {
   "cell_type": "code",
   "execution_count": 3,
   "metadata": {
    "collapsed": true
   },
   "outputs": [],
   "source": [
    "\n",
    "# the core of the adaptative grid code \n",
    "def find_new_limits(grid, logP, param = 'sigma', threshold=0.1 ,\n",
    "                    verbose=True):\n",
    "    dx = grid[1] - grid[0]\n",
    "    if param is 'tau':\n",
    "        p_x = np.exp(logP).sum(0)\n",
    "    if param is 'sigma':\n",
    "        p_x = np.exp(logP).sum(1)\n",
    "    p_x /= p_x.sum() * (dx)  # this ensures probability adds up to 1 \n",
    "    p_x /= max(p_x)  # this ensures that max prob is 1 \n",
    "\n",
    "    min_idx = np.where(p_x > threshold)[0][0]  \n",
    "    max_idx = np.where(p_x > threshold)[0][-1]\n",
    "    print(min_idx, max_idx, grid[min_idx], grid[max_idx])\n",
    "    \n",
    "    # case where the beginning of grid is the beginning of peak.... \n",
    "    if max_idx == 0 : \n",
    "        if param is 'tau':\n",
    "            new_min = 1 \n",
    "            new_max = 0.2 * grid[1]\n",
    "            \n",
    "        if param is 'sigma':\n",
    "            new_min = 0.1 * min(grid)\n",
    "            new_max = grid[1]\n",
    "            \n",
    "        if verbose:\n",
    "            print('max_idx = 0')\n",
    "\n",
    "    # case where the peak is really close to the  \n",
    "    # initial beginning of the grid ... \n",
    "    # need to lower the grid limit below the initial value ... \n",
    "    elif ( (min_idx >= 0) * (min_idx < 5) * ((max_idx) <= len(grid)) ): \n",
    "        new_min = 0.5 * min(grid)\n",
    "        new_max = grid[max_idx]\n",
    "        if verbose:\n",
    "            print('peak very close to the grid minimum')\n",
    "\n",
    "    # case where the peak is well contained within\n",
    "    # the actual grid\n",
    "    elif (min_idx >= 5) * ((max_idx+5) <= len(grid)):\n",
    "        new_min = grid[min_idx-2]\n",
    "        new_max = grid[max_idx+2]\n",
    "        if verbose:\n",
    "            print('peak contained in the grid ')\n",
    "\n",
    "    # case where the beginning is well contained, \n",
    "    # and the end is less than 5 units away\n",
    "    # from the edge \n",
    "    elif (min_idx >= 5) *((min_idx +5)<= len(grid)) * ((max_idx+5) > len(grid)):\n",
    "        new_min = grid[min_idx-2]\n",
    "        new_max = grid[max_idx]\n",
    "        if verbose:\n",
    "            print('peak end close to the edge of the  grid ')\n",
    "    # case where the beginnig of the peak \n",
    "    # is close to the end of the grid \n",
    "    # we need to move the minimum closer to the end \n",
    "    # and extend the maximum...\n",
    "    elif (min_idx + 5) > len(grid) : \n",
    "        new_min = grid[min_idx-2]\n",
    "        new_max = 1.5 * max(grid)\n",
    "        if verbose:\n",
    "            print('peak close to the grid maximum ')\n",
    "            \n",
    "\n",
    "    new_limits = [new_min, new_max]\n",
    "    \n",
    "    print('New ',param,' limits are: ', new_limits)\n",
    "    \n",
    "    return new_limits\n",
    "\n"
   ]
  },
  {
   "cell_type": "code",
   "execution_count": null,
   "metadata": {
    "collapsed": true
   },
   "outputs": [],
   "source": [
    "sigma_grid = np.linspace(sig_lims[0], sig_lims[1],N )\n",
    "tau_grid  = np.linspace(tau_lims[0], tau_lims[1], N)\n",
    "log_a_grid = 2 * np.log(sigma_grid)\n",
    "log_c_grid = np.log(1/tau_grid)\n",
    "\n",
    "# loop over the likelihood space .... \n",
    "logPosterior = np.zeros([N,N], dtype=float)\n",
    "for k in range(len(log_a_grid)):\n",
    "    for l in range(len(log_c_grid)):\n",
    "        params = [log_a_grid[k],log_c_grid[l]]    \n",
    "        logPosterior[k,l] = calculate_log_posterior(prior, params,y,gp)\n",
    "                \n",
    "find_new_limits(grid, logP, param = 'sigma', threshold=0.1 ,\n",
    "                    verbose=True):"
   ]
  }
 ],
 "metadata": {
  "kernelspec": {
   "display_name": "Python 3",
   "language": "python",
   "name": "python3"
  },
  "language_info": {
   "codemirror_mode": {
    "name": "ipython",
    "version": 3
   },
   "file_extension": ".py",
   "mimetype": "text/x-python",
   "name": "python",
   "nbconvert_exporter": "python",
   "pygments_lexer": "ipython3",
   "version": "3.6.2"
  }
 },
 "nbformat": 4,
 "nbformat_minor": 2
}
